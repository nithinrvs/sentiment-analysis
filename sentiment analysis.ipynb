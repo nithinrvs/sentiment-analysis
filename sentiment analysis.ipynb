{
  "cells": [
    {
      "cell_type": "markdown",
      "source": [
        "# **SENTIMENT ANALYSIS OF TELUGU PRODUCT REVIEWS WITH MACHINE LEARNING**"
      ],
      "metadata": {
        "id": "PWllldvx2eWv"
      }
    },
    {
      "cell_type": "markdown",
      "metadata": {
        "id": "ln5aLET6Jpah"
      },
      "source": [
        "## **Importing libraries**"
      ]
    },
    {
      "cell_type": "code",
      "execution_count": null,
      "metadata": {
        "colab": {
          "base_uri": "https://localhost:8080/"
        },
        "id": "wcAfalryJolP",
        "outputId": "ac52364b-9755-4819-bf5b-6e55f89911e5"
      },
      "outputs": [
        {
          "output_type": "stream",
          "name": "stderr",
          "text": [
            "[nltk_data] Downloading package punkt to /root/nltk_data...\n",
            "[nltk_data]   Package punkt is already up-to-date!\n"
          ]
        },
        {
          "output_type": "execute_result",
          "data": {
            "text/plain": [
              "True"
            ]
          },
          "metadata": {},
          "execution_count": 30
        }
      ],
      "source": [
        "import pandas as pd\n",
        "import numpy as np\n",
        "import nltk\n",
        "from nltk.util import ngrams\n",
        "from sklearn.utils import shuffle\n",
        "import pandas as pd\n",
        "import numpy as np\n",
        "\n",
        "from sklearn.model_selection import train_test_split\n",
        "import string\n",
        "import re\n",
        "import nltk\n",
        "nltk.download(\"punkt\")"
      ]
    },
    {
      "cell_type": "markdown",
      "metadata": {
        "id": "vxe0SAxdIs3B"
      },
      "source": [
        "## **Importing the dataset**\n",
        "\n"
      ]
    },
    {
      "cell_type": "markdown",
      "source": [
        "A part of Sentiraama corpus (created by IIIT Hyderabad) is used for this project. specifically electronical product reviews are taken and both positive and negative reviews are mixed and stored in a dataframe."
      ],
      "metadata": {
        "id": "CwuyDSfF4Drt"
      }
    },
    {
      "cell_type": "code",
      "execution_count": null,
      "metadata": {
        "id": "b64ynVvW-wj5"
      },
      "outputs": [],
      "source": [
        "def read_file_sections(filename):\n",
        "    sections = []\n",
        "    current_section = \"\"\n",
        "\n",
        "    with open(filename, 'r', encoding='utf-8') as file:\n",
        "        for line in file:\n",
        "            if line.strip() == \"__________________________\":\n",
        "                if current_section:\n",
        "                    sections.append(current_section.strip())\n",
        "                    current_section = \"\"\n",
        "            else:\n",
        "                current_section += line\n",
        "\n",
        "    if current_section:\n",
        "        sections.append(current_section.strip())\n",
        "\n",
        "    return sections\n"
      ]
    },
    {
      "cell_type": "code",
      "execution_count": null,
      "metadata": {
        "id": "6ZCJpHOB_3sL"
      },
      "outputs": [],
      "source": [
        "positive = read_file_sections(r\"/content/product_pos.txt\")"
      ]
    },
    {
      "cell_type": "code",
      "execution_count": null,
      "metadata": {
        "id": "DhZO4g2l__Y3"
      },
      "outputs": [],
      "source": [
        "negative = read_file_sections(r\"/content/product_neg.txt\")"
      ]
    },
    {
      "cell_type": "code",
      "execution_count": null,
      "metadata": {
        "id": "neolqr_WHrlp"
      },
      "outputs": [],
      "source": [
        "df_negative = pd.DataFrame({'text': negative, 'label': 0})\n",
        "df_positive = pd.DataFrame({'text': positive, 'label': 1})\n",
        "\n",
        "# Concatenate and shuffle\n",
        "df = pd.concat([df_negative, df_positive], ignore_index=True)\n",
        "df = shuffle(df).reset_index(drop=True)\n"
      ]
    },
    {
      "cell_type": "code",
      "execution_count": null,
      "metadata": {
        "colab": {
          "base_uri": "https://localhost:8080/",
          "height": 423
        },
        "id": "fShJMfHTJdo8",
        "outputId": "49947780-5f03-4c4c-e8d6-3b0c0e4efb09"
      },
      "outputs": [
        {
          "output_type": "execute_result",
          "data": {
            "text/plain": [
              "                                                  text  label\n",
              "0    ఇది ఉపయోగించడానికి భయంకరమైన కెమెరా  ఈ కెమెరా న...      0\n",
              "1    LG43LH600T LEDTV  పిక్చర్ నాణ్యత అస్సలు బాగోలే...      0\n",
              "2    బడ్జెట్ ఫోన్గా నేటి మధ్యతరగతి ప్రజలకు అందుబాటు...      1\n",
              "3    HD రెడీ LED TV  బ్లాక్  5 లో 4 3  మొత్తం 16 కస...      0\n",
              "4    సామ్సంగ్ ఒక ప్రపంచ ఉనికిని కలిగిన దక్షిణ ఖొరియ...      1\n",
              "..                                                 ...    ...\n",
              "195  హలో ఫ్రెండ్స్ నేను ఈ ఫోన్ ను 4 నెలల నుండి ఉపయో...      0\n",
              "196  ఈ కెమెరా ఉపయోగించడానికి మంచిది కాదు దాని కెమెర...      0\n",
              "197  సామ్సంగ్ LED చాలా మంచి టెలివిజన్ మీ ఎంపిక ప్రక...      1\n",
              "198  ఈ ప్రోడక్ట్ లోని సౌండ్ నాణ్యత  పిక్చర్ నాణ్యతత...      1\n",
              "199  ఉపయోగించడానికి నిజంగా చాలా పోర్టబుల్గా ఉంది మర...      1\n",
              "\n",
              "[200 rows x 2 columns]"
            ],
            "text/html": [
              "\n",
              "  <div id=\"df-cb8029c6-a929-43c2-9a0e-1023ffec9571\" class=\"colab-df-container\">\n",
              "    <div>\n",
              "<style scoped>\n",
              "    .dataframe tbody tr th:only-of-type {\n",
              "        vertical-align: middle;\n",
              "    }\n",
              "\n",
              "    .dataframe tbody tr th {\n",
              "        vertical-align: top;\n",
              "    }\n",
              "\n",
              "    .dataframe thead th {\n",
              "        text-align: right;\n",
              "    }\n",
              "</style>\n",
              "<table border=\"1\" class=\"dataframe\">\n",
              "  <thead>\n",
              "    <tr style=\"text-align: right;\">\n",
              "      <th></th>\n",
              "      <th>text</th>\n",
              "      <th>label</th>\n",
              "    </tr>\n",
              "  </thead>\n",
              "  <tbody>\n",
              "    <tr>\n",
              "      <th>0</th>\n",
              "      <td>ఇది ఉపయోగించడానికి భయంకరమైన కెమెరా  ఈ కెమెరా న...</td>\n",
              "      <td>0</td>\n",
              "    </tr>\n",
              "    <tr>\n",
              "      <th>1</th>\n",
              "      <td>LG43LH600T LEDTV  పిక్చర్ నాణ్యత అస్సలు బాగోలే...</td>\n",
              "      <td>0</td>\n",
              "    </tr>\n",
              "    <tr>\n",
              "      <th>2</th>\n",
              "      <td>బడ్జెట్ ఫోన్గా నేటి మధ్యతరగతి ప్రజలకు అందుబాటు...</td>\n",
              "      <td>1</td>\n",
              "    </tr>\n",
              "    <tr>\n",
              "      <th>3</th>\n",
              "      <td>HD రెడీ LED TV  బ్లాక్  5 లో 4 3  మొత్తం 16 కస...</td>\n",
              "      <td>0</td>\n",
              "    </tr>\n",
              "    <tr>\n",
              "      <th>4</th>\n",
              "      <td>సామ్సంగ్ ఒక ప్రపంచ ఉనికిని కలిగిన దక్షిణ ఖొరియ...</td>\n",
              "      <td>1</td>\n",
              "    </tr>\n",
              "    <tr>\n",
              "      <th>...</th>\n",
              "      <td>...</td>\n",
              "      <td>...</td>\n",
              "    </tr>\n",
              "    <tr>\n",
              "      <th>195</th>\n",
              "      <td>హలో ఫ్రెండ్స్ నేను ఈ ఫోన్ ను 4 నెలల నుండి ఉపయో...</td>\n",
              "      <td>0</td>\n",
              "    </tr>\n",
              "    <tr>\n",
              "      <th>196</th>\n",
              "      <td>ఈ కెమెరా ఉపయోగించడానికి మంచిది కాదు దాని కెమెర...</td>\n",
              "      <td>0</td>\n",
              "    </tr>\n",
              "    <tr>\n",
              "      <th>197</th>\n",
              "      <td>సామ్సంగ్ LED చాలా మంచి టెలివిజన్ మీ ఎంపిక ప్రక...</td>\n",
              "      <td>1</td>\n",
              "    </tr>\n",
              "    <tr>\n",
              "      <th>198</th>\n",
              "      <td>ఈ ప్రోడక్ట్ లోని సౌండ్ నాణ్యత  పిక్చర్ నాణ్యతత...</td>\n",
              "      <td>1</td>\n",
              "    </tr>\n",
              "    <tr>\n",
              "      <th>199</th>\n",
              "      <td>ఉపయోగించడానికి నిజంగా చాలా పోర్టబుల్గా ఉంది మర...</td>\n",
              "      <td>1</td>\n",
              "    </tr>\n",
              "  </tbody>\n",
              "</table>\n",
              "<p>200 rows × 2 columns</p>\n",
              "</div>\n",
              "    <div class=\"colab-df-buttons\">\n",
              "\n",
              "  <div class=\"colab-df-container\">\n",
              "    <button class=\"colab-df-convert\" onclick=\"convertToInteractive('df-cb8029c6-a929-43c2-9a0e-1023ffec9571')\"\n",
              "            title=\"Convert this dataframe to an interactive table.\"\n",
              "            style=\"display:none;\">\n",
              "\n",
              "  <svg xmlns=\"http://www.w3.org/2000/svg\" height=\"24px\" viewBox=\"0 -960 960 960\">\n",
              "    <path d=\"M120-120v-720h720v720H120Zm60-500h600v-160H180v160Zm220 220h160v-160H400v160Zm0 220h160v-160H400v160ZM180-400h160v-160H180v160Zm440 0h160v-160H620v160ZM180-180h160v-160H180v160Zm440 0h160v-160H620v160Z\"/>\n",
              "  </svg>\n",
              "    </button>\n",
              "\n",
              "  <style>\n",
              "    .colab-df-container {\n",
              "      display:flex;\n",
              "      gap: 12px;\n",
              "    }\n",
              "\n",
              "    .colab-df-convert {\n",
              "      background-color: #E8F0FE;\n",
              "      border: none;\n",
              "      border-radius: 50%;\n",
              "      cursor: pointer;\n",
              "      display: none;\n",
              "      fill: #1967D2;\n",
              "      height: 32px;\n",
              "      padding: 0 0 0 0;\n",
              "      width: 32px;\n",
              "    }\n",
              "\n",
              "    .colab-df-convert:hover {\n",
              "      background-color: #E2EBFA;\n",
              "      box-shadow: 0px 1px 2px rgba(60, 64, 67, 0.3), 0px 1px 3px 1px rgba(60, 64, 67, 0.15);\n",
              "      fill: #174EA6;\n",
              "    }\n",
              "\n",
              "    .colab-df-buttons div {\n",
              "      margin-bottom: 4px;\n",
              "    }\n",
              "\n",
              "    [theme=dark] .colab-df-convert {\n",
              "      background-color: #3B4455;\n",
              "      fill: #D2E3FC;\n",
              "    }\n",
              "\n",
              "    [theme=dark] .colab-df-convert:hover {\n",
              "      background-color: #434B5C;\n",
              "      box-shadow: 0px 1px 3px 1px rgba(0, 0, 0, 0.15);\n",
              "      filter: drop-shadow(0px 1px 2px rgba(0, 0, 0, 0.3));\n",
              "      fill: #FFFFFF;\n",
              "    }\n",
              "  </style>\n",
              "\n",
              "    <script>\n",
              "      const buttonEl =\n",
              "        document.querySelector('#df-cb8029c6-a929-43c2-9a0e-1023ffec9571 button.colab-df-convert');\n",
              "      buttonEl.style.display =\n",
              "        google.colab.kernel.accessAllowed ? 'block' : 'none';\n",
              "\n",
              "      async function convertToInteractive(key) {\n",
              "        const element = document.querySelector('#df-cb8029c6-a929-43c2-9a0e-1023ffec9571');\n",
              "        const dataTable =\n",
              "          await google.colab.kernel.invokeFunction('convertToInteractive',\n",
              "                                                    [key], {});\n",
              "        if (!dataTable) return;\n",
              "\n",
              "        const docLinkHtml = 'Like what you see? Visit the ' +\n",
              "          '<a target=\"_blank\" href=https://colab.research.google.com/notebooks/data_table.ipynb>data table notebook</a>'\n",
              "          + ' to learn more about interactive tables.';\n",
              "        element.innerHTML = '';\n",
              "        dataTable['output_type'] = 'display_data';\n",
              "        await google.colab.output.renderOutput(dataTable, element);\n",
              "        const docLink = document.createElement('div');\n",
              "        docLink.innerHTML = docLinkHtml;\n",
              "        element.appendChild(docLink);\n",
              "      }\n",
              "    </script>\n",
              "  </div>\n",
              "\n",
              "\n",
              "<div id=\"df-c3f7bd97-be01-4c3e-b2ce-5d427912b07a\">\n",
              "  <button class=\"colab-df-quickchart\" onclick=\"quickchart('df-c3f7bd97-be01-4c3e-b2ce-5d427912b07a')\"\n",
              "            title=\"Suggest charts\"\n",
              "            style=\"display:none;\">\n",
              "\n",
              "<svg xmlns=\"http://www.w3.org/2000/svg\" height=\"24px\"viewBox=\"0 0 24 24\"\n",
              "     width=\"24px\">\n",
              "    <g>\n",
              "        <path d=\"M19 3H5c-1.1 0-2 .9-2 2v14c0 1.1.9 2 2 2h14c1.1 0 2-.9 2-2V5c0-1.1-.9-2-2-2zM9 17H7v-7h2v7zm4 0h-2V7h2v10zm4 0h-2v-4h2v4z\"/>\n",
              "    </g>\n",
              "</svg>\n",
              "  </button>\n",
              "\n",
              "<style>\n",
              "  .colab-df-quickchart {\n",
              "      --bg-color: #E8F0FE;\n",
              "      --fill-color: #1967D2;\n",
              "      --hover-bg-color: #E2EBFA;\n",
              "      --hover-fill-color: #174EA6;\n",
              "      --disabled-fill-color: #AAA;\n",
              "      --disabled-bg-color: #DDD;\n",
              "  }\n",
              "\n",
              "  [theme=dark] .colab-df-quickchart {\n",
              "      --bg-color: #3B4455;\n",
              "      --fill-color: #D2E3FC;\n",
              "      --hover-bg-color: #434B5C;\n",
              "      --hover-fill-color: #FFFFFF;\n",
              "      --disabled-bg-color: #3B4455;\n",
              "      --disabled-fill-color: #666;\n",
              "  }\n",
              "\n",
              "  .colab-df-quickchart {\n",
              "    background-color: var(--bg-color);\n",
              "    border: none;\n",
              "    border-radius: 50%;\n",
              "    cursor: pointer;\n",
              "    display: none;\n",
              "    fill: var(--fill-color);\n",
              "    height: 32px;\n",
              "    padding: 0;\n",
              "    width: 32px;\n",
              "  }\n",
              "\n",
              "  .colab-df-quickchart:hover {\n",
              "    background-color: var(--hover-bg-color);\n",
              "    box-shadow: 0 1px 2px rgba(60, 64, 67, 0.3), 0 1px 3px 1px rgba(60, 64, 67, 0.15);\n",
              "    fill: var(--button-hover-fill-color);\n",
              "  }\n",
              "\n",
              "  .colab-df-quickchart-complete:disabled,\n",
              "  .colab-df-quickchart-complete:disabled:hover {\n",
              "    background-color: var(--disabled-bg-color);\n",
              "    fill: var(--disabled-fill-color);\n",
              "    box-shadow: none;\n",
              "  }\n",
              "\n",
              "  .colab-df-spinner {\n",
              "    border: 2px solid var(--fill-color);\n",
              "    border-color: transparent;\n",
              "    border-bottom-color: var(--fill-color);\n",
              "    animation:\n",
              "      spin 1s steps(1) infinite;\n",
              "  }\n",
              "\n",
              "  @keyframes spin {\n",
              "    0% {\n",
              "      border-color: transparent;\n",
              "      border-bottom-color: var(--fill-color);\n",
              "      border-left-color: var(--fill-color);\n",
              "    }\n",
              "    20% {\n",
              "      border-color: transparent;\n",
              "      border-left-color: var(--fill-color);\n",
              "      border-top-color: var(--fill-color);\n",
              "    }\n",
              "    30% {\n",
              "      border-color: transparent;\n",
              "      border-left-color: var(--fill-color);\n",
              "      border-top-color: var(--fill-color);\n",
              "      border-right-color: var(--fill-color);\n",
              "    }\n",
              "    40% {\n",
              "      border-color: transparent;\n",
              "      border-right-color: var(--fill-color);\n",
              "      border-top-color: var(--fill-color);\n",
              "    }\n",
              "    60% {\n",
              "      border-color: transparent;\n",
              "      border-right-color: var(--fill-color);\n",
              "    }\n",
              "    80% {\n",
              "      border-color: transparent;\n",
              "      border-right-color: var(--fill-color);\n",
              "      border-bottom-color: var(--fill-color);\n",
              "    }\n",
              "    90% {\n",
              "      border-color: transparent;\n",
              "      border-bottom-color: var(--fill-color);\n",
              "    }\n",
              "  }\n",
              "</style>\n",
              "\n",
              "  <script>\n",
              "    async function quickchart(key) {\n",
              "      const quickchartButtonEl =\n",
              "        document.querySelector('#' + key + ' button');\n",
              "      quickchartButtonEl.disabled = true;  // To prevent multiple clicks.\n",
              "      quickchartButtonEl.classList.add('colab-df-spinner');\n",
              "      try {\n",
              "        const charts = await google.colab.kernel.invokeFunction(\n",
              "            'suggestCharts', [key], {});\n",
              "      } catch (error) {\n",
              "        console.error('Error during call to suggestCharts:', error);\n",
              "      }\n",
              "      quickchartButtonEl.classList.remove('colab-df-spinner');\n",
              "      quickchartButtonEl.classList.add('colab-df-quickchart-complete');\n",
              "    }\n",
              "    (() => {\n",
              "      let quickchartButtonEl =\n",
              "        document.querySelector('#df-c3f7bd97-be01-4c3e-b2ce-5d427912b07a button');\n",
              "      quickchartButtonEl.style.display =\n",
              "        google.colab.kernel.accessAllowed ? 'block' : 'none';\n",
              "    })();\n",
              "  </script>\n",
              "</div>\n",
              "\n",
              "  <div id=\"id_e736a01b-d7f4-4c67-b06f-61a9c0b8efd3\">\n",
              "    <style>\n",
              "      .colab-df-generate {\n",
              "        background-color: #E8F0FE;\n",
              "        border: none;\n",
              "        border-radius: 50%;\n",
              "        cursor: pointer;\n",
              "        display: none;\n",
              "        fill: #1967D2;\n",
              "        height: 32px;\n",
              "        padding: 0 0 0 0;\n",
              "        width: 32px;\n",
              "      }\n",
              "\n",
              "      .colab-df-generate:hover {\n",
              "        background-color: #E2EBFA;\n",
              "        box-shadow: 0px 1px 2px rgba(60, 64, 67, 0.3), 0px 1px 3px 1px rgba(60, 64, 67, 0.15);\n",
              "        fill: #174EA6;\n",
              "      }\n",
              "\n",
              "      [theme=dark] .colab-df-generate {\n",
              "        background-color: #3B4455;\n",
              "        fill: #D2E3FC;\n",
              "      }\n",
              "\n",
              "      [theme=dark] .colab-df-generate:hover {\n",
              "        background-color: #434B5C;\n",
              "        box-shadow: 0px 1px 3px 1px rgba(0, 0, 0, 0.15);\n",
              "        filter: drop-shadow(0px 1px 2px rgba(0, 0, 0, 0.3));\n",
              "        fill: #FFFFFF;\n",
              "      }\n",
              "    </style>\n",
              "    <button class=\"colab-df-generate\" onclick=\"generateWithVariable('df')\"\n",
              "            title=\"Generate code using this dataframe.\"\n",
              "            style=\"display:none;\">\n",
              "\n",
              "  <svg xmlns=\"http://www.w3.org/2000/svg\" height=\"24px\"viewBox=\"0 0 24 24\"\n",
              "       width=\"24px\">\n",
              "    <path d=\"M7,19H8.4L18.45,9,17,7.55,7,17.6ZM5,21V16.75L18.45,3.32a2,2,0,0,1,2.83,0l1.4,1.43a1.91,1.91,0,0,1,.58,1.4,1.91,1.91,0,0,1-.58,1.4L9.25,21ZM18.45,9,17,7.55Zm-12,3A5.31,5.31,0,0,0,4.9,8.1,5.31,5.31,0,0,0,1,6.5,5.31,5.31,0,0,0,4.9,4.9,5.31,5.31,0,0,0,6.5,1,5.31,5.31,0,0,0,8.1,4.9,5.31,5.31,0,0,0,12,6.5,5.46,5.46,0,0,0,6.5,12Z\"/>\n",
              "  </svg>\n",
              "    </button>\n",
              "    <script>\n",
              "      (() => {\n",
              "      const buttonEl =\n",
              "        document.querySelector('#id_e736a01b-d7f4-4c67-b06f-61a9c0b8efd3 button.colab-df-generate');\n",
              "      buttonEl.style.display =\n",
              "        google.colab.kernel.accessAllowed ? 'block' : 'none';\n",
              "\n",
              "      buttonEl.onclick = () => {\n",
              "        google.colab.notebook.generateWithVariable('df');\n",
              "      }\n",
              "      })();\n",
              "    </script>\n",
              "  </div>\n",
              "\n",
              "    </div>\n",
              "  </div>\n"
            ],
            "application/vnd.google.colaboratory.intrinsic+json": {
              "type": "dataframe",
              "variable_name": "df",
              "summary": "{\n  \"name\": \"df\",\n  \"rows\": 200,\n  \"fields\": [\n    {\n      \"column\": \"text\",\n      \"properties\": {\n        \"dtype\": \"string\",\n        \"num_unique_values\": 200,\n        \"samples\": [\n          \"\\u0c2c\\u0c3e\\u0c17\\u0c3e\\u0c28\\u0c47 \\u0c09\\u0c02\\u0c26\\u0c3f \\u0c2e\\u0c3e \\u0c2a\\u0c46\\u0c1f\\u0c4d\\u0c1f\\u0c41\\u0c2c\\u0c21\\u0c3f\\u0c15\\u0c3f \\u0c38\\u0c30\\u0c3f\\u0c2a\\u0c4b\\u0c24\\u0c41\\u0c02\\u0c26\\u0c3f \\u0c30\\u0c4b\\u0c1c\\u0c41 \\u0c2a\\u0c28\\u0c41\\u0c32\\u0c15\\u0c3f \\u0c2c\\u0c3e\\u0c17\\u0c3e \\u0c2a\\u0c28\\u0c3f\\u0c15\\u0c4a\\u0c38\\u0c4d\\u0c24\\u0c41\\u0c02\\u0c26\\u0c3f\",\n          \"\\u0c39\\u0c3e\\u0c2f\\u0c4d \\u0c17\\u0c2f\\u0c4d\\u0c38\\u0c4d \\u0c28\\u0c47\\u0c21\\u0c41 \\u0c28\\u0c47\\u0c28\\u0c41 \\u0c2e\\u0c40\\u0c24\\u0c4b \\u0c28\\u0c3e \\u0c38\\u0c3e\\u0c2e\\u0c4d\\u0c38\\u0c02\\u0c17\\u0c4d \\u0c17\\u0c46\\u0c32\\u0c3e\\u0c15\\u0c4d\\u0c38\\u0c40 j2 2016 \\u0c24\\u0c4b \\u0c09\\u0c28\\u0c4d\\u0c28 \\u0c05\\u0c28\\u0c41\\u0c2d\\u0c35\\u0c02 \\u0c17\\u0c41\\u0c30\\u0c3f\\u0c02\\u0c1a\\u0c3f \\u0c1a\\u0c46\\u0c2a\\u0c4d\\u0c2a\\u0c3e\\u0c32\\u0c28\\u0c41\\u0c15\\u0c41\\u0c02\\u0c1f\\u0c41\\u0c28\\u0c4d\\u0c28\\u0c3e\\u0c28\\u0c41  \\u0c08 \\u0c2b\\u0c4b\\u0c28\\u0c4d \\u0c2e\\u0c02\\u0c1a\\u0c3f\\u0c26\\u0c3f \\u0c2e\\u0c30\\u0c3f\\u0c2f\\u0c41 \\u0c38\\u0c30\\u0c38\\u0c2e\\u0c48\\u0c28 \\u0c27\\u0c30  \\u0c38\\u0c4c\\u0c02\\u0c21\\u0c4d \\u0c30\\u0c3f\\u0c38\\u0c46\\u0c2a\\u0c4d\\u0c37\\u0c28\\u0c4d - \\u0c1a\\u0c3e\\u0c32\\u0c3e \\u0c2c\\u0c3e\\u0c17\\u0c41\\u0c02\\u0c26\\u0c3f \\u0c39\\u0c46\\u0c21\\u0c4d\\u0c2b\\u0c4b\\u0c28\\u0c4d\\u0c38\\u0c4d \\u0c32\\u0c47\\u0c15\\u0c41\\u0c02\\u0c21\\u0c3e\\u0c28\\u0c47 \\u0c38\\u0c4c\\u0c02\\u0c21\\u0c4d \\u0c38\\u0c4d\\u0c2a\\u0c37\\u0c4d\\u0c1f\\u0c02\\u0c17\\u0c3e \\u0c35\\u0c3f\\u0c28\\u0c3f\\u0c2a\\u0c3f\\u0c38\\u0c4d\\u0c24\\u0c41\\u0c02\\u0c26\\u0c3f  \\u0c2f\\u0c42\\u0c1c\\u0c30\\u0c4d \\u0c2b\\u0c4d\\u0c30\\u0c46\\u0c02\\u0c21\\u0c4d\\u0c32\\u0c40 -  \\u0c08 \\u0c2b\\u0c4b\\u0c28\\u0c4d\\u0c28\\u0c41 \\u0c09\\u0c2a\\u0c2f\\u0c4b\\u0c17\\u0c3f\\u0c02\\u0c1a\\u0c3f\\u0c28 \\u0c24\\u0c30\\u0c4d\\u0c35\\u0c3e\\u0c24 \\u0c28\\u0c47\\u0c28\\u0c41 \\u0c17\\u0c4d\\u0c30\\u0c39\\u0c3f\\u0c02\\u0c1a\\u0c3e\\u0c28\\u0c41 \\u0c26\\u0c40\\u0c28\\u0c4d\\u0c28\\u0c3f \\u0c1a\\u0c3e\\u0c32\\u0c3e \\u0c38\\u0c41\\u0c32\\u0c2d\\u0c02\\u0c17\\u0c3e \\u0c09\\u0c2a\\u0c2f\\u0c4b\\u0c17\\u0c3f\\u0c02\\u0c1a\\u0c35\\u0c1a\\u0c4d\\u0c1a\\u0c41 \\u0c2e\\u0c30\\u0c3f\\u0c2f\\u0c41 \\u0c28\\u0c3f\\u0c1c\\u0c02\\u0c17\\u0c3e \\u0c2f\\u0c42\\u0c1c\\u0c30\\u0c4d \\u0c2b\\u0c4d\\u0c30\\u0c46\\u0c02\\u0c21\\u0c4d\\u0c32\\u0c40 \\u0c05\\u0c28\\u0c3f  \\u0c38\\u0c4d\\u0c1f\\u0c48\\u0c32\\u0c4d \\u0c2e\\u0c30\\u0c3f\\u0c2f\\u0c41 \\u0c21\\u0c3f\\u0c1c\\u0c46\\u0c56\\u0c28\\u0c4d -  \\u0c21\\u0c3f\\u0c1c\\u0c46\\u0c56\\u0c28\\u0c4d \\u0c17\\u0c41\\u0c30\\u0c3f\\u0c02\\u0c1a\\u0c3f \\u0c1a\\u0c46\\u0c2a\\u0c4d\\u0c2a\\u0c3e\\u0c32\\u0c4d\\u0c38\\u0c3f\\u0c28 \\u0c05\\u0c35\\u0c38\\u0c30\\u0c02 \\u0c32\\u0c47\\u0c26\\u0c41 \\u0c2e\\u0c40\\u0c30\\u0c47 \\u0c1a\\u0c42\\u0c21\\u0c4a\\u0c1a\\u0c4d\\u0c1a\\u0c41 \\u0c1a\\u0c3e\\u0c32\\u0c3e \\u0c05\\u0c26\\u0c4d\\u0c2d\\u0c41\\u0c24\\u0c02\\u0c17\\u0c3e \\u0c09\\u0c02\\u0c26\\u0c3f \\u0c35\\u0c46\\u0c28\\u0c41\\u0c15\\u0c35\\u0c48\\u0c2a\\u0c41 \\u0c21\\u0c3f\\u0c1c\\u0c46\\u0c56\\u0c28\\u0c4d \\u0c1a\\u0c3e\\u0c32\\u0c3e \\u0c2c\\u0c3e\\u0c17\\u0c41\\u0c02\\u0c26\\u0c3f \\u0c07\\u0c24\\u0c30 \\u0c2b\\u0c40\\u0c1a\\u0c30\\u0c4d\\u0c32\\u0c41 - \\u0c08 \\u0c38\\u0c4d\\u0c2e\\u0c3e\\u0c30\\u0c4d\\u0c1f\\u0c4d \\u0c2b\\u0c4b\\u0c28\\u0c4d\\u0c32\\u0c4b \\u0c28\\u0c3e\\u0c15\\u0c41 \\u0c07\\u0c37\\u0c4d\\u0c1f\\u0c2e\\u0c48\\u0c28 \\u0c2b\\u0c40\\u0c1a\\u0c30\\u0c4d\\u0c38\\u0c4d \\u0c12\\u0c15 \\u0c35\\u0c46\\u0c28\\u0c41\\u0c15 \\u0c32\\u0c48\\u0c1f\\u0c4d \\u0c07\\u0c28\\u0c4d\\u0c21\\u0c3f\\u0c15\\u0c47\\u0c1f\\u0c30\\u0c4d \\u0c2e\\u0c30\\u0c3f\\u0c2f\\u0c41 \\u0c0f\\u0c26\\u0c48\\u0c28\\u0c3e \\u0c15\\u0c3e\\u0c32\\u0c4d \\u0c32\\u0c47\\u0c26\\u0c3e \\u0c2e\\u0c46\\u0c38\\u0c47\\u0c1c\\u0c4d \\u0c35\\u0c1a\\u0c4d\\u0c1a\\u0c3f\\u0c28\\u0c2a\\u0c4d\\u0c2a\\u0c41\\u0c21\\u0c41 \\u0c35\\u0c46\\u0c32\\u0c3f\\u0c17\\u0c47 \\u0c26\\u0c3e\\u0c28\\u0c3f \\u0c2c\\u0c4d\\u0c32\\u0c4b \\u0c32\\u0c46\\u0c56\\u0c1f\\u0c4d \\u0c07\\u0c26\\u0c3f \\u0c15\\u0c42\\u0c32\\u0c4d \\u0c2b\\u0c40\\u0c1a\\u0c30\\u0c4d \\u0c2e\\u0c30\\u0c3f\\u0c2f\\u0c41 \\u0c07\\u0c24\\u0c30 \\u0c2b\\u0c40\\u0c1a\\u0c30\\u0c4d\\u0c32\\u0c41 \\u0c2e\\u0c02\\u0c1a\\u0c3f\\u0c35\\u0c47  \\u0c32\\u0c41\\u0c15\\u0c4d \\u0c2e\\u0c30\\u0c3f\\u0c2f\\u0c41 \\u0c2b\\u0c40\\u0c32\\u0c4d -  \\u0c07\\u0c26\\u0c3f \\u0c1a\\u0c47\\u0c24\\u0c3f\\u0c32\\u0c4b \\u0c1a\\u0c42\\u0c21\\u0c1f\\u0c3e\\u0c28\\u0c3f\\u0c15\\u0c3f \\u0c1a\\u0c3e\\u0c32\\u0c3e \\u0c2c\\u0c3e\\u0c17\\u0c41\\u0c02\\u0c26\\u0c3f \\u0c07\\u0c26\\u0c3f \\u0c1a\\u0c3e\\u0c32\\u0c3e \\u0c16\\u0c30\\u0c40\\u0c26\\u0c48\\u0c28 \\u0c2b\\u0c4b\\u0c28\\u0c4d\\u0c32\\u0c3e \\u0c05\\u0c28\\u0c3f\\u0c2a\\u0c3f\\u0c38\\u0c4d\\u0c24\\u0c41\\u0c02\\u0c26\\u0c3f \\u0c08 \\u0c2b\\u0c4b\\u0c28\\u0c4d \\u0c38\\u0c48\\u0c1c\\u0c41 \\u0c2c\\u0c3e\\u0c17\\u0c41\\u0c02\\u0c26\\u0c3f  \\u0c21\\u0c2c\\u0c4d\\u0c2c\\u0c41\\u0c15\\u0c41 \\u0c24\\u0c17\\u0c4d\\u0c17 \\u0c35\\u0c3f\\u0c32\\u0c41\\u0c35 - \\u0c16\\u0c30\\u0c40\\u0c26\\u0c48\\u0c28\\u0c26\\u0c3f \\u0c15\\u0c3e\\u0c26\\u0c41 \\u0c2e\\u0c40 \\u0c2c\\u0c21\\u0c4d\\u0c1c\\u0c46\\u0c1f\\u0c4d 10000 rs \\u0c05\\u0c2f\\u0c3f\\u0c24\\u0c47 \\u0c08 \\u0c2b\\u0c4b\\u0c28\\u0c4d \\u0c2c\\u0c46\\u0c38\\u0c4d\\u0c1f\\u0c4d \\u0c28\\u0c47\\u0c28\\u0c41 \\u0c2a\\u0c4d\\u0c30\\u0c24\\u0c3f \\u0c12\\u0c15\\u0c4d\\u0c15\\u0c30\\u0c42 \\u0c26\\u0c3e\\u0c28\\u0c3f\\u0c28\\u0c3f \\u0c15\\u0c4a\\u0c28\\u0c41\\u0c17\\u0c4b\\u0c32\\u0c41 \\u0c1a\\u0c47\\u0c2f\\u0c3e\\u0c32\\u0c28\\u0c41\\u0c15\\u0c41\\u0c02\\u0c1f\\u0c41\\u0c28\\u0c4d\\u0c28\\u0c3e\\u0c28\\u0c41 \\u0c35\\u0c3e\\u0c30\\u0c3f \\u0c2c\\u0c21\\u0c4d\\u0c1c\\u0c46\\u0c1f\\u0c4d 10000 \\u0c15\\u0c28\\u0c4d\\u0c28\\u0c3e \\u0c24\\u0c15\\u0c4d\\u0c15\\u0c41\\u0c35 \\u0c09\\u0c02\\u0c1f\\u0c47 \\u0c27\\u0c28\\u0c4d\\u0c2f\\u0c35\\u0c3e\\u0c26\\u0c3e\\u0c32\\u0c41\",\n          \"\\u0c39\\u0c3e\\u0c2f\\u0c4d \\u0c2b\\u0c4d\\u0c30\\u0c46\\u0c02\\u0c21\\u0c4d\\u0c38\\u0c4d  \\u0c2e\\u0c3e \\u0c28\\u0c3e\\u0c28\\u0c4d\\u0c28\\u0c17\\u0c3e\\u0c30\\u0c41 \\u0c26\\u0c3e\\u0c26\\u0c3e\\u0c2a\\u0c41 1 \\u0c38\\u0c02\\u0c35\\u0c24\\u0c4d\\u0c38\\u0c30\\u0c2e\\u0c41 \\u0c2e\\u0c41\\u0c02\\u0c26\\u0c41 \\u0c08 TV\\u0c28\\u0c3f \\u0c15\\u0c4a\\u0c28\\u0c4d\\u0c28\\u0c3e\\u0c30\\u0c41 \\u0c08 TV \\u0c2f\\u0c4a\\u0c15\\u0c4d\\u0c15 \\u0c36\\u0c46\\u0c56\\u0c32\\u0c3f \\u0c2e\\u0c30\\u0c3f\\u0c2f\\u0c41 \\u0c21\\u0c3f\\u0c1c\\u0c46\\u0c56\\u0c28\\u0c4d \\u0c1a\\u0c3e\\u0c32\\u0c3e \\u0c2c\\u0c3e\\u0c17\\u0c41\\u0c28\\u0c4d\\u0c28\\u0c3e\\u0c2f\\u0c3f \\n\\u0c15\\u0c3e\\u0c28\\u0c40 \\u0c08 TV  \\u0c2f\\u0c4a\\u0c15\\u0c4d\\u0c15 \\u0c35\\u0c40\\u0c21\\u0c3f\\u0c2f\\u0c4b \\u0c28\\u0c3e\\u0c23\\u0c4d\\u0c2f\\u0c24 \\u0c05\\u0c02\\u0c24 \\u0c2c\\u0c3e\\u0c17\\u0c4b\\u0c32\\u0c47\\u0c26\\u0c41 \\u0c2e\\u0c30\\u0c3f\\u0c2f\\u0c41 \\u0c08 TV \\u0c38\\u0c4c\\u0c02\\u0c21\\u0c4d \\u0c30\\u0c3f\\u0c38\\u0c46\\u0c2a\\u0c4d\\u0c37\\u0c28\\u0c4d \\u0c15\\u0c42\\u0c21\\u0c3e \\u0c38\\u0c4d\\u0c2a\\u0c37\\u0c4d\\u0c1f\\u0c02\\u0c17\\u0c3e \\u0c32\\u0c47\\u0c26\\u0c41 \\u0c2e\\u0c30\\u0c3f\\u0c2f\\u0c41 \\u0c08 TV \\u0c30\\u0c3f\\u0c2e\\u0c4b\\u0c1f\\u0c4d \\u0c1a\\u0c46\\u0c24\\u0c4d\\u0c24 \\u0c2a\\u0c4d\\u0c32\\u0c3e\\u0c38\\u0c4d\\u0c1f\\u0c3f\\u0c15\\u0c4d\\u0c24\\u0c4b \\u0c1a\\u0c47\\u0c38\\u0c3e\\u0c30\\u0c41 \\u0c2e\\u0c30\\u0c3f\\u0c2f\\u0c41 \\u0c38\\u0c41\\u0c32\\u0c2d\\u0c02\\u0c17\\u0c3e \\u0c35\\u0c3f\\u0c30\\u0c3f\\u0c17\\u0c3f\\u0c2a\\u0c4b\\u0c24\\u0c41\\u0c02\\u0c26\\u0c3f \\u0c08 \\u0c2a\\u0c4d\\u0c30\\u0c4b\\u0c21\\u0c15\\u0c4d\\u0c1f\\u0c4d\\u0c15\\u0c3f \\u0c15\\u0c38\\u0c4d\\u0c1f\\u0c2e\\u0c30\\u0c4d \\u0c38\\u0c47\\u0c35\\u0c32\\u0c41 \\u0c05\\u0c38\\u0c4d\\u0c38\\u0c32\\u0c41 \\u0c2c\\u0c3e\\u0c17\\u0c4b\\u0c32\\u0c47\\u0c35\\u0c41 \\u0c2e\\u0c30\\u0c3f\\u0c2f\\u0c41 \\u0c35\\u0c3e\\u0c30\\u0c3f \\u0c38\\u0c3f\\u0c2c\\u0c4d\\u0c2c\\u0c02\\u0c26\\u0c3f \\u0c2a\\u0c4d\\u0c30\\u0c35\\u0c30\\u0c4d\\u0c24\\u0c28 \\u0c2c\\u0c3e\\u0c17\\u0c4b\\u0c32\\u0c47\\u0c26\\u0c41 \\u0c15\\u0c3e\\u0c2c\\u0c1f\\u0c4d\\u0c1f\\u0c3f \\u0c08 TV  \\u0c1a\\u0c46\\u0c24\\u0c4d\\u0c24\\u0c17\\u0c3e \\u0c09\\u0c02\\u0c26\\u0c3f \\u0c2e\\u0c30\\u0c3f\\u0c2f\\u0c41 \\u0c2e\\u0c02\\u0c1a\\u0c3f \\u0c35\\u0c3f\\u0c32\\u0c41\\u0c35 \\u0c15\\u0c32\\u0c3f\\u0c17\\u0c3f\\u0c28\\u0c26\\u0c3f \\u0c15\\u0c3e\\u0c26\\u0c41  \\u0c08 TV  \\u0c15\\u0c4a\\u0c28\\u0c41\\u0c17\\u0c4b\\u0c32\\u0c41 \\u0c1a\\u0c47\\u0c2f\\u0c35\\u0c26\\u0c4d\\u0c26\\u0c28\\u0c3f \\u0c28\\u0c47\\u0c28\\u0c41 \\u0c38\\u0c42\\u0c1a\\u0c3f\\u0c38\\u0c4d\\u0c24\\u0c41\\u0c28\\u0c4d\\u0c28\\u0c3e\\u0c28\\u0c41 \\u0c27\\u0c28\\u0c4d\\u0c2f\\u0c35\\u0c3e\\u0c26\\u0c3e\\u0c32\\u0c41\"\n        ],\n        \"semantic_type\": \"\",\n        \"description\": \"\"\n      }\n    },\n    {\n      \"column\": \"label\",\n      \"properties\": {\n        \"dtype\": \"number\",\n        \"std\": 0,\n        \"min\": 0,\n        \"max\": 1,\n        \"num_unique_values\": 2,\n        \"samples\": [\n          1,\n          0\n        ],\n        \"semantic_type\": \"\",\n        \"description\": \"\"\n      }\n    }\n  ]\n}"
            }
          },
          "metadata": {},
          "execution_count": 35
        }
      ],
      "source": [
        "df"
      ]
    },
    {
      "cell_type": "markdown",
      "metadata": {
        "id": "TZaMsCIYiR7p"
      },
      "source": [
        "## **Get n-grams**"
      ]
    },
    {
      "cell_type": "markdown",
      "source": [
        " n-grams (bi-grams and tri-grams) are used to generate features from text data, aiding in understanding local context and dependencies within reviews."
      ],
      "metadata": {
        "id": "2BNT94K93Cgm"
      }
    },
    {
      "cell_type": "code",
      "execution_count": null,
      "metadata": {
        "id": "Pljrnh6ukGYE"
      },
      "outputs": [],
      "source": [
        "def get_ngrams(text, n):\n",
        "  \"\"\"\n",
        "  Extracts n-grams from a text string.\n",
        "\n",
        "  Args:\n",
        "      text (str): Text string.\n",
        "      n (int): Number of words for n-grams.\n",
        "\n",
        "  Returns:\n",
        "      list: List of n-grams.\n",
        "  \"\"\"\n",
        "\n",
        "  tokens = text.split()\n",
        "  ngrams = [tuple(tokens[i:i+n]) for i in range(len(tokens) - n + 1)]\n",
        "  return ngrams"
      ]
    },
    {
      "cell_type": "markdown",
      "metadata": {
        "id": "KKJS20TooCOh"
      },
      "source": [
        "## **Feature selection**"
      ]
    },
    {
      "cell_type": "markdown",
      "source": [
        "Feature selection is primarily achieved through the generation of n-grams, specifically bi-grams and tri-grams, from the text data. These n-grams capture local context and dependencies within the reviews, providing valuable information for sentiment analysis. By extracting features at the word sequence level, the model gains insights into how certain phrases or combinations of words influence sentiment, enhancing its ability to accurately classify text based on sentiment."
      ],
      "metadata": {
        "id": "2Z1ZfVJr5YQs"
      }
    },
    {
      "cell_type": "code",
      "execution_count": null,
      "metadata": {
        "id": "A4TfBRq3rQKm"
      },
      "outputs": [],
      "source": [
        "def create_features_custom(df):\n",
        "  \"\"\"\n",
        "  Creates a list of lists containing n-grams for each row.\n",
        "\n",
        "  Args:\n",
        "      df (pandas.DataFrame): DataFrame containing a text column ('text' assumed).\n",
        "\n",
        "  Returns:\n",
        "      pandas.DataFrame: DataFrame with a new column containing lists of n-grams.\n",
        "  \"\"\"\n",
        "\n",
        "  features = []\n",
        "  for index, row in df.iterrows():\n",
        "      text = row['text']\n",
        "      unigrams = get_ngrams(text, 1)\n",
        "      bigrams = get_ngrams(text, 2)\n",
        "      trigrams = get_ngrams(text, 3)\n",
        "\n",
        "      # Combine n-grams into a single list\n",
        "      features.append(unigrams + bigrams + trigrams)\n",
        "\n",
        "  # Add a new column containing the list of n-grams for each row\n",
        "  df['n_grams'] = features\n",
        "\n",
        "  return df\n"
      ]
    },
    {
      "cell_type": "code",
      "execution_count": null,
      "metadata": {
        "id": "_xSldAT4rTXm"
      },
      "outputs": [],
      "source": [
        "df = create_features_custom(df.copy())"
      ]
    },
    {
      "cell_type": "code",
      "execution_count": null,
      "metadata": {
        "colab": {
          "base_uri": "https://localhost:8080/",
          "height": 206
        },
        "id": "dzbUQI9TwPMQ",
        "outputId": "5d378787-67ca-4f58-da12-57a1d72a1e1d"
      },
      "outputs": [
        {
          "output_type": "execute_result",
          "data": {
            "text/plain": [
              "                                                text  label  \\\n",
              "0  ఇది ఉపయోగించడానికి భయంకరమైన కెమెరా  ఈ కెమెరా న...      0   \n",
              "1  LG43LH600T LEDTV  పిక్చర్ నాణ్యత అస్సలు బాగోలే...      0   \n",
              "2  బడ్జెట్ ఫోన్గా నేటి మధ్యతరగతి ప్రజలకు అందుబాటు...      1   \n",
              "3  HD రెడీ LED TV  బ్లాక్  5 లో 4 3  మొత్తం 16 కస...      0   \n",
              "4  సామ్సంగ్ ఒక ప్రపంచ ఉనికిని కలిగిన దక్షిణ ఖొరియ...      1   \n",
              "\n",
              "                                             n_grams  \n",
              "0  [(ఇది,), (ఉపయోగించడానికి,), (భయంకరమైన,), (కెమె...  \n",
              "1  [(LG43LH600T,), (LEDTV,), (పిక్చర్,), (నాణ్యత,...  \n",
              "2  [(బడ్జెట్,), (ఫోన్గా,), (నేటి,), (మధ్యతరగతి,),...  \n",
              "3  [(HD,), (రెడీ,), (LED,), (TV,), (బ్లాక్,), (5,...  \n",
              "4  [(సామ్సంగ్,), (ఒక,), (ప్రపంచ,), (ఉనికిని,), (క...  "
            ],
            "text/html": [
              "\n",
              "  <div id=\"df-5ea6cdd7-da34-44ef-a0eb-1eba2352efd5\" class=\"colab-df-container\">\n",
              "    <div>\n",
              "<style scoped>\n",
              "    .dataframe tbody tr th:only-of-type {\n",
              "        vertical-align: middle;\n",
              "    }\n",
              "\n",
              "    .dataframe tbody tr th {\n",
              "        vertical-align: top;\n",
              "    }\n",
              "\n",
              "    .dataframe thead th {\n",
              "        text-align: right;\n",
              "    }\n",
              "</style>\n",
              "<table border=\"1\" class=\"dataframe\">\n",
              "  <thead>\n",
              "    <tr style=\"text-align: right;\">\n",
              "      <th></th>\n",
              "      <th>text</th>\n",
              "      <th>label</th>\n",
              "      <th>n_grams</th>\n",
              "    </tr>\n",
              "  </thead>\n",
              "  <tbody>\n",
              "    <tr>\n",
              "      <th>0</th>\n",
              "      <td>ఇది ఉపయోగించడానికి భయంకరమైన కెమెరా  ఈ కెమెరా న...</td>\n",
              "      <td>0</td>\n",
              "      <td>[(ఇది,), (ఉపయోగించడానికి,), (భయంకరమైన,), (కెమె...</td>\n",
              "    </tr>\n",
              "    <tr>\n",
              "      <th>1</th>\n",
              "      <td>LG43LH600T LEDTV  పిక్చర్ నాణ్యత అస్సలు బాగోలే...</td>\n",
              "      <td>0</td>\n",
              "      <td>[(LG43LH600T,), (LEDTV,), (పిక్చర్,), (నాణ్యత,...</td>\n",
              "    </tr>\n",
              "    <tr>\n",
              "      <th>2</th>\n",
              "      <td>బడ్జెట్ ఫోన్గా నేటి మధ్యతరగతి ప్రజలకు అందుబాటు...</td>\n",
              "      <td>1</td>\n",
              "      <td>[(బడ్జెట్,), (ఫోన్గా,), (నేటి,), (మధ్యతరగతి,),...</td>\n",
              "    </tr>\n",
              "    <tr>\n",
              "      <th>3</th>\n",
              "      <td>HD రెడీ LED TV  బ్లాక్  5 లో 4 3  మొత్తం 16 కస...</td>\n",
              "      <td>0</td>\n",
              "      <td>[(HD,), (రెడీ,), (LED,), (TV,), (బ్లాక్,), (5,...</td>\n",
              "    </tr>\n",
              "    <tr>\n",
              "      <th>4</th>\n",
              "      <td>సామ్సంగ్ ఒక ప్రపంచ ఉనికిని కలిగిన దక్షిణ ఖొరియ...</td>\n",
              "      <td>1</td>\n",
              "      <td>[(సామ్సంగ్,), (ఒక,), (ప్రపంచ,), (ఉనికిని,), (క...</td>\n",
              "    </tr>\n",
              "  </tbody>\n",
              "</table>\n",
              "</div>\n",
              "    <div class=\"colab-df-buttons\">\n",
              "\n",
              "  <div class=\"colab-df-container\">\n",
              "    <button class=\"colab-df-convert\" onclick=\"convertToInteractive('df-5ea6cdd7-da34-44ef-a0eb-1eba2352efd5')\"\n",
              "            title=\"Convert this dataframe to an interactive table.\"\n",
              "            style=\"display:none;\">\n",
              "\n",
              "  <svg xmlns=\"http://www.w3.org/2000/svg\" height=\"24px\" viewBox=\"0 -960 960 960\">\n",
              "    <path d=\"M120-120v-720h720v720H120Zm60-500h600v-160H180v160Zm220 220h160v-160H400v160Zm0 220h160v-160H400v160ZM180-400h160v-160H180v160Zm440 0h160v-160H620v160ZM180-180h160v-160H180v160Zm440 0h160v-160H620v160Z\"/>\n",
              "  </svg>\n",
              "    </button>\n",
              "\n",
              "  <style>\n",
              "    .colab-df-container {\n",
              "      display:flex;\n",
              "      gap: 12px;\n",
              "    }\n",
              "\n",
              "    .colab-df-convert {\n",
              "      background-color: #E8F0FE;\n",
              "      border: none;\n",
              "      border-radius: 50%;\n",
              "      cursor: pointer;\n",
              "      display: none;\n",
              "      fill: #1967D2;\n",
              "      height: 32px;\n",
              "      padding: 0 0 0 0;\n",
              "      width: 32px;\n",
              "    }\n",
              "\n",
              "    .colab-df-convert:hover {\n",
              "      background-color: #E2EBFA;\n",
              "      box-shadow: 0px 1px 2px rgba(60, 64, 67, 0.3), 0px 1px 3px 1px rgba(60, 64, 67, 0.15);\n",
              "      fill: #174EA6;\n",
              "    }\n",
              "\n",
              "    .colab-df-buttons div {\n",
              "      margin-bottom: 4px;\n",
              "    }\n",
              "\n",
              "    [theme=dark] .colab-df-convert {\n",
              "      background-color: #3B4455;\n",
              "      fill: #D2E3FC;\n",
              "    }\n",
              "\n",
              "    [theme=dark] .colab-df-convert:hover {\n",
              "      background-color: #434B5C;\n",
              "      box-shadow: 0px 1px 3px 1px rgba(0, 0, 0, 0.15);\n",
              "      filter: drop-shadow(0px 1px 2px rgba(0, 0, 0, 0.3));\n",
              "      fill: #FFFFFF;\n",
              "    }\n",
              "  </style>\n",
              "\n",
              "    <script>\n",
              "      const buttonEl =\n",
              "        document.querySelector('#df-5ea6cdd7-da34-44ef-a0eb-1eba2352efd5 button.colab-df-convert');\n",
              "      buttonEl.style.display =\n",
              "        google.colab.kernel.accessAllowed ? 'block' : 'none';\n",
              "\n",
              "      async function convertToInteractive(key) {\n",
              "        const element = document.querySelector('#df-5ea6cdd7-da34-44ef-a0eb-1eba2352efd5');\n",
              "        const dataTable =\n",
              "          await google.colab.kernel.invokeFunction('convertToInteractive',\n",
              "                                                    [key], {});\n",
              "        if (!dataTable) return;\n",
              "\n",
              "        const docLinkHtml = 'Like what you see? Visit the ' +\n",
              "          '<a target=\"_blank\" href=https://colab.research.google.com/notebooks/data_table.ipynb>data table notebook</a>'\n",
              "          + ' to learn more about interactive tables.';\n",
              "        element.innerHTML = '';\n",
              "        dataTable['output_type'] = 'display_data';\n",
              "        await google.colab.output.renderOutput(dataTable, element);\n",
              "        const docLink = document.createElement('div');\n",
              "        docLink.innerHTML = docLinkHtml;\n",
              "        element.appendChild(docLink);\n",
              "      }\n",
              "    </script>\n",
              "  </div>\n",
              "\n",
              "\n",
              "<div id=\"df-624ebf30-5596-4ac3-8072-bebc438945df\">\n",
              "  <button class=\"colab-df-quickchart\" onclick=\"quickchart('df-624ebf30-5596-4ac3-8072-bebc438945df')\"\n",
              "            title=\"Suggest charts\"\n",
              "            style=\"display:none;\">\n",
              "\n",
              "<svg xmlns=\"http://www.w3.org/2000/svg\" height=\"24px\"viewBox=\"0 0 24 24\"\n",
              "     width=\"24px\">\n",
              "    <g>\n",
              "        <path d=\"M19 3H5c-1.1 0-2 .9-2 2v14c0 1.1.9 2 2 2h14c1.1 0 2-.9 2-2V5c0-1.1-.9-2-2-2zM9 17H7v-7h2v7zm4 0h-2V7h2v10zm4 0h-2v-4h2v4z\"/>\n",
              "    </g>\n",
              "</svg>\n",
              "  </button>\n",
              "\n",
              "<style>\n",
              "  .colab-df-quickchart {\n",
              "      --bg-color: #E8F0FE;\n",
              "      --fill-color: #1967D2;\n",
              "      --hover-bg-color: #E2EBFA;\n",
              "      --hover-fill-color: #174EA6;\n",
              "      --disabled-fill-color: #AAA;\n",
              "      --disabled-bg-color: #DDD;\n",
              "  }\n",
              "\n",
              "  [theme=dark] .colab-df-quickchart {\n",
              "      --bg-color: #3B4455;\n",
              "      --fill-color: #D2E3FC;\n",
              "      --hover-bg-color: #434B5C;\n",
              "      --hover-fill-color: #FFFFFF;\n",
              "      --disabled-bg-color: #3B4455;\n",
              "      --disabled-fill-color: #666;\n",
              "  }\n",
              "\n",
              "  .colab-df-quickchart {\n",
              "    background-color: var(--bg-color);\n",
              "    border: none;\n",
              "    border-radius: 50%;\n",
              "    cursor: pointer;\n",
              "    display: none;\n",
              "    fill: var(--fill-color);\n",
              "    height: 32px;\n",
              "    padding: 0;\n",
              "    width: 32px;\n",
              "  }\n",
              "\n",
              "  .colab-df-quickchart:hover {\n",
              "    background-color: var(--hover-bg-color);\n",
              "    box-shadow: 0 1px 2px rgba(60, 64, 67, 0.3), 0 1px 3px 1px rgba(60, 64, 67, 0.15);\n",
              "    fill: var(--button-hover-fill-color);\n",
              "  }\n",
              "\n",
              "  .colab-df-quickchart-complete:disabled,\n",
              "  .colab-df-quickchart-complete:disabled:hover {\n",
              "    background-color: var(--disabled-bg-color);\n",
              "    fill: var(--disabled-fill-color);\n",
              "    box-shadow: none;\n",
              "  }\n",
              "\n",
              "  .colab-df-spinner {\n",
              "    border: 2px solid var(--fill-color);\n",
              "    border-color: transparent;\n",
              "    border-bottom-color: var(--fill-color);\n",
              "    animation:\n",
              "      spin 1s steps(1) infinite;\n",
              "  }\n",
              "\n",
              "  @keyframes spin {\n",
              "    0% {\n",
              "      border-color: transparent;\n",
              "      border-bottom-color: var(--fill-color);\n",
              "      border-left-color: var(--fill-color);\n",
              "    }\n",
              "    20% {\n",
              "      border-color: transparent;\n",
              "      border-left-color: var(--fill-color);\n",
              "      border-top-color: var(--fill-color);\n",
              "    }\n",
              "    30% {\n",
              "      border-color: transparent;\n",
              "      border-left-color: var(--fill-color);\n",
              "      border-top-color: var(--fill-color);\n",
              "      border-right-color: var(--fill-color);\n",
              "    }\n",
              "    40% {\n",
              "      border-color: transparent;\n",
              "      border-right-color: var(--fill-color);\n",
              "      border-top-color: var(--fill-color);\n",
              "    }\n",
              "    60% {\n",
              "      border-color: transparent;\n",
              "      border-right-color: var(--fill-color);\n",
              "    }\n",
              "    80% {\n",
              "      border-color: transparent;\n",
              "      border-right-color: var(--fill-color);\n",
              "      border-bottom-color: var(--fill-color);\n",
              "    }\n",
              "    90% {\n",
              "      border-color: transparent;\n",
              "      border-bottom-color: var(--fill-color);\n",
              "    }\n",
              "  }\n",
              "</style>\n",
              "\n",
              "  <script>\n",
              "    async function quickchart(key) {\n",
              "      const quickchartButtonEl =\n",
              "        document.querySelector('#' + key + ' button');\n",
              "      quickchartButtonEl.disabled = true;  // To prevent multiple clicks.\n",
              "      quickchartButtonEl.classList.add('colab-df-spinner');\n",
              "      try {\n",
              "        const charts = await google.colab.kernel.invokeFunction(\n",
              "            'suggestCharts', [key], {});\n",
              "      } catch (error) {\n",
              "        console.error('Error during call to suggestCharts:', error);\n",
              "      }\n",
              "      quickchartButtonEl.classList.remove('colab-df-spinner');\n",
              "      quickchartButtonEl.classList.add('colab-df-quickchart-complete');\n",
              "    }\n",
              "    (() => {\n",
              "      let quickchartButtonEl =\n",
              "        document.querySelector('#df-624ebf30-5596-4ac3-8072-bebc438945df button');\n",
              "      quickchartButtonEl.style.display =\n",
              "        google.colab.kernel.accessAllowed ? 'block' : 'none';\n",
              "    })();\n",
              "  </script>\n",
              "</div>\n",
              "\n",
              "    </div>\n",
              "  </div>\n"
            ],
            "application/vnd.google.colaboratory.intrinsic+json": {
              "type": "dataframe",
              "variable_name": "df",
              "summary": "{\n  \"name\": \"df\",\n  \"rows\": 200,\n  \"fields\": [\n    {\n      \"column\": \"text\",\n      \"properties\": {\n        \"dtype\": \"string\",\n        \"num_unique_values\": 200,\n        \"samples\": [\n          \"\\u0c2c\\u0c3e\\u0c17\\u0c3e\\u0c28\\u0c47 \\u0c09\\u0c02\\u0c26\\u0c3f \\u0c2e\\u0c3e \\u0c2a\\u0c46\\u0c1f\\u0c4d\\u0c1f\\u0c41\\u0c2c\\u0c21\\u0c3f\\u0c15\\u0c3f \\u0c38\\u0c30\\u0c3f\\u0c2a\\u0c4b\\u0c24\\u0c41\\u0c02\\u0c26\\u0c3f \\u0c30\\u0c4b\\u0c1c\\u0c41 \\u0c2a\\u0c28\\u0c41\\u0c32\\u0c15\\u0c3f \\u0c2c\\u0c3e\\u0c17\\u0c3e \\u0c2a\\u0c28\\u0c3f\\u0c15\\u0c4a\\u0c38\\u0c4d\\u0c24\\u0c41\\u0c02\\u0c26\\u0c3f\",\n          \"\\u0c39\\u0c3e\\u0c2f\\u0c4d \\u0c17\\u0c2f\\u0c4d\\u0c38\\u0c4d \\u0c28\\u0c47\\u0c21\\u0c41 \\u0c28\\u0c47\\u0c28\\u0c41 \\u0c2e\\u0c40\\u0c24\\u0c4b \\u0c28\\u0c3e \\u0c38\\u0c3e\\u0c2e\\u0c4d\\u0c38\\u0c02\\u0c17\\u0c4d \\u0c17\\u0c46\\u0c32\\u0c3e\\u0c15\\u0c4d\\u0c38\\u0c40 j2 2016 \\u0c24\\u0c4b \\u0c09\\u0c28\\u0c4d\\u0c28 \\u0c05\\u0c28\\u0c41\\u0c2d\\u0c35\\u0c02 \\u0c17\\u0c41\\u0c30\\u0c3f\\u0c02\\u0c1a\\u0c3f \\u0c1a\\u0c46\\u0c2a\\u0c4d\\u0c2a\\u0c3e\\u0c32\\u0c28\\u0c41\\u0c15\\u0c41\\u0c02\\u0c1f\\u0c41\\u0c28\\u0c4d\\u0c28\\u0c3e\\u0c28\\u0c41  \\u0c08 \\u0c2b\\u0c4b\\u0c28\\u0c4d \\u0c2e\\u0c02\\u0c1a\\u0c3f\\u0c26\\u0c3f \\u0c2e\\u0c30\\u0c3f\\u0c2f\\u0c41 \\u0c38\\u0c30\\u0c38\\u0c2e\\u0c48\\u0c28 \\u0c27\\u0c30  \\u0c38\\u0c4c\\u0c02\\u0c21\\u0c4d \\u0c30\\u0c3f\\u0c38\\u0c46\\u0c2a\\u0c4d\\u0c37\\u0c28\\u0c4d - \\u0c1a\\u0c3e\\u0c32\\u0c3e \\u0c2c\\u0c3e\\u0c17\\u0c41\\u0c02\\u0c26\\u0c3f \\u0c39\\u0c46\\u0c21\\u0c4d\\u0c2b\\u0c4b\\u0c28\\u0c4d\\u0c38\\u0c4d \\u0c32\\u0c47\\u0c15\\u0c41\\u0c02\\u0c21\\u0c3e\\u0c28\\u0c47 \\u0c38\\u0c4c\\u0c02\\u0c21\\u0c4d \\u0c38\\u0c4d\\u0c2a\\u0c37\\u0c4d\\u0c1f\\u0c02\\u0c17\\u0c3e \\u0c35\\u0c3f\\u0c28\\u0c3f\\u0c2a\\u0c3f\\u0c38\\u0c4d\\u0c24\\u0c41\\u0c02\\u0c26\\u0c3f  \\u0c2f\\u0c42\\u0c1c\\u0c30\\u0c4d \\u0c2b\\u0c4d\\u0c30\\u0c46\\u0c02\\u0c21\\u0c4d\\u0c32\\u0c40 -  \\u0c08 \\u0c2b\\u0c4b\\u0c28\\u0c4d\\u0c28\\u0c41 \\u0c09\\u0c2a\\u0c2f\\u0c4b\\u0c17\\u0c3f\\u0c02\\u0c1a\\u0c3f\\u0c28 \\u0c24\\u0c30\\u0c4d\\u0c35\\u0c3e\\u0c24 \\u0c28\\u0c47\\u0c28\\u0c41 \\u0c17\\u0c4d\\u0c30\\u0c39\\u0c3f\\u0c02\\u0c1a\\u0c3e\\u0c28\\u0c41 \\u0c26\\u0c40\\u0c28\\u0c4d\\u0c28\\u0c3f \\u0c1a\\u0c3e\\u0c32\\u0c3e \\u0c38\\u0c41\\u0c32\\u0c2d\\u0c02\\u0c17\\u0c3e \\u0c09\\u0c2a\\u0c2f\\u0c4b\\u0c17\\u0c3f\\u0c02\\u0c1a\\u0c35\\u0c1a\\u0c4d\\u0c1a\\u0c41 \\u0c2e\\u0c30\\u0c3f\\u0c2f\\u0c41 \\u0c28\\u0c3f\\u0c1c\\u0c02\\u0c17\\u0c3e \\u0c2f\\u0c42\\u0c1c\\u0c30\\u0c4d \\u0c2b\\u0c4d\\u0c30\\u0c46\\u0c02\\u0c21\\u0c4d\\u0c32\\u0c40 \\u0c05\\u0c28\\u0c3f  \\u0c38\\u0c4d\\u0c1f\\u0c48\\u0c32\\u0c4d \\u0c2e\\u0c30\\u0c3f\\u0c2f\\u0c41 \\u0c21\\u0c3f\\u0c1c\\u0c46\\u0c56\\u0c28\\u0c4d -  \\u0c21\\u0c3f\\u0c1c\\u0c46\\u0c56\\u0c28\\u0c4d \\u0c17\\u0c41\\u0c30\\u0c3f\\u0c02\\u0c1a\\u0c3f \\u0c1a\\u0c46\\u0c2a\\u0c4d\\u0c2a\\u0c3e\\u0c32\\u0c4d\\u0c38\\u0c3f\\u0c28 \\u0c05\\u0c35\\u0c38\\u0c30\\u0c02 \\u0c32\\u0c47\\u0c26\\u0c41 \\u0c2e\\u0c40\\u0c30\\u0c47 \\u0c1a\\u0c42\\u0c21\\u0c4a\\u0c1a\\u0c4d\\u0c1a\\u0c41 \\u0c1a\\u0c3e\\u0c32\\u0c3e \\u0c05\\u0c26\\u0c4d\\u0c2d\\u0c41\\u0c24\\u0c02\\u0c17\\u0c3e \\u0c09\\u0c02\\u0c26\\u0c3f \\u0c35\\u0c46\\u0c28\\u0c41\\u0c15\\u0c35\\u0c48\\u0c2a\\u0c41 \\u0c21\\u0c3f\\u0c1c\\u0c46\\u0c56\\u0c28\\u0c4d \\u0c1a\\u0c3e\\u0c32\\u0c3e \\u0c2c\\u0c3e\\u0c17\\u0c41\\u0c02\\u0c26\\u0c3f \\u0c07\\u0c24\\u0c30 \\u0c2b\\u0c40\\u0c1a\\u0c30\\u0c4d\\u0c32\\u0c41 - \\u0c08 \\u0c38\\u0c4d\\u0c2e\\u0c3e\\u0c30\\u0c4d\\u0c1f\\u0c4d \\u0c2b\\u0c4b\\u0c28\\u0c4d\\u0c32\\u0c4b \\u0c28\\u0c3e\\u0c15\\u0c41 \\u0c07\\u0c37\\u0c4d\\u0c1f\\u0c2e\\u0c48\\u0c28 \\u0c2b\\u0c40\\u0c1a\\u0c30\\u0c4d\\u0c38\\u0c4d \\u0c12\\u0c15 \\u0c35\\u0c46\\u0c28\\u0c41\\u0c15 \\u0c32\\u0c48\\u0c1f\\u0c4d \\u0c07\\u0c28\\u0c4d\\u0c21\\u0c3f\\u0c15\\u0c47\\u0c1f\\u0c30\\u0c4d \\u0c2e\\u0c30\\u0c3f\\u0c2f\\u0c41 \\u0c0f\\u0c26\\u0c48\\u0c28\\u0c3e \\u0c15\\u0c3e\\u0c32\\u0c4d \\u0c32\\u0c47\\u0c26\\u0c3e \\u0c2e\\u0c46\\u0c38\\u0c47\\u0c1c\\u0c4d \\u0c35\\u0c1a\\u0c4d\\u0c1a\\u0c3f\\u0c28\\u0c2a\\u0c4d\\u0c2a\\u0c41\\u0c21\\u0c41 \\u0c35\\u0c46\\u0c32\\u0c3f\\u0c17\\u0c47 \\u0c26\\u0c3e\\u0c28\\u0c3f \\u0c2c\\u0c4d\\u0c32\\u0c4b \\u0c32\\u0c46\\u0c56\\u0c1f\\u0c4d \\u0c07\\u0c26\\u0c3f \\u0c15\\u0c42\\u0c32\\u0c4d \\u0c2b\\u0c40\\u0c1a\\u0c30\\u0c4d \\u0c2e\\u0c30\\u0c3f\\u0c2f\\u0c41 \\u0c07\\u0c24\\u0c30 \\u0c2b\\u0c40\\u0c1a\\u0c30\\u0c4d\\u0c32\\u0c41 \\u0c2e\\u0c02\\u0c1a\\u0c3f\\u0c35\\u0c47  \\u0c32\\u0c41\\u0c15\\u0c4d \\u0c2e\\u0c30\\u0c3f\\u0c2f\\u0c41 \\u0c2b\\u0c40\\u0c32\\u0c4d -  \\u0c07\\u0c26\\u0c3f \\u0c1a\\u0c47\\u0c24\\u0c3f\\u0c32\\u0c4b \\u0c1a\\u0c42\\u0c21\\u0c1f\\u0c3e\\u0c28\\u0c3f\\u0c15\\u0c3f \\u0c1a\\u0c3e\\u0c32\\u0c3e \\u0c2c\\u0c3e\\u0c17\\u0c41\\u0c02\\u0c26\\u0c3f \\u0c07\\u0c26\\u0c3f \\u0c1a\\u0c3e\\u0c32\\u0c3e \\u0c16\\u0c30\\u0c40\\u0c26\\u0c48\\u0c28 \\u0c2b\\u0c4b\\u0c28\\u0c4d\\u0c32\\u0c3e \\u0c05\\u0c28\\u0c3f\\u0c2a\\u0c3f\\u0c38\\u0c4d\\u0c24\\u0c41\\u0c02\\u0c26\\u0c3f \\u0c08 \\u0c2b\\u0c4b\\u0c28\\u0c4d \\u0c38\\u0c48\\u0c1c\\u0c41 \\u0c2c\\u0c3e\\u0c17\\u0c41\\u0c02\\u0c26\\u0c3f  \\u0c21\\u0c2c\\u0c4d\\u0c2c\\u0c41\\u0c15\\u0c41 \\u0c24\\u0c17\\u0c4d\\u0c17 \\u0c35\\u0c3f\\u0c32\\u0c41\\u0c35 - \\u0c16\\u0c30\\u0c40\\u0c26\\u0c48\\u0c28\\u0c26\\u0c3f \\u0c15\\u0c3e\\u0c26\\u0c41 \\u0c2e\\u0c40 \\u0c2c\\u0c21\\u0c4d\\u0c1c\\u0c46\\u0c1f\\u0c4d 10000 rs \\u0c05\\u0c2f\\u0c3f\\u0c24\\u0c47 \\u0c08 \\u0c2b\\u0c4b\\u0c28\\u0c4d \\u0c2c\\u0c46\\u0c38\\u0c4d\\u0c1f\\u0c4d \\u0c28\\u0c47\\u0c28\\u0c41 \\u0c2a\\u0c4d\\u0c30\\u0c24\\u0c3f \\u0c12\\u0c15\\u0c4d\\u0c15\\u0c30\\u0c42 \\u0c26\\u0c3e\\u0c28\\u0c3f\\u0c28\\u0c3f \\u0c15\\u0c4a\\u0c28\\u0c41\\u0c17\\u0c4b\\u0c32\\u0c41 \\u0c1a\\u0c47\\u0c2f\\u0c3e\\u0c32\\u0c28\\u0c41\\u0c15\\u0c41\\u0c02\\u0c1f\\u0c41\\u0c28\\u0c4d\\u0c28\\u0c3e\\u0c28\\u0c41 \\u0c35\\u0c3e\\u0c30\\u0c3f \\u0c2c\\u0c21\\u0c4d\\u0c1c\\u0c46\\u0c1f\\u0c4d 10000 \\u0c15\\u0c28\\u0c4d\\u0c28\\u0c3e \\u0c24\\u0c15\\u0c4d\\u0c15\\u0c41\\u0c35 \\u0c09\\u0c02\\u0c1f\\u0c47 \\u0c27\\u0c28\\u0c4d\\u0c2f\\u0c35\\u0c3e\\u0c26\\u0c3e\\u0c32\\u0c41\",\n          \"\\u0c39\\u0c3e\\u0c2f\\u0c4d \\u0c2b\\u0c4d\\u0c30\\u0c46\\u0c02\\u0c21\\u0c4d\\u0c38\\u0c4d  \\u0c2e\\u0c3e \\u0c28\\u0c3e\\u0c28\\u0c4d\\u0c28\\u0c17\\u0c3e\\u0c30\\u0c41 \\u0c26\\u0c3e\\u0c26\\u0c3e\\u0c2a\\u0c41 1 \\u0c38\\u0c02\\u0c35\\u0c24\\u0c4d\\u0c38\\u0c30\\u0c2e\\u0c41 \\u0c2e\\u0c41\\u0c02\\u0c26\\u0c41 \\u0c08 TV\\u0c28\\u0c3f \\u0c15\\u0c4a\\u0c28\\u0c4d\\u0c28\\u0c3e\\u0c30\\u0c41 \\u0c08 TV \\u0c2f\\u0c4a\\u0c15\\u0c4d\\u0c15 \\u0c36\\u0c46\\u0c56\\u0c32\\u0c3f \\u0c2e\\u0c30\\u0c3f\\u0c2f\\u0c41 \\u0c21\\u0c3f\\u0c1c\\u0c46\\u0c56\\u0c28\\u0c4d \\u0c1a\\u0c3e\\u0c32\\u0c3e \\u0c2c\\u0c3e\\u0c17\\u0c41\\u0c28\\u0c4d\\u0c28\\u0c3e\\u0c2f\\u0c3f \\n\\u0c15\\u0c3e\\u0c28\\u0c40 \\u0c08 TV  \\u0c2f\\u0c4a\\u0c15\\u0c4d\\u0c15 \\u0c35\\u0c40\\u0c21\\u0c3f\\u0c2f\\u0c4b \\u0c28\\u0c3e\\u0c23\\u0c4d\\u0c2f\\u0c24 \\u0c05\\u0c02\\u0c24 \\u0c2c\\u0c3e\\u0c17\\u0c4b\\u0c32\\u0c47\\u0c26\\u0c41 \\u0c2e\\u0c30\\u0c3f\\u0c2f\\u0c41 \\u0c08 TV \\u0c38\\u0c4c\\u0c02\\u0c21\\u0c4d \\u0c30\\u0c3f\\u0c38\\u0c46\\u0c2a\\u0c4d\\u0c37\\u0c28\\u0c4d \\u0c15\\u0c42\\u0c21\\u0c3e \\u0c38\\u0c4d\\u0c2a\\u0c37\\u0c4d\\u0c1f\\u0c02\\u0c17\\u0c3e \\u0c32\\u0c47\\u0c26\\u0c41 \\u0c2e\\u0c30\\u0c3f\\u0c2f\\u0c41 \\u0c08 TV \\u0c30\\u0c3f\\u0c2e\\u0c4b\\u0c1f\\u0c4d \\u0c1a\\u0c46\\u0c24\\u0c4d\\u0c24 \\u0c2a\\u0c4d\\u0c32\\u0c3e\\u0c38\\u0c4d\\u0c1f\\u0c3f\\u0c15\\u0c4d\\u0c24\\u0c4b \\u0c1a\\u0c47\\u0c38\\u0c3e\\u0c30\\u0c41 \\u0c2e\\u0c30\\u0c3f\\u0c2f\\u0c41 \\u0c38\\u0c41\\u0c32\\u0c2d\\u0c02\\u0c17\\u0c3e \\u0c35\\u0c3f\\u0c30\\u0c3f\\u0c17\\u0c3f\\u0c2a\\u0c4b\\u0c24\\u0c41\\u0c02\\u0c26\\u0c3f \\u0c08 \\u0c2a\\u0c4d\\u0c30\\u0c4b\\u0c21\\u0c15\\u0c4d\\u0c1f\\u0c4d\\u0c15\\u0c3f \\u0c15\\u0c38\\u0c4d\\u0c1f\\u0c2e\\u0c30\\u0c4d \\u0c38\\u0c47\\u0c35\\u0c32\\u0c41 \\u0c05\\u0c38\\u0c4d\\u0c38\\u0c32\\u0c41 \\u0c2c\\u0c3e\\u0c17\\u0c4b\\u0c32\\u0c47\\u0c35\\u0c41 \\u0c2e\\u0c30\\u0c3f\\u0c2f\\u0c41 \\u0c35\\u0c3e\\u0c30\\u0c3f \\u0c38\\u0c3f\\u0c2c\\u0c4d\\u0c2c\\u0c02\\u0c26\\u0c3f \\u0c2a\\u0c4d\\u0c30\\u0c35\\u0c30\\u0c4d\\u0c24\\u0c28 \\u0c2c\\u0c3e\\u0c17\\u0c4b\\u0c32\\u0c47\\u0c26\\u0c41 \\u0c15\\u0c3e\\u0c2c\\u0c1f\\u0c4d\\u0c1f\\u0c3f \\u0c08 TV  \\u0c1a\\u0c46\\u0c24\\u0c4d\\u0c24\\u0c17\\u0c3e \\u0c09\\u0c02\\u0c26\\u0c3f \\u0c2e\\u0c30\\u0c3f\\u0c2f\\u0c41 \\u0c2e\\u0c02\\u0c1a\\u0c3f \\u0c35\\u0c3f\\u0c32\\u0c41\\u0c35 \\u0c15\\u0c32\\u0c3f\\u0c17\\u0c3f\\u0c28\\u0c26\\u0c3f \\u0c15\\u0c3e\\u0c26\\u0c41  \\u0c08 TV  \\u0c15\\u0c4a\\u0c28\\u0c41\\u0c17\\u0c4b\\u0c32\\u0c41 \\u0c1a\\u0c47\\u0c2f\\u0c35\\u0c26\\u0c4d\\u0c26\\u0c28\\u0c3f \\u0c28\\u0c47\\u0c28\\u0c41 \\u0c38\\u0c42\\u0c1a\\u0c3f\\u0c38\\u0c4d\\u0c24\\u0c41\\u0c28\\u0c4d\\u0c28\\u0c3e\\u0c28\\u0c41 \\u0c27\\u0c28\\u0c4d\\u0c2f\\u0c35\\u0c3e\\u0c26\\u0c3e\\u0c32\\u0c41\"\n        ],\n        \"semantic_type\": \"\",\n        \"description\": \"\"\n      }\n    },\n    {\n      \"column\": \"label\",\n      \"properties\": {\n        \"dtype\": \"number\",\n        \"std\": 0,\n        \"min\": 0,\n        \"max\": 1,\n        \"num_unique_values\": 2,\n        \"samples\": [\n          1,\n          0\n        ],\n        \"semantic_type\": \"\",\n        \"description\": \"\"\n      }\n    },\n    {\n      \"column\": \"n_grams\",\n      \"properties\": {\n        \"dtype\": \"object\",\n        \"semantic_type\": \"\",\n        \"description\": \"\"\n      }\n    }\n  ]\n}"
            }
          },
          "metadata": {},
          "execution_count": 39
        }
      ],
      "source": [
        "df.head()"
      ]
    },
    {
      "cell_type": "markdown",
      "source": [
        "Loading a pre-trained Telugu BERT model and tokenizer, a function to generate embeddings for Telugu text using the model, and applying this function to each row of a DataFrame to compute embeddings for the text in the 'text' column, storing the results in a new column named 'text_embeddings' in the DataFrame."
      ],
      "metadata": {
        "id": "hMdnIv-t6C-A"
      }
    },
    {
      "cell_type": "code",
      "source": [
        "import torch\n",
        "from transformers import AutoTokenizer, AutoModel\n",
        "\n",
        "# Load pre-trained Telugu BERT model and tokenizer\n",
        "model_name = \"ai4bharat/indic-bert\"\n",
        "tokenizer = AutoTokenizer.from_pretrained(model_name)\n",
        "model = AutoModel.from_pretrained(model_name)\n",
        "\n",
        "# Function to get embeddings for Telugu text\n",
        "def get_telugu_embeddings(text):\n",
        "    # Tokenize the text\n",
        "    tokens = tokenizer(text, return_tensors='pt', padding=True, truncation=True)\n",
        "    # Forward pass through the model\n",
        "    with torch.no_grad():\n",
        "        outputs = model(**tokens)\n",
        "    # Extract embeddings from the output\n",
        "    embeddings = torch.mean(outputs.last_hidden_state, dim=1)  # Taking mean of token embeddings\n",
        "    return embeddings\n",
        "\n",
        "# Assuming df is your DataFrame with the column 'text'\n",
        "# Apply the function to each row of the DataFrame\n",
        "df['text_embeddings'] = df['text'].apply(get_telugu_embeddings)\n"
      ],
      "metadata": {
        "colab": {
          "base_uri": "https://localhost:8080/"
        },
        "id": "I9VpRCWx3yJD",
        "outputId": "16e092d1-e255-4ace-c37a-f82c3f005616"
      },
      "execution_count": null,
      "outputs": [
        {
          "output_type": "stream",
          "name": "stderr",
          "text": [
            "Asking to truncate to max_length but no maximum length is provided and the model has no predefined maximum length. Default to no truncation.\n"
          ]
        }
      ]
    },
    {
      "cell_type": "code",
      "source": [
        "df.head()"
      ],
      "metadata": {
        "colab": {
          "base_uri": "https://localhost:8080/",
          "height": 206
        },
        "id": "WJkXiKJ-_1Rp",
        "outputId": "d5857533-bedb-4aa7-b2d2-a524a8991b4f"
      },
      "execution_count": null,
      "outputs": [
        {
          "output_type": "execute_result",
          "data": {
            "text/plain": [
              "                                                text  label  \\\n",
              "0  ఇది ఉపయోగించడానికి భయంకరమైన కెమెరా  ఈ కెమెరా న...      0   \n",
              "1  LG43LH600T LEDTV  పిక్చర్ నాణ్యత అస్సలు బాగోలే...      0   \n",
              "2  బడ్జెట్ ఫోన్గా నేటి మధ్యతరగతి ప్రజలకు అందుబాటు...      1   \n",
              "3  HD రెడీ LED TV  బ్లాక్  5 లో 4 3  మొత్తం 16 కస...      0   \n",
              "4  సామ్సంగ్ ఒక ప్రపంచ ఉనికిని కలిగిన దక్షిణ ఖొరియ...      1   \n",
              "\n",
              "                                             n_grams  \\\n",
              "0  [(ఇది,), (ఉపయోగించడానికి,), (భయంకరమైన,), (కెమె...   \n",
              "1  [(LG43LH600T,), (LEDTV,), (పిక్చర్,), (నాణ్యత,...   \n",
              "2  [(బడ్జెట్,), (ఫోన్గా,), (నేటి,), (మధ్యతరగతి,),...   \n",
              "3  [(HD,), (రెడీ,), (LED,), (TV,), (బ్లాక్,), (5,...   \n",
              "4  [(సామ్సంగ్,), (ఒక,), (ప్రపంచ,), (ఉనికిని,), (క...   \n",
              "\n",
              "                                     text_embeddings  \n",
              "0  [[tensor(0.3579), tensor(-0.2924), tensor(0.10...  \n",
              "1  [[tensor(0.3046), tensor(-0.4699), tensor(0.01...  \n",
              "2  [[tensor(0.4140), tensor(-0.6023), tensor(-0.0...  \n",
              "3  [[tensor(0.1105), tensor(-0.4242), tensor(-0.0...  \n",
              "4  [[tensor(0.1758), tensor(-0.5474), tensor(0.00...  "
            ],
            "text/html": [
              "\n",
              "  <div id=\"df-5a2093a0-fa44-4fda-ba5f-ce39dc434ace\" class=\"colab-df-container\">\n",
              "    <div>\n",
              "<style scoped>\n",
              "    .dataframe tbody tr th:only-of-type {\n",
              "        vertical-align: middle;\n",
              "    }\n",
              "\n",
              "    .dataframe tbody tr th {\n",
              "        vertical-align: top;\n",
              "    }\n",
              "\n",
              "    .dataframe thead th {\n",
              "        text-align: right;\n",
              "    }\n",
              "</style>\n",
              "<table border=\"1\" class=\"dataframe\">\n",
              "  <thead>\n",
              "    <tr style=\"text-align: right;\">\n",
              "      <th></th>\n",
              "      <th>text</th>\n",
              "      <th>label</th>\n",
              "      <th>n_grams</th>\n",
              "      <th>text_embeddings</th>\n",
              "    </tr>\n",
              "  </thead>\n",
              "  <tbody>\n",
              "    <tr>\n",
              "      <th>0</th>\n",
              "      <td>ఇది ఉపయోగించడానికి భయంకరమైన కెమెరా  ఈ కెమెరా న...</td>\n",
              "      <td>0</td>\n",
              "      <td>[(ఇది,), (ఉపయోగించడానికి,), (భయంకరమైన,), (కెమె...</td>\n",
              "      <td>[[tensor(0.3579), tensor(-0.2924), tensor(0.10...</td>\n",
              "    </tr>\n",
              "    <tr>\n",
              "      <th>1</th>\n",
              "      <td>LG43LH600T LEDTV  పిక్చర్ నాణ్యత అస్సలు బాగోలే...</td>\n",
              "      <td>0</td>\n",
              "      <td>[(LG43LH600T,), (LEDTV,), (పిక్చర్,), (నాణ్యత,...</td>\n",
              "      <td>[[tensor(0.3046), tensor(-0.4699), tensor(0.01...</td>\n",
              "    </tr>\n",
              "    <tr>\n",
              "      <th>2</th>\n",
              "      <td>బడ్జెట్ ఫోన్గా నేటి మధ్యతరగతి ప్రజలకు అందుబాటు...</td>\n",
              "      <td>1</td>\n",
              "      <td>[(బడ్జెట్,), (ఫోన్గా,), (నేటి,), (మధ్యతరగతి,),...</td>\n",
              "      <td>[[tensor(0.4140), tensor(-0.6023), tensor(-0.0...</td>\n",
              "    </tr>\n",
              "    <tr>\n",
              "      <th>3</th>\n",
              "      <td>HD రెడీ LED TV  బ్లాక్  5 లో 4 3  మొత్తం 16 కస...</td>\n",
              "      <td>0</td>\n",
              "      <td>[(HD,), (రెడీ,), (LED,), (TV,), (బ్లాక్,), (5,...</td>\n",
              "      <td>[[tensor(0.1105), tensor(-0.4242), tensor(-0.0...</td>\n",
              "    </tr>\n",
              "    <tr>\n",
              "      <th>4</th>\n",
              "      <td>సామ్సంగ్ ఒక ప్రపంచ ఉనికిని కలిగిన దక్షిణ ఖొరియ...</td>\n",
              "      <td>1</td>\n",
              "      <td>[(సామ్సంగ్,), (ఒక,), (ప్రపంచ,), (ఉనికిని,), (క...</td>\n",
              "      <td>[[tensor(0.1758), tensor(-0.5474), tensor(0.00...</td>\n",
              "    </tr>\n",
              "  </tbody>\n",
              "</table>\n",
              "</div>\n",
              "    <div class=\"colab-df-buttons\">\n",
              "\n",
              "  <div class=\"colab-df-container\">\n",
              "    <button class=\"colab-df-convert\" onclick=\"convertToInteractive('df-5a2093a0-fa44-4fda-ba5f-ce39dc434ace')\"\n",
              "            title=\"Convert this dataframe to an interactive table.\"\n",
              "            style=\"display:none;\">\n",
              "\n",
              "  <svg xmlns=\"http://www.w3.org/2000/svg\" height=\"24px\" viewBox=\"0 -960 960 960\">\n",
              "    <path d=\"M120-120v-720h720v720H120Zm60-500h600v-160H180v160Zm220 220h160v-160H400v160Zm0 220h160v-160H400v160ZM180-400h160v-160H180v160Zm440 0h160v-160H620v160ZM180-180h160v-160H180v160Zm440 0h160v-160H620v160Z\"/>\n",
              "  </svg>\n",
              "    </button>\n",
              "\n",
              "  <style>\n",
              "    .colab-df-container {\n",
              "      display:flex;\n",
              "      gap: 12px;\n",
              "    }\n",
              "\n",
              "    .colab-df-convert {\n",
              "      background-color: #E8F0FE;\n",
              "      border: none;\n",
              "      border-radius: 50%;\n",
              "      cursor: pointer;\n",
              "      display: none;\n",
              "      fill: #1967D2;\n",
              "      height: 32px;\n",
              "      padding: 0 0 0 0;\n",
              "      width: 32px;\n",
              "    }\n",
              "\n",
              "    .colab-df-convert:hover {\n",
              "      background-color: #E2EBFA;\n",
              "      box-shadow: 0px 1px 2px rgba(60, 64, 67, 0.3), 0px 1px 3px 1px rgba(60, 64, 67, 0.15);\n",
              "      fill: #174EA6;\n",
              "    }\n",
              "\n",
              "    .colab-df-buttons div {\n",
              "      margin-bottom: 4px;\n",
              "    }\n",
              "\n",
              "    [theme=dark] .colab-df-convert {\n",
              "      background-color: #3B4455;\n",
              "      fill: #D2E3FC;\n",
              "    }\n",
              "\n",
              "    [theme=dark] .colab-df-convert:hover {\n",
              "      background-color: #434B5C;\n",
              "      box-shadow: 0px 1px 3px 1px rgba(0, 0, 0, 0.15);\n",
              "      filter: drop-shadow(0px 1px 2px rgba(0, 0, 0, 0.3));\n",
              "      fill: #FFFFFF;\n",
              "    }\n",
              "  </style>\n",
              "\n",
              "    <script>\n",
              "      const buttonEl =\n",
              "        document.querySelector('#df-5a2093a0-fa44-4fda-ba5f-ce39dc434ace button.colab-df-convert');\n",
              "      buttonEl.style.display =\n",
              "        google.colab.kernel.accessAllowed ? 'block' : 'none';\n",
              "\n",
              "      async function convertToInteractive(key) {\n",
              "        const element = document.querySelector('#df-5a2093a0-fa44-4fda-ba5f-ce39dc434ace');\n",
              "        const dataTable =\n",
              "          await google.colab.kernel.invokeFunction('convertToInteractive',\n",
              "                                                    [key], {});\n",
              "        if (!dataTable) return;\n",
              "\n",
              "        const docLinkHtml = 'Like what you see? Visit the ' +\n",
              "          '<a target=\"_blank\" href=https://colab.research.google.com/notebooks/data_table.ipynb>data table notebook</a>'\n",
              "          + ' to learn more about interactive tables.';\n",
              "        element.innerHTML = '';\n",
              "        dataTable['output_type'] = 'display_data';\n",
              "        await google.colab.output.renderOutput(dataTable, element);\n",
              "        const docLink = document.createElement('div');\n",
              "        docLink.innerHTML = docLinkHtml;\n",
              "        element.appendChild(docLink);\n",
              "      }\n",
              "    </script>\n",
              "  </div>\n",
              "\n",
              "\n",
              "<div id=\"df-7df48cbd-d9c8-45ee-b686-9136bfcf7fc1\">\n",
              "  <button class=\"colab-df-quickchart\" onclick=\"quickchart('df-7df48cbd-d9c8-45ee-b686-9136bfcf7fc1')\"\n",
              "            title=\"Suggest charts\"\n",
              "            style=\"display:none;\">\n",
              "\n",
              "<svg xmlns=\"http://www.w3.org/2000/svg\" height=\"24px\"viewBox=\"0 0 24 24\"\n",
              "     width=\"24px\">\n",
              "    <g>\n",
              "        <path d=\"M19 3H5c-1.1 0-2 .9-2 2v14c0 1.1.9 2 2 2h14c1.1 0 2-.9 2-2V5c0-1.1-.9-2-2-2zM9 17H7v-7h2v7zm4 0h-2V7h2v10zm4 0h-2v-4h2v4z\"/>\n",
              "    </g>\n",
              "</svg>\n",
              "  </button>\n",
              "\n",
              "<style>\n",
              "  .colab-df-quickchart {\n",
              "      --bg-color: #E8F0FE;\n",
              "      --fill-color: #1967D2;\n",
              "      --hover-bg-color: #E2EBFA;\n",
              "      --hover-fill-color: #174EA6;\n",
              "      --disabled-fill-color: #AAA;\n",
              "      --disabled-bg-color: #DDD;\n",
              "  }\n",
              "\n",
              "  [theme=dark] .colab-df-quickchart {\n",
              "      --bg-color: #3B4455;\n",
              "      --fill-color: #D2E3FC;\n",
              "      --hover-bg-color: #434B5C;\n",
              "      --hover-fill-color: #FFFFFF;\n",
              "      --disabled-bg-color: #3B4455;\n",
              "      --disabled-fill-color: #666;\n",
              "  }\n",
              "\n",
              "  .colab-df-quickchart {\n",
              "    background-color: var(--bg-color);\n",
              "    border: none;\n",
              "    border-radius: 50%;\n",
              "    cursor: pointer;\n",
              "    display: none;\n",
              "    fill: var(--fill-color);\n",
              "    height: 32px;\n",
              "    padding: 0;\n",
              "    width: 32px;\n",
              "  }\n",
              "\n",
              "  .colab-df-quickchart:hover {\n",
              "    background-color: var(--hover-bg-color);\n",
              "    box-shadow: 0 1px 2px rgba(60, 64, 67, 0.3), 0 1px 3px 1px rgba(60, 64, 67, 0.15);\n",
              "    fill: var(--button-hover-fill-color);\n",
              "  }\n",
              "\n",
              "  .colab-df-quickchart-complete:disabled,\n",
              "  .colab-df-quickchart-complete:disabled:hover {\n",
              "    background-color: var(--disabled-bg-color);\n",
              "    fill: var(--disabled-fill-color);\n",
              "    box-shadow: none;\n",
              "  }\n",
              "\n",
              "  .colab-df-spinner {\n",
              "    border: 2px solid var(--fill-color);\n",
              "    border-color: transparent;\n",
              "    border-bottom-color: var(--fill-color);\n",
              "    animation:\n",
              "      spin 1s steps(1) infinite;\n",
              "  }\n",
              "\n",
              "  @keyframes spin {\n",
              "    0% {\n",
              "      border-color: transparent;\n",
              "      border-bottom-color: var(--fill-color);\n",
              "      border-left-color: var(--fill-color);\n",
              "    }\n",
              "    20% {\n",
              "      border-color: transparent;\n",
              "      border-left-color: var(--fill-color);\n",
              "      border-top-color: var(--fill-color);\n",
              "    }\n",
              "    30% {\n",
              "      border-color: transparent;\n",
              "      border-left-color: var(--fill-color);\n",
              "      border-top-color: var(--fill-color);\n",
              "      border-right-color: var(--fill-color);\n",
              "    }\n",
              "    40% {\n",
              "      border-color: transparent;\n",
              "      border-right-color: var(--fill-color);\n",
              "      border-top-color: var(--fill-color);\n",
              "    }\n",
              "    60% {\n",
              "      border-color: transparent;\n",
              "      border-right-color: var(--fill-color);\n",
              "    }\n",
              "    80% {\n",
              "      border-color: transparent;\n",
              "      border-right-color: var(--fill-color);\n",
              "      border-bottom-color: var(--fill-color);\n",
              "    }\n",
              "    90% {\n",
              "      border-color: transparent;\n",
              "      border-bottom-color: var(--fill-color);\n",
              "    }\n",
              "  }\n",
              "</style>\n",
              "\n",
              "  <script>\n",
              "    async function quickchart(key) {\n",
              "      const quickchartButtonEl =\n",
              "        document.querySelector('#' + key + ' button');\n",
              "      quickchartButtonEl.disabled = true;  // To prevent multiple clicks.\n",
              "      quickchartButtonEl.classList.add('colab-df-spinner');\n",
              "      try {\n",
              "        const charts = await google.colab.kernel.invokeFunction(\n",
              "            'suggestCharts', [key], {});\n",
              "      } catch (error) {\n",
              "        console.error('Error during call to suggestCharts:', error);\n",
              "      }\n",
              "      quickchartButtonEl.classList.remove('colab-df-spinner');\n",
              "      quickchartButtonEl.classList.add('colab-df-quickchart-complete');\n",
              "    }\n",
              "    (() => {\n",
              "      let quickchartButtonEl =\n",
              "        document.querySelector('#df-7df48cbd-d9c8-45ee-b686-9136bfcf7fc1 button');\n",
              "      quickchartButtonEl.style.display =\n",
              "        google.colab.kernel.accessAllowed ? 'block' : 'none';\n",
              "    })();\n",
              "  </script>\n",
              "</div>\n",
              "\n",
              "    </div>\n",
              "  </div>\n"
            ],
            "application/vnd.google.colaboratory.intrinsic+json": {
              "type": "dataframe",
              "variable_name": "df",
              "summary": "{\n  \"name\": \"df\",\n  \"rows\": 200,\n  \"fields\": [\n    {\n      \"column\": \"text\",\n      \"properties\": {\n        \"dtype\": \"string\",\n        \"num_unique_values\": 200,\n        \"samples\": [\n          \"\\u0c2c\\u0c3e\\u0c17\\u0c3e\\u0c28\\u0c47 \\u0c09\\u0c02\\u0c26\\u0c3f \\u0c2e\\u0c3e \\u0c2a\\u0c46\\u0c1f\\u0c4d\\u0c1f\\u0c41\\u0c2c\\u0c21\\u0c3f\\u0c15\\u0c3f \\u0c38\\u0c30\\u0c3f\\u0c2a\\u0c4b\\u0c24\\u0c41\\u0c02\\u0c26\\u0c3f \\u0c30\\u0c4b\\u0c1c\\u0c41 \\u0c2a\\u0c28\\u0c41\\u0c32\\u0c15\\u0c3f \\u0c2c\\u0c3e\\u0c17\\u0c3e \\u0c2a\\u0c28\\u0c3f\\u0c15\\u0c4a\\u0c38\\u0c4d\\u0c24\\u0c41\\u0c02\\u0c26\\u0c3f\",\n          \"\\u0c39\\u0c3e\\u0c2f\\u0c4d \\u0c17\\u0c2f\\u0c4d\\u0c38\\u0c4d \\u0c28\\u0c47\\u0c21\\u0c41 \\u0c28\\u0c47\\u0c28\\u0c41 \\u0c2e\\u0c40\\u0c24\\u0c4b \\u0c28\\u0c3e \\u0c38\\u0c3e\\u0c2e\\u0c4d\\u0c38\\u0c02\\u0c17\\u0c4d \\u0c17\\u0c46\\u0c32\\u0c3e\\u0c15\\u0c4d\\u0c38\\u0c40 j2 2016 \\u0c24\\u0c4b \\u0c09\\u0c28\\u0c4d\\u0c28 \\u0c05\\u0c28\\u0c41\\u0c2d\\u0c35\\u0c02 \\u0c17\\u0c41\\u0c30\\u0c3f\\u0c02\\u0c1a\\u0c3f \\u0c1a\\u0c46\\u0c2a\\u0c4d\\u0c2a\\u0c3e\\u0c32\\u0c28\\u0c41\\u0c15\\u0c41\\u0c02\\u0c1f\\u0c41\\u0c28\\u0c4d\\u0c28\\u0c3e\\u0c28\\u0c41  \\u0c08 \\u0c2b\\u0c4b\\u0c28\\u0c4d \\u0c2e\\u0c02\\u0c1a\\u0c3f\\u0c26\\u0c3f \\u0c2e\\u0c30\\u0c3f\\u0c2f\\u0c41 \\u0c38\\u0c30\\u0c38\\u0c2e\\u0c48\\u0c28 \\u0c27\\u0c30  \\u0c38\\u0c4c\\u0c02\\u0c21\\u0c4d \\u0c30\\u0c3f\\u0c38\\u0c46\\u0c2a\\u0c4d\\u0c37\\u0c28\\u0c4d - \\u0c1a\\u0c3e\\u0c32\\u0c3e \\u0c2c\\u0c3e\\u0c17\\u0c41\\u0c02\\u0c26\\u0c3f \\u0c39\\u0c46\\u0c21\\u0c4d\\u0c2b\\u0c4b\\u0c28\\u0c4d\\u0c38\\u0c4d \\u0c32\\u0c47\\u0c15\\u0c41\\u0c02\\u0c21\\u0c3e\\u0c28\\u0c47 \\u0c38\\u0c4c\\u0c02\\u0c21\\u0c4d \\u0c38\\u0c4d\\u0c2a\\u0c37\\u0c4d\\u0c1f\\u0c02\\u0c17\\u0c3e \\u0c35\\u0c3f\\u0c28\\u0c3f\\u0c2a\\u0c3f\\u0c38\\u0c4d\\u0c24\\u0c41\\u0c02\\u0c26\\u0c3f  \\u0c2f\\u0c42\\u0c1c\\u0c30\\u0c4d \\u0c2b\\u0c4d\\u0c30\\u0c46\\u0c02\\u0c21\\u0c4d\\u0c32\\u0c40 -  \\u0c08 \\u0c2b\\u0c4b\\u0c28\\u0c4d\\u0c28\\u0c41 \\u0c09\\u0c2a\\u0c2f\\u0c4b\\u0c17\\u0c3f\\u0c02\\u0c1a\\u0c3f\\u0c28 \\u0c24\\u0c30\\u0c4d\\u0c35\\u0c3e\\u0c24 \\u0c28\\u0c47\\u0c28\\u0c41 \\u0c17\\u0c4d\\u0c30\\u0c39\\u0c3f\\u0c02\\u0c1a\\u0c3e\\u0c28\\u0c41 \\u0c26\\u0c40\\u0c28\\u0c4d\\u0c28\\u0c3f \\u0c1a\\u0c3e\\u0c32\\u0c3e \\u0c38\\u0c41\\u0c32\\u0c2d\\u0c02\\u0c17\\u0c3e \\u0c09\\u0c2a\\u0c2f\\u0c4b\\u0c17\\u0c3f\\u0c02\\u0c1a\\u0c35\\u0c1a\\u0c4d\\u0c1a\\u0c41 \\u0c2e\\u0c30\\u0c3f\\u0c2f\\u0c41 \\u0c28\\u0c3f\\u0c1c\\u0c02\\u0c17\\u0c3e \\u0c2f\\u0c42\\u0c1c\\u0c30\\u0c4d \\u0c2b\\u0c4d\\u0c30\\u0c46\\u0c02\\u0c21\\u0c4d\\u0c32\\u0c40 \\u0c05\\u0c28\\u0c3f  \\u0c38\\u0c4d\\u0c1f\\u0c48\\u0c32\\u0c4d \\u0c2e\\u0c30\\u0c3f\\u0c2f\\u0c41 \\u0c21\\u0c3f\\u0c1c\\u0c46\\u0c56\\u0c28\\u0c4d -  \\u0c21\\u0c3f\\u0c1c\\u0c46\\u0c56\\u0c28\\u0c4d \\u0c17\\u0c41\\u0c30\\u0c3f\\u0c02\\u0c1a\\u0c3f \\u0c1a\\u0c46\\u0c2a\\u0c4d\\u0c2a\\u0c3e\\u0c32\\u0c4d\\u0c38\\u0c3f\\u0c28 \\u0c05\\u0c35\\u0c38\\u0c30\\u0c02 \\u0c32\\u0c47\\u0c26\\u0c41 \\u0c2e\\u0c40\\u0c30\\u0c47 \\u0c1a\\u0c42\\u0c21\\u0c4a\\u0c1a\\u0c4d\\u0c1a\\u0c41 \\u0c1a\\u0c3e\\u0c32\\u0c3e \\u0c05\\u0c26\\u0c4d\\u0c2d\\u0c41\\u0c24\\u0c02\\u0c17\\u0c3e \\u0c09\\u0c02\\u0c26\\u0c3f \\u0c35\\u0c46\\u0c28\\u0c41\\u0c15\\u0c35\\u0c48\\u0c2a\\u0c41 \\u0c21\\u0c3f\\u0c1c\\u0c46\\u0c56\\u0c28\\u0c4d \\u0c1a\\u0c3e\\u0c32\\u0c3e \\u0c2c\\u0c3e\\u0c17\\u0c41\\u0c02\\u0c26\\u0c3f \\u0c07\\u0c24\\u0c30 \\u0c2b\\u0c40\\u0c1a\\u0c30\\u0c4d\\u0c32\\u0c41 - \\u0c08 \\u0c38\\u0c4d\\u0c2e\\u0c3e\\u0c30\\u0c4d\\u0c1f\\u0c4d \\u0c2b\\u0c4b\\u0c28\\u0c4d\\u0c32\\u0c4b \\u0c28\\u0c3e\\u0c15\\u0c41 \\u0c07\\u0c37\\u0c4d\\u0c1f\\u0c2e\\u0c48\\u0c28 \\u0c2b\\u0c40\\u0c1a\\u0c30\\u0c4d\\u0c38\\u0c4d \\u0c12\\u0c15 \\u0c35\\u0c46\\u0c28\\u0c41\\u0c15 \\u0c32\\u0c48\\u0c1f\\u0c4d \\u0c07\\u0c28\\u0c4d\\u0c21\\u0c3f\\u0c15\\u0c47\\u0c1f\\u0c30\\u0c4d \\u0c2e\\u0c30\\u0c3f\\u0c2f\\u0c41 \\u0c0f\\u0c26\\u0c48\\u0c28\\u0c3e \\u0c15\\u0c3e\\u0c32\\u0c4d \\u0c32\\u0c47\\u0c26\\u0c3e \\u0c2e\\u0c46\\u0c38\\u0c47\\u0c1c\\u0c4d \\u0c35\\u0c1a\\u0c4d\\u0c1a\\u0c3f\\u0c28\\u0c2a\\u0c4d\\u0c2a\\u0c41\\u0c21\\u0c41 \\u0c35\\u0c46\\u0c32\\u0c3f\\u0c17\\u0c47 \\u0c26\\u0c3e\\u0c28\\u0c3f \\u0c2c\\u0c4d\\u0c32\\u0c4b \\u0c32\\u0c46\\u0c56\\u0c1f\\u0c4d \\u0c07\\u0c26\\u0c3f \\u0c15\\u0c42\\u0c32\\u0c4d \\u0c2b\\u0c40\\u0c1a\\u0c30\\u0c4d \\u0c2e\\u0c30\\u0c3f\\u0c2f\\u0c41 \\u0c07\\u0c24\\u0c30 \\u0c2b\\u0c40\\u0c1a\\u0c30\\u0c4d\\u0c32\\u0c41 \\u0c2e\\u0c02\\u0c1a\\u0c3f\\u0c35\\u0c47  \\u0c32\\u0c41\\u0c15\\u0c4d \\u0c2e\\u0c30\\u0c3f\\u0c2f\\u0c41 \\u0c2b\\u0c40\\u0c32\\u0c4d -  \\u0c07\\u0c26\\u0c3f \\u0c1a\\u0c47\\u0c24\\u0c3f\\u0c32\\u0c4b \\u0c1a\\u0c42\\u0c21\\u0c1f\\u0c3e\\u0c28\\u0c3f\\u0c15\\u0c3f \\u0c1a\\u0c3e\\u0c32\\u0c3e \\u0c2c\\u0c3e\\u0c17\\u0c41\\u0c02\\u0c26\\u0c3f \\u0c07\\u0c26\\u0c3f \\u0c1a\\u0c3e\\u0c32\\u0c3e \\u0c16\\u0c30\\u0c40\\u0c26\\u0c48\\u0c28 \\u0c2b\\u0c4b\\u0c28\\u0c4d\\u0c32\\u0c3e \\u0c05\\u0c28\\u0c3f\\u0c2a\\u0c3f\\u0c38\\u0c4d\\u0c24\\u0c41\\u0c02\\u0c26\\u0c3f \\u0c08 \\u0c2b\\u0c4b\\u0c28\\u0c4d \\u0c38\\u0c48\\u0c1c\\u0c41 \\u0c2c\\u0c3e\\u0c17\\u0c41\\u0c02\\u0c26\\u0c3f  \\u0c21\\u0c2c\\u0c4d\\u0c2c\\u0c41\\u0c15\\u0c41 \\u0c24\\u0c17\\u0c4d\\u0c17 \\u0c35\\u0c3f\\u0c32\\u0c41\\u0c35 - \\u0c16\\u0c30\\u0c40\\u0c26\\u0c48\\u0c28\\u0c26\\u0c3f \\u0c15\\u0c3e\\u0c26\\u0c41 \\u0c2e\\u0c40 \\u0c2c\\u0c21\\u0c4d\\u0c1c\\u0c46\\u0c1f\\u0c4d 10000 rs \\u0c05\\u0c2f\\u0c3f\\u0c24\\u0c47 \\u0c08 \\u0c2b\\u0c4b\\u0c28\\u0c4d \\u0c2c\\u0c46\\u0c38\\u0c4d\\u0c1f\\u0c4d \\u0c28\\u0c47\\u0c28\\u0c41 \\u0c2a\\u0c4d\\u0c30\\u0c24\\u0c3f \\u0c12\\u0c15\\u0c4d\\u0c15\\u0c30\\u0c42 \\u0c26\\u0c3e\\u0c28\\u0c3f\\u0c28\\u0c3f \\u0c15\\u0c4a\\u0c28\\u0c41\\u0c17\\u0c4b\\u0c32\\u0c41 \\u0c1a\\u0c47\\u0c2f\\u0c3e\\u0c32\\u0c28\\u0c41\\u0c15\\u0c41\\u0c02\\u0c1f\\u0c41\\u0c28\\u0c4d\\u0c28\\u0c3e\\u0c28\\u0c41 \\u0c35\\u0c3e\\u0c30\\u0c3f \\u0c2c\\u0c21\\u0c4d\\u0c1c\\u0c46\\u0c1f\\u0c4d 10000 \\u0c15\\u0c28\\u0c4d\\u0c28\\u0c3e \\u0c24\\u0c15\\u0c4d\\u0c15\\u0c41\\u0c35 \\u0c09\\u0c02\\u0c1f\\u0c47 \\u0c27\\u0c28\\u0c4d\\u0c2f\\u0c35\\u0c3e\\u0c26\\u0c3e\\u0c32\\u0c41\",\n          \"\\u0c39\\u0c3e\\u0c2f\\u0c4d \\u0c2b\\u0c4d\\u0c30\\u0c46\\u0c02\\u0c21\\u0c4d\\u0c38\\u0c4d  \\u0c2e\\u0c3e \\u0c28\\u0c3e\\u0c28\\u0c4d\\u0c28\\u0c17\\u0c3e\\u0c30\\u0c41 \\u0c26\\u0c3e\\u0c26\\u0c3e\\u0c2a\\u0c41 1 \\u0c38\\u0c02\\u0c35\\u0c24\\u0c4d\\u0c38\\u0c30\\u0c2e\\u0c41 \\u0c2e\\u0c41\\u0c02\\u0c26\\u0c41 \\u0c08 TV\\u0c28\\u0c3f \\u0c15\\u0c4a\\u0c28\\u0c4d\\u0c28\\u0c3e\\u0c30\\u0c41 \\u0c08 TV \\u0c2f\\u0c4a\\u0c15\\u0c4d\\u0c15 \\u0c36\\u0c46\\u0c56\\u0c32\\u0c3f \\u0c2e\\u0c30\\u0c3f\\u0c2f\\u0c41 \\u0c21\\u0c3f\\u0c1c\\u0c46\\u0c56\\u0c28\\u0c4d \\u0c1a\\u0c3e\\u0c32\\u0c3e \\u0c2c\\u0c3e\\u0c17\\u0c41\\u0c28\\u0c4d\\u0c28\\u0c3e\\u0c2f\\u0c3f \\n\\u0c15\\u0c3e\\u0c28\\u0c40 \\u0c08 TV  \\u0c2f\\u0c4a\\u0c15\\u0c4d\\u0c15 \\u0c35\\u0c40\\u0c21\\u0c3f\\u0c2f\\u0c4b \\u0c28\\u0c3e\\u0c23\\u0c4d\\u0c2f\\u0c24 \\u0c05\\u0c02\\u0c24 \\u0c2c\\u0c3e\\u0c17\\u0c4b\\u0c32\\u0c47\\u0c26\\u0c41 \\u0c2e\\u0c30\\u0c3f\\u0c2f\\u0c41 \\u0c08 TV \\u0c38\\u0c4c\\u0c02\\u0c21\\u0c4d \\u0c30\\u0c3f\\u0c38\\u0c46\\u0c2a\\u0c4d\\u0c37\\u0c28\\u0c4d \\u0c15\\u0c42\\u0c21\\u0c3e \\u0c38\\u0c4d\\u0c2a\\u0c37\\u0c4d\\u0c1f\\u0c02\\u0c17\\u0c3e \\u0c32\\u0c47\\u0c26\\u0c41 \\u0c2e\\u0c30\\u0c3f\\u0c2f\\u0c41 \\u0c08 TV \\u0c30\\u0c3f\\u0c2e\\u0c4b\\u0c1f\\u0c4d \\u0c1a\\u0c46\\u0c24\\u0c4d\\u0c24 \\u0c2a\\u0c4d\\u0c32\\u0c3e\\u0c38\\u0c4d\\u0c1f\\u0c3f\\u0c15\\u0c4d\\u0c24\\u0c4b \\u0c1a\\u0c47\\u0c38\\u0c3e\\u0c30\\u0c41 \\u0c2e\\u0c30\\u0c3f\\u0c2f\\u0c41 \\u0c38\\u0c41\\u0c32\\u0c2d\\u0c02\\u0c17\\u0c3e \\u0c35\\u0c3f\\u0c30\\u0c3f\\u0c17\\u0c3f\\u0c2a\\u0c4b\\u0c24\\u0c41\\u0c02\\u0c26\\u0c3f \\u0c08 \\u0c2a\\u0c4d\\u0c30\\u0c4b\\u0c21\\u0c15\\u0c4d\\u0c1f\\u0c4d\\u0c15\\u0c3f \\u0c15\\u0c38\\u0c4d\\u0c1f\\u0c2e\\u0c30\\u0c4d \\u0c38\\u0c47\\u0c35\\u0c32\\u0c41 \\u0c05\\u0c38\\u0c4d\\u0c38\\u0c32\\u0c41 \\u0c2c\\u0c3e\\u0c17\\u0c4b\\u0c32\\u0c47\\u0c35\\u0c41 \\u0c2e\\u0c30\\u0c3f\\u0c2f\\u0c41 \\u0c35\\u0c3e\\u0c30\\u0c3f \\u0c38\\u0c3f\\u0c2c\\u0c4d\\u0c2c\\u0c02\\u0c26\\u0c3f \\u0c2a\\u0c4d\\u0c30\\u0c35\\u0c30\\u0c4d\\u0c24\\u0c28 \\u0c2c\\u0c3e\\u0c17\\u0c4b\\u0c32\\u0c47\\u0c26\\u0c41 \\u0c15\\u0c3e\\u0c2c\\u0c1f\\u0c4d\\u0c1f\\u0c3f \\u0c08 TV  \\u0c1a\\u0c46\\u0c24\\u0c4d\\u0c24\\u0c17\\u0c3e \\u0c09\\u0c02\\u0c26\\u0c3f \\u0c2e\\u0c30\\u0c3f\\u0c2f\\u0c41 \\u0c2e\\u0c02\\u0c1a\\u0c3f \\u0c35\\u0c3f\\u0c32\\u0c41\\u0c35 \\u0c15\\u0c32\\u0c3f\\u0c17\\u0c3f\\u0c28\\u0c26\\u0c3f \\u0c15\\u0c3e\\u0c26\\u0c41  \\u0c08 TV  \\u0c15\\u0c4a\\u0c28\\u0c41\\u0c17\\u0c4b\\u0c32\\u0c41 \\u0c1a\\u0c47\\u0c2f\\u0c35\\u0c26\\u0c4d\\u0c26\\u0c28\\u0c3f \\u0c28\\u0c47\\u0c28\\u0c41 \\u0c38\\u0c42\\u0c1a\\u0c3f\\u0c38\\u0c4d\\u0c24\\u0c41\\u0c28\\u0c4d\\u0c28\\u0c3e\\u0c28\\u0c41 \\u0c27\\u0c28\\u0c4d\\u0c2f\\u0c35\\u0c3e\\u0c26\\u0c3e\\u0c32\\u0c41\"\n        ],\n        \"semantic_type\": \"\",\n        \"description\": \"\"\n      }\n    },\n    {\n      \"column\": \"label\",\n      \"properties\": {\n        \"dtype\": \"number\",\n        \"std\": 0,\n        \"min\": 0,\n        \"max\": 1,\n        \"num_unique_values\": 2,\n        \"samples\": [\n          1,\n          0\n        ],\n        \"semantic_type\": \"\",\n        \"description\": \"\"\n      }\n    },\n    {\n      \"column\": \"n_grams\",\n      \"properties\": {\n        \"dtype\": \"object\",\n        \"semantic_type\": \"\",\n        \"description\": \"\"\n      }\n    },\n    {\n      \"column\": \"text_embeddings\",\n      \"properties\": {\n        \"dtype\": \"string\",\n        \"num_unique_values\": 200,\n        \"samples\": [\n          \"tensor([[ 3.2962e-01, -1.2901e-01, -2.5074e-02, -2.3392e-01,  9.9417e-02,\\n         -3.1125e-01,  1.0138e-01,  1.4004e-02,  2.9495e-02,  7.9380e-02,\\n          8.1215e-01, -1.5030e-03,  1.6470e-01,  9.9487e-02, -3.0677e-01,\\n          1.6352e-01, -2.8566e-02, -5.6270e-02,  2.9292e-01,  4.8917e-02,\\n         -2.0302e-01, -6.5940e-02, -9.7636e-02,  1.2397e-03, -1.1394e-01,\\n          5.7191e-02,  1.7098e-01, -6.5545e-02, -1.7062e-01, -1.7260e-01,\\n         -1.1894e-01,  2.6724e-02, -6.5054e-02, -1.9571e-01,  1.3705e-01,\\n          2.6697e-01,  7.0817e-02, -4.9651e-02,  2.2613e-01, -1.3232e-01,\\n         -2.5370e-01,  2.2208e-01,  3.6589e-02, -2.2740e-01,  2.7153e-02,\\n          2.2289e-01, -1.7189e-01, -2.5804e-02,  2.5445e-02, -6.8329e-02,\\n          9.9418e-02,  3.5543e-02, -1.5594e-01,  5.6730e-02,  1.7903e-01,\\n         -9.3316e-02, -1.2668e-01, -2.8605e-02, -3.4236e-02,  5.7820e-02,\\n          7.9698e-01, -4.3779e-01,  2.1529e-01,  3.6811e-01, -2.8226e-01,\\n         -3.0757e-02, -5.4519e-02,  2.5403e-01,  6.5243e-01,  9.2857e-02,\\n         -1.4583e-01, -1.8483e-01,  4.3745e-01, -2.7126e-01, -1.8778e-01,\\n         -2.0958e-01, -8.0433e-02,  4.1020e-02,  1.1164e-01,  1.8990e-01,\\n         -3.2040e-01, -8.1244e-02, -3.0268e-01, -2.0804e-01, -4.5879e-02,\\n         -3.2619e-01, -6.9632e-03,  5.6289e-02, -1.1274e-01, -3.6694e-01,\\n         -8.9496e-02,  2.3415e-01,  1.6298e-01,  1.5410e-01,  4.8125e-02,\\n          7.1963e-02, -1.9346e-01,  2.7741e-01, -1.2214e-01, -9.5814e-02,\\n          6.4844e-02, -9.3619e-02, -4.7214e-01, -1.7324e-01, -2.1665e-02,\\n          2.1411e-01,  1.2563e-01, -1.1875e-02, -2.8293e-01, -1.5863e-01,\\n          1.6555e-01, -1.3999e-01,  5.6788e-01,  5.2093e-02, -3.0334e-02,\\n          1.7850e-01,  1.0731e-01,  6.9036e-01, -4.5042e-01,  4.6006e-01,\\n         -7.1186e-02, -9.5691e-02, -1.5955e-01, -2.0084e-01,  2.9813e-01,\\n          3.1352e-01,  1.9119e-01, -1.3486e-02,  9.6775e-02, -2.3058e-02,\\n          2.0383e-01, -1.1840e-01,  5.4343e-01,  2.2111e-01, -3.2101e-01,\\n         -3.0061e-01,  6.3135e-02, -6.1822e-02, -9.7776e-01,  2.3746e-01,\\n         -1.6701e-02, -1.2516e-01, -7.1306e-02,  1.0017e-01,  9.5620e-02,\\n          9.1716e-02,  8.9091e-02, -1.4216e-01,  5.9089e-03, -7.0612e-02,\\n          3.1557e-01, -1.3926e-01, -6.0656e-02, -1.2423e-01, -2.2765e-01,\\n         -2.0491e-02,  6.2401e-01,  2.3225e-01,  3.0634e-02,  2.6391e-01,\\n         -1.6703e-01, -1.2710e-02, -3.6373e-01,  5.7746e-02, -4.0117e-01,\\n         -8.3105e-02, -2.5473e-01,  9.4923e-02,  9.5763e-02, -5.7660e-03,\\n          6.3548e-02,  1.0711e-01,  5.3111e-02,  2.7238e-01, -9.8147e-02,\\n          3.8824e-02, -3.6885e-02, -3.3205e-01,  1.1813e-02, -1.9664e-01,\\n         -9.9315e-02,  1.2549e-01,  3.1662e-01, -2.3110e-01,  1.5006e-01,\\n         -9.3295e-02, -2.3893e-02,  5.2179e-02,  5.0710e-02, -1.5052e-01,\\n         -5.9832e-02, -1.4116e-02,  4.6534e-02,  9.1346e-02,  4.1419e-01,\\n         -4.6892e-02,  1.0172e-01,  1.3332e-01, -2.5371e+00,  8.3157e-02,\\n         -2.1353e-02,  3.1403e-01, -5.9762e-01, -2.8910e-01, -4.0202e-01,\\n         -1.7213e-01, -3.9717e-02,  3.8661e-01,  6.2595e-01,  2.5787e-01,\\n         -3.4678e-01,  5.8738e-02,  5.6413e-02,  8.5502e-02, -4.1560e-02,\\n         -2.1388e-01,  6.5899e-02,  2.3425e-02, -2.7213e-01, -2.0873e-01,\\n         -1.9233e-01, -8.4633e-01, -5.5778e-01,  9.2142e-02, -1.9216e-01,\\n          2.6815e-01, -1.3755e-01, -2.4473e-01,  5.1318e-02, -1.5766e-01,\\n          1.2770e-01,  1.2364e-01, -2.2764e-01,  2.9721e-01, -9.2980e-02,\\n         -3.0664e-02, -3.3101e-01,  2.7401e-01, -2.7704e-02, -2.7680e-01,\\n         -9.1692e-02, -1.8138e-01,  1.3630e-01, -4.4967e-02,  1.5925e-01,\\n         -1.0483e-02,  1.7388e-01, -2.0524e-01, -3.7547e-01, -1.6610e-01,\\n          1.0110e-01,  9.8181e-02, -8.4181e-02, -6.3954e-03, -3.3981e-01,\\n          1.2053e-01,  2.6500e-01,  1.4610e-02, -5.1370e-02, -1.5755e-01,\\n          2.2917e-01, -1.9439e-01, -4.7295e-02, -3.7419e-01,  4.2668e-01,\\n         -5.2013e-02,  2.6962e-01,  3.6523e-01,  2.3975e-01,  1.9808e-01,\\n          1.5507e-01,  1.3035e-01,  1.7411e-02, -1.5445e-01,  2.3704e-01,\\n          1.2777e-01, -1.0979e-01,  3.0068e-01,  1.9300e-01,  6.7487e-02,\\n         -1.5818e-01, -2.5819e-02,  2.9519e-01, -5.6670e-02, -1.0108e-01,\\n          6.3537e-01,  2.7375e-01, -5.9873e-02, -4.6716e-02,  1.0753e-02,\\n         -1.0428e+00, -4.3901e-02, -4.6594e-01,  6.0566e-02, -3.7414e-02,\\n          6.3386e-02,  8.0240e-02,  2.4664e-02, -3.0780e-01, -2.0307e-01,\\n          4.3158e-02,  1.1726e-01, -2.1985e-01,  2.4817e-01,  3.0173e-02,\\n          1.3087e-01,  4.5977e-04,  8.7432e-02,  1.4225e-02, -2.7196e-01,\\n         -8.1708e-02,  1.4901e-01, -1.8849e-02,  6.2117e-02, -1.3476e-01,\\n          3.2725e-01, -5.1746e-02,  1.1867e-01, -9.7885e-02, -1.6261e-01,\\n         -4.8616e-01,  1.6998e-01, -6.1607e-01, -1.2913e-01,  2.4816e-01,\\n          2.9001e-01, -6.7108e-02,  3.1935e-01,  1.3172e-01,  1.7925e-01,\\n         -9.9071e-02, -1.8145e-01,  1.7833e-01, -3.0922e-01, -1.2902e-01,\\n         -3.0284e-01, -5.0070e-01, -1.4792e-01,  1.6494e-01, -2.0630e-01,\\n         -4.1542e-02, -1.4529e-01, -4.7026e-02, -3.2543e-01, -3.5352e-01,\\n          2.5591e-02,  4.0150e-01,  1.3208e-01, -3.3386e-02,  6.4927e-02,\\n          1.3686e-01,  1.5173e-02, -2.5694e-01, -2.8670e-02,  7.4749e-02,\\n         -4.1108e-01, -3.1009e-02, -2.2833e-01,  3.0196e-01, -3.1012e-03,\\n         -1.3309e-01,  1.0500e-01, -6.1056e-02,  8.5355e-02, -3.2236e-01,\\n         -1.2889e-01, -1.9405e-01, -4.6651e-01,  2.8239e-01,  1.4997e-01,\\n         -2.1829e-01, -5.5501e-02,  1.2199e-01,  1.8565e-01,  3.7538e-01,\\n         -6.6379e-01,  2.9882e-01,  8.5368e-03,  2.8651e-01, -1.4945e-01,\\n         -8.9942e-02,  1.7457e-02,  2.3280e-01,  1.2560e-02, -3.5260e-01,\\n          7.3174e-02, -1.1635e-02, -3.8060e-01,  1.3411e-01, -2.1614e-01,\\n         -6.5945e-02,  2.0683e-01,  1.4043e-01, -3.5693e-01, -3.1408e-02,\\n          3.6427e-01, -8.0065e-02,  3.4848e-01, -1.6053e-01, -6.0769e-02,\\n         -2.8470e-02,  2.5532e-02,  7.2074e-02,  4.3704e-01,  3.9182e-01,\\n          8.6850e-02,  1.3616e-01, -3.9712e-02, -7.0558e-02, -6.3561e-02,\\n          7.2562e-02,  8.2352e-03, -5.9348e-02, -3.3000e-01,  5.0935e-02,\\n         -8.9257e-02, -7.6127e-03, -9.4464e-02,  2.3168e-01, -8.5859e-02,\\n         -4.3873e-02, -1.1166e-01,  1.5717e-01, -1.1544e-01,  2.7030e-03,\\n         -1.7181e-01, -1.0782e-01,  1.3998e-01,  6.3271e-01, -8.1310e-03,\\n         -2.7965e-01,  4.7500e-02, -6.0013e-02, -1.5166e-02,  4.3719e-01,\\n         -1.5859e-02, -1.5789e-01, -1.8424e-01,  3.4693e-01, -3.8345e-01,\\n          1.8740e-01, -6.9817e-02,  1.6379e-01,  1.6178e-01, -4.0197e-01,\\n         -4.6537e-02, -1.3249e-01,  1.5171e-01,  2.1475e-01, -2.3882e-01,\\n         -9.3950e-02,  1.2587e-01, -1.5014e-01, -5.9972e-02,  7.8795e-02,\\n          1.4729e-01, -6.2991e-02,  7.9309e-01,  3.5944e-02, -7.2793e-02,\\n         -1.8429e-01,  7.0687e-02, -2.3258e-01,  2.5361e-01,  1.0872e-01,\\n          8.0035e-02, -3.0822e-02, -7.6629e-02, -1.9031e-01, -5.2634e-02,\\n         -1.9200e-01, -1.6165e-01, -1.5615e-01,  3.3241e-01,  1.1052e-02,\\n          1.6744e-02, -4.4849e-01,  1.9979e-01,  8.5000e-04, -3.8154e-02,\\n          3.6641e-01, -8.2292e-02,  5.9521e-02,  5.2155e-02, -5.4750e-02,\\n         -1.5916e-01,  1.6425e-01,  1.0816e-01,  2.0527e-01,  1.6334e-01,\\n         -2.2820e-01, -3.9725e-02,  1.3220e-01,  6.8006e-02,  3.4121e-02,\\n         -8.3687e-02, -3.7273e-01,  8.5004e-04,  2.3384e-01, -3.4084e-01,\\n          2.8261e-01,  1.1896e-01,  4.9022e-02,  5.2409e-02,  1.2398e-01,\\n         -3.5279e-01,  1.2269e-01,  1.7808e-01, -2.1946e-01,  6.4639e-01,\\n         -1.6447e-01, -6.4908e-02,  2.2976e-01,  6.6594e-01, -4.2389e-01,\\n         -8.6387e-02,  7.3110e-02,  9.9872e-03,  1.0645e-01,  1.6356e-01,\\n          7.8109e-03, -1.0391e-01,  4.3703e-03, -1.9011e-01, -1.9863e-01,\\n          2.1663e-02,  1.2176e-01,  1.3514e-01, -1.1100e-01, -9.6756e-02,\\n          2.6254e-02,  8.6293e-02, -3.1406e-01,  4.2140e-02, -2.2315e-01,\\n         -2.2039e-01,  4.8394e-02,  7.7543e-02, -4.6209e-02,  6.7021e-02,\\n         -4.2729e-02,  2.0402e-01,  1.5760e-01, -5.4505e-02, -3.0590e-02,\\n         -1.1819e-01, -2.1326e-01,  2.4137e-02, -4.8933e-02,  2.0845e-01,\\n          2.8110e-01,  4.3499e-01, -8.4274e-02, -1.2017e-01,  3.3027e-02,\\n          4.1179e-02, -7.1237e-02,  2.4886e-01, -2.9684e-02,  1.9709e-01,\\n         -1.5298e-01,  1.5256e-02, -2.1217e-01, -6.7712e-02,  9.9913e-04,\\n          1.2321e-01,  3.4746e-01,  1.2513e-01,  4.1762e-01, -1.4788e-01,\\n         -3.1480e-01, -4.2433e-01,  1.5191e-01, -3.1858e-02, -3.9430e-01,\\n         -1.9001e-01, -1.8693e-01, -1.5724e-01, -2.6945e-01, -3.6431e-01,\\n          1.3397e-01, -4.7734e-01,  3.8328e-02, -5.4849e-02,  1.2839e-01,\\n          6.7770e-02, -1.9291e-02, -1.4864e-01, -1.9282e-01, -1.1993e-04,\\n          3.2303e-02, -1.0245e-01,  1.9777e-01,  2.8449e-02, -1.2569e-01,\\n          1.7380e-01, -1.5732e-01, -8.3991e-02,  7.9844e-02,  1.3667e-02,\\n         -4.4590e-02,  8.0950e-02,  2.4199e-02,  2.1828e-01, -1.4224e-01,\\n         -1.5904e-01, -2.2707e-01,  1.9910e-02, -2.6628e-02, -2.1293e-01,\\n         -1.2963e-01, -3.1651e-01,  6.2997e-01,  2.0158e-01,  5.0606e-02,\\n          1.8713e-01,  7.6601e-01, -1.6260e-01, -1.6369e-01,  9.4970e-02,\\n          1.9306e-01, -3.6465e-01,  1.9190e-01, -5.9067e-02,  1.9284e-01,\\n         -5.5342e-02, -3.0959e-01,  1.6964e-01, -6.6959e-02, -2.3347e-01,\\n         -2.2917e-02,  1.2117e-01,  7.8346e-02, -1.3364e-01,  2.1497e-02,\\n          2.8809e-01, -2.0953e-01, -1.1475e-01,  1.5184e-01, -2.8767e-01,\\n         -5.2545e-02, -1.0570e-01,  2.3268e-01,  6.3672e-02, -2.0395e-01,\\n          1.3997e-02,  3.8780e-02,  1.2894e-01, -8.6636e-03, -2.0284e-02,\\n         -1.3761e-01,  2.8865e-01, -6.7523e-01, -1.8473e-01,  1.4432e-01,\\n         -1.2368e-01,  3.1378e-01, -1.8682e-01, -1.1166e-01,  1.5376e-01,\\n         -5.9301e-02,  5.0813e-02, -3.0188e-02, -4.1467e-02,  1.1439e-01,\\n          3.5416e-01, -2.0079e-01,  1.9246e-01,  4.8741e-02, -4.4288e-02,\\n         -3.0135e-02, -3.6089e-01,  3.9352e-01,  2.3166e-01,  2.8218e-01,\\n          1.1170e-01, -4.2056e-01, -4.5431e-02, -3.0322e-02, -1.9896e-01,\\n          5.7517e-02,  6.5481e-02,  2.6613e-01,  2.0085e-01,  1.1382e-01,\\n         -1.5339e-01,  1.3325e-01,  1.4061e-01,  1.9561e-01,  9.1470e-02,\\n         -3.0602e-01, -4.7213e-01,  5.3229e-02, -3.7514e-02, -1.3094e-01,\\n         -1.8294e-01, -1.6880e-01,  1.2838e-01,  2.2620e-01, -2.9951e-01,\\n         -3.5842e-01, -1.4299e-01, -1.3256e-01, -4.6220e-02, -8.7301e-02,\\n          8.1806e-02,  3.5934e-01,  1.5862e-01, -6.0144e-02, -1.9334e-02,\\n         -1.0567e-01, -1.1700e-01, -7.9839e-01,  1.3111e-01,  2.0306e-01,\\n         -1.7224e-01,  1.6464e-01,  5.1806e-02,  2.5484e-01, -5.2907e-01,\\n          1.8534e-01, -1.7745e-01,  2.2138e-01,  4.9608e-02, -2.3154e+00,\\n         -2.0302e-01,  1.9696e-01,  1.0112e-01,  3.1030e-01,  5.0782e-02,\\n          1.9788e-01, -9.8861e-02, -6.9793e-02, -4.6816e-01, -2.1056e-01,\\n          1.8127e-01, -3.4056e-01, -4.1945e-01,  1.4913e-01, -1.6334e-01,\\n          4.6670e-03,  2.5857e-01,  6.4453e-02,  1.2504e-01, -9.5910e-02,\\n          1.8956e-01,  4.3480e-02,  3.9584e-02,  1.5559e-01, -1.5552e-02,\\n          6.0015e-03, -1.8994e-01,  1.3864e-02,  5.5864e-01, -4.9618e-01,\\n          1.1757e-01, -5.1856e-01, -9.5426e-02,  1.7888e-01,  5.8910e-02,\\n          3.5668e-02, -1.4568e-01,  5.5773e-01,  3.4479e-01,  1.8215e-01,\\n          1.6469e-01, -6.1090e-02,  1.1551e-01]])\",\n          \"tensor([[ 2.0708e-01, -8.3152e-02,  1.3016e-01,  1.0981e-01, -4.5801e-02,\\n         -3.9753e-02, -1.1561e-01,  4.0080e-02, -8.8255e-03,  1.9270e-01,\\n          3.9583e-01,  5.3195e-02, -1.9062e-01, -4.7328e-02, -1.6894e-02,\\n          1.3402e-01, -1.3383e-01,  9.0790e-02,  2.8574e-02,  1.4474e-01,\\n         -5.8664e-02,  1.8911e-01, -8.8869e-02, -6.7883e-02, -3.2931e-01,\\n          2.9770e-01, -2.6075e-01, -3.4128e-02,  1.2955e-01, -1.6833e-01,\\n          3.9291e-04,  1.2347e-01,  9.2710e-02,  5.9750e-03, -1.1125e-01,\\n          1.6670e-01,  6.5374e-02, -6.7952e-02,  1.4523e-01, -1.7255e-01,\\n          3.8006e-01, -1.4578e-02,  3.3707e-01,  3.6996e-02, -2.1326e-01,\\n          5.1250e-02, -1.5560e-01, -3.5338e-01, -1.1494e-01, -5.5028e-02,\\n         -2.4671e-02,  1.4391e-01,  1.8372e-01, -3.2451e-02, -5.4419e-02,\\n          5.2799e-02, -1.0116e-01,  1.4205e-01,  1.2639e-01,  4.6411e-02,\\n          1.8366e-01, -1.3465e-01,  1.7965e-01, -7.5710e-02, -4.4448e-01,\\n          8.9437e-02, -1.6792e-01, -2.0772e-01,  1.6374e-01, -1.6522e-01,\\n          7.7440e-03,  2.1794e-01,  2.7623e-01, -1.8110e-01, -1.2867e-03,\\n          6.4828e-02,  7.5880e-02, -2.4341e-02,  2.1178e-01, -2.1158e-01,\\n         -2.3397e-01,  9.5276e-02,  5.1540e-02, -3.5169e-01, -3.3767e-02,\\n         -1.6217e-01, -1.4805e-01, -1.1074e-01, -2.5870e-02, -2.8441e-01,\\n         -5.2818e-02,  2.5234e-02, -1.3076e-01,  1.2907e-01, -3.6941e-01,\\n          1.1235e-01,  3.0895e-02,  1.3215e-02, -1.2688e-01, -5.3057e-02,\\n         -6.8171e-02, -9.9111e-02, -1.9335e-02,  4.0855e-02, -2.8416e-02,\\n         -1.0286e-01, -1.8629e-01, -1.9567e-01, -2.5767e-02,  2.6599e-02,\\n          1.9626e-01,  7.2395e-02,  9.0179e-02,  3.3535e-02,  6.6500e-02,\\n         -8.6521e-02, -1.4754e-02,  1.7818e-01,  9.9337e-02,  5.9829e-01,\\n         -2.0799e-01, -9.0377e-02,  2.2639e-02, -1.6230e-01,  5.2793e-02,\\n         -2.0045e-02,  2.9454e-01, -5.8719e-02, -2.3565e-01,  1.4357e-01,\\n          7.0120e-02, -2.6176e-01,  8.6236e-02, -2.0285e-01,  1.9090e-01,\\n         -1.1014e-01,  1.7732e-02,  2.1621e-01, -3.7351e-01,  1.1472e-01,\\n         -6.7491e-02, -1.7382e-01,  7.3605e-02, -1.5037e-01,  9.5692e-02,\\n          1.8703e-02,  6.6073e-02,  3.4600e-02,  5.4508e-02,  1.9676e-01,\\n          6.5124e-02,  3.0464e-01, -2.4823e-01,  9.1024e-02,  4.6430e-02,\\n          1.6415e-01,  1.4179e-01,  1.4653e-01, -2.3320e-01,  1.7167e-01,\\n          4.2413e-02, -1.5091e-02, -5.2314e-03,  1.3819e-01,  1.5327e-01,\\n          5.5608e-03,  4.9953e-02,  5.4558e-01,  8.0110e-02,  1.4224e-01,\\n          1.6525e-01, -9.5396e-02,  4.6012e-02,  1.4622e-01,  2.0297e-01,\\n         -1.8118e-01, -2.0359e-01, -7.7026e-02,  3.5464e-02, -2.6666e-01,\\n         -6.9496e-02,  7.0958e-02,  1.8303e-01, -2.3044e-01, -1.7460e-01,\\n          2.1896e-01, -9.6393e-02, -2.8360e-01, -1.0663e-01,  1.1058e-01,\\n         -2.3293e-01,  1.4464e-01,  2.5533e-01, -2.0223e-01, -8.2761e-02,\\n          3.2871e-01, -1.0170e-01,  1.6759e-01, -4.3433e+00,  1.7582e-02,\\n          3.0438e-03,  1.0711e-01, -9.9624e-02, -6.4081e-03,  1.2645e-01,\\n         -2.3278e-01, -2.5853e-01, -7.8661e-02, -4.7770e-02,  1.2100e-01,\\n         -4.7879e-02,  3.1075e-01,  1.2920e-01,  5.2418e-03, -1.4688e-01,\\n         -4.9377e-02,  1.3981e-01, -1.9392e-01, -2.9297e-02,  1.1151e-01,\\n         -2.2193e-01, -1.4107e-01, -3.0393e-02,  2.0291e-01,  1.9955e-02,\\n          1.9630e-02, -1.9870e-01, -2.1874e-01,  7.1729e-02, -2.2167e-01,\\n         -1.4060e-01,  5.0254e-02, -6.5428e-02, -1.6105e-01, -3.7859e-02,\\n          2.1050e-01, -8.5066e-02,  9.3294e-02, -2.4582e-02, -3.5248e-02,\\n          8.7976e-04,  2.8977e-02,  4.8842e-01, -4.3985e-02, -4.6964e-02,\\n         -1.5479e-01, -1.1082e-01,  7.9433e-03,  2.9497e-01, -2.8896e-01,\\n          3.9474e-02,  2.3290e-01,  2.2877e-01, -1.0724e-01, -1.4716e-01,\\n         -9.4256e-01, -2.7383e-01,  3.3125e-01,  7.4462e-02,  3.1975e-01,\\n          1.1943e-04, -2.3145e-01, -2.0410e-01,  1.4499e-01, -1.5371e-01,\\n         -9.3572e-03,  2.9833e-01,  3.8718e-01, -1.4300e-01,  2.1676e-02,\\n          7.3094e-02, -2.3534e-01, -1.2246e-01,  4.5029e-02,  1.6910e-01,\\n         -9.2249e-02, -1.3071e-01, -2.6321e-02,  2.7655e-01, -8.2060e-02,\\n          2.1473e-01, -1.0148e-02, -1.0783e-01, -3.2570e-01, -4.3655e-02,\\n         -7.9902e-02, -7.0159e-02,  3.3593e-02,  9.0426e-02, -2.6621e-02,\\n         -3.9032e-01, -1.5120e-02,  1.4783e-02,  1.8546e-01, -1.6431e-02,\\n          2.4114e-01,  2.7086e-02, -3.1486e-01,  2.3286e-02,  6.3326e-02,\\n          2.7905e-02,  2.9764e-01, -2.5481e-01,  1.2069e-01,  3.8604e-02,\\n          1.7611e-01, -1.1887e-01, -4.4434e-02,  2.7661e-02, -1.5754e-01,\\n         -2.0879e-02, -2.5089e-02,  1.9403e-01, -1.2039e-01, -2.1032e-01,\\n         -4.9921e-01, -9.1193e-02,  1.8662e-01,  1.5706e-01,  1.6584e-01,\\n         -2.6848e-01,  1.1598e-01, -1.2525e-01,  9.8142e-02,  7.4182e-02,\\n         -2.9013e-02,  3.8860e-02, -1.4995e-01, -1.0272e-01, -1.8813e-01,\\n          1.3346e-01, -5.5298e-03,  4.7326e-02, -5.1815e-02, -4.7563e-02,\\n          1.0379e-01, -8.4407e-02, -1.7483e-01, -2.4605e-02, -1.4504e-01,\\n          3.3309e-02,  2.5231e-01, -1.4163e-01, -7.9968e-02, -3.2972e-02,\\n         -1.6643e-01, -4.3240e-02, -4.3397e-01, -1.0641e-01, -1.3018e-01,\\n         -2.1510e-01, -3.4444e-02,  1.3972e-01, -2.6256e-02, -4.7367e-02,\\n         -6.0745e-02, -1.4131e-01, -2.7432e-01,  3.4963e-02, -9.4283e-02,\\n         -1.8276e-02, -2.1282e-02,  2.8808e-01,  7.0772e-03, -1.0391e-01,\\n         -1.3374e-01, -6.6530e-02,  9.5215e-02, -5.2226e-02,  2.8702e-02,\\n         -6.1601e-03,  7.1761e-03,  2.3175e-01,  1.7820e-01,  6.9493e-02,\\n         -2.3304e-01, -2.8908e-01,  1.5077e-01,  1.0469e-01,  7.4410e-02,\\n         -1.2981e-01, -1.1735e-01, -2.9183e-01,  1.3208e-01,  5.7869e-02,\\n         -2.8389e-01,  1.2463e-01, -2.4925e-01, -9.4694e-02, -1.7452e-01,\\n         -9.7172e-02, -9.7736e-02,  7.1720e-03, -4.4014e-02,  2.0605e-01,\\n          1.4121e-02, -2.5195e-01,  1.5010e-02, -9.9739e-02, -2.6798e-01,\\n          7.3510e-02,  6.5669e-02,  3.1380e-02,  2.2396e-01,  1.5358e-01,\\n          7.2259e-02, -1.2033e-01,  1.2845e-01,  7.0960e-02, -3.1445e-01,\\n         -7.7524e-02, -9.1459e-02,  2.4759e-01, -1.9144e-01,  4.9795e-03,\\n         -2.4505e-01, -3.3370e-02, -3.5264e-01,  2.9013e-02, -2.1995e-01,\\n         -3.3151e-02,  1.9905e-01, -6.3354e-03,  4.5978e-02, -1.9422e-01,\\n         -3.5661e-01,  8.8571e-02, -1.1766e-01,  1.9649e-01,  7.8900e-02,\\n         -2.0959e-02,  3.6338e-02,  1.9043e-01, -4.6642e-02,  1.0029e-01,\\n         -1.7033e-01,  2.2625e-01,  8.3346e-02,  1.1450e-01, -3.1783e-02,\\n          1.5486e-02,  2.8993e-01, -6.0832e-02,  2.8705e-01,  1.8199e-01,\\n         -7.4675e-02, -3.8389e-02,  3.4885e-01,  6.7371e-01, -1.6948e-01,\\n          3.1052e-01,  1.2884e-01,  3.8944e-01, -3.5600e-04,  3.6654e-01,\\n          1.9871e-01, -1.0212e-01, -1.2876e-02, -2.8962e-01,  1.7676e-01,\\n          5.5669e-02,  3.4611e-02,  8.8808e-02,  4.7671e-02, -5.2943e-02,\\n          1.2898e-02, -1.1817e-01,  1.5443e-01,  1.0866e-01,  1.1710e-01,\\n          5.3318e-02,  4.5965e-02, -1.3887e-01,  2.2036e-02, -2.9886e-01,\\n         -7.3986e-02, -4.0304e-01,  2.1116e-01,  1.4251e-01,  7.4905e-02,\\n          5.2421e-02, -2.9793e-01,  2.9986e-01,  1.8281e-01,  1.0083e-02,\\n          2.5799e-01, -1.5623e-01,  1.2518e-02,  6.7806e-02,  4.4199e-02,\\n         -2.7344e-02, -2.5494e-02, -2.0449e-01, -1.2095e-01, -1.7573e-01,\\n         -2.2885e-01, -2.2886e-01, -9.4404e-02,  3.1630e-01, -8.5607e-02,\\n          2.1997e-01, -2.3540e-01, -1.6841e-01, -2.8675e-02,  6.9844e-02,\\n         -6.6396e-01, -9.1039e-02,  2.4882e-01, -5.7756e-02,  1.9585e-01,\\n         -1.1473e-01, -1.7877e-01,  6.1513e-02,  2.4525e-01, -2.5922e-01,\\n          7.0968e-02, -1.6262e-01,  6.6453e-02,  1.7897e-01,  2.3923e-01,\\n          2.0078e-01, -7.8501e-02,  4.4253e-02, -1.3159e-01, -3.0176e-01,\\n         -4.4680e-02,  1.1790e-01, -3.5364e-02, -3.3703e-01,  1.5251e-01,\\n          1.2732e-01,  1.3975e-01, -8.6871e-02, -3.7317e-02, -8.1287e-02,\\n          2.4380e-01,  1.1387e-01, -4.0387e-02,  1.6757e-01, -6.4871e-02,\\n          6.6293e-02, -2.0280e-02,  8.9278e-02,  3.1026e-01, -3.5000e-02,\\n          2.2391e-01, -1.7142e-01, -1.7801e-01,  4.5891e-02, -7.2476e-02,\\n          3.7419e-01, -1.6163e-02,  1.5128e-01,  2.8679e-02,  6.2177e-03,\\n         -3.4918e-01, -2.4173e-01, -4.3107e-02,  6.9040e-02,  1.9327e-02,\\n         -2.1419e-01, -4.4586e-02, -1.1618e-01,  3.5407e-02, -4.3041e-01,\\n         -1.8831e-01,  2.5308e-01, -1.2011e-01,  6.8777e-02,  2.2236e-03,\\n          5.0287e-02,  6.3807e-02,  1.3074e-01,  1.0131e-01, -1.7488e-01,\\n         -1.3401e-01, -3.3618e-02, -3.6492e-01,  2.4864e-01,  1.2594e-01,\\n         -1.3769e-01, -4.1713e-01, -4.3148e-03,  6.4278e-02, -5.9356e-02,\\n          2.3209e-01, -1.2025e-01,  2.2656e-01, -9.7113e-02,  1.9185e-01,\\n         -1.1979e-02,  2.2430e-01, -4.8610e-02, -2.4585e-02,  3.1798e-02,\\n         -2.3269e-01,  2.7091e-02,  1.3783e-01, -2.5739e-02,  2.6084e-02,\\n          7.2519e-02, -2.3606e-01, -5.9307e-02,  2.3624e-01,  1.6364e-01,\\n         -9.1435e-02,  1.3619e-01, -4.3045e-01, -4.2986e-02,  5.0945e-01,\\n          2.9907e-03,  4.0300e-01,  1.7851e-01,  7.5624e-02, -1.1849e-02,\\n         -3.6250e-02,  6.6030e-01, -1.9822e-01,  1.0155e-01,  1.3391e-01,\\n         -8.6954e-02,  3.4125e-03,  3.2933e-02,  1.5609e-01,  8.2026e-02,\\n         -5.3321e-02, -1.0477e-01, -1.0421e-02, -1.0799e-01, -4.1026e-02,\\n          1.4831e-01, -5.6657e-02,  1.8268e-02,  2.0266e-01,  1.0613e-01,\\n          2.2438e-01,  4.8653e-02, -6.9528e-02,  9.2337e-03,  9.9679e-04,\\n         -8.3050e-02,  1.7927e-01, -4.7551e-02, -8.6729e-02,  1.8303e-02,\\n          1.3572e-01, -2.2263e-01, -7.3061e-02,  1.1928e-01,  1.2435e-01,\\n         -9.4064e-02, -9.8046e-03, -7.8938e-02,  4.6564e-02,  1.8837e-01,\\n         -7.5300e-02, -3.4456e-02,  3.4308e-01, -1.7195e-01, -1.0028e-01,\\n          1.4642e-01, -4.4831e-02, -1.8845e-01, -1.2934e-01,  1.5326e-02,\\n          5.2809e-02,  1.6403e-02, -1.3787e-01, -9.3083e-02, -4.1586e-01,\\n          8.6234e-02,  8.1985e-02,  1.3922e-01, -1.9166e-01,  2.4067e-01,\\n          2.2098e-02, -2.2165e-02,  4.5639e-02, -3.9594e-02, -3.4221e-01,\\n         -2.0346e-01,  7.8255e-02,  2.6088e-02,  7.9443e-02,  3.1655e-02,\\n         -4.3004e-02, -6.3416e-02,  3.1387e-02, -2.1648e-01,  1.5454e-01,\\n         -3.8473e-02,  1.3233e-03,  5.0481e-02,  1.6243e-01, -1.0819e-01,\\n         -1.5428e-01,  2.3783e-01, -2.3596e-01,  6.7888e-02,  1.8379e-01,\\n         -1.4676e-01, -2.7800e-01,  2.3302e-02,  1.5421e-01, -2.9094e-02,\\n          5.3812e-02, -7.2460e-02,  1.2285e-01, -2.5662e-01, -2.7228e-01,\\n          1.3128e-01,  2.6255e-01, -2.0964e-01,  6.0066e-02, -1.7127e-01,\\n         -1.2844e-01, -6.9237e-02,  2.2735e-01,  9.8824e-03, -3.3687e-02,\\n         -1.0526e-01, -1.0306e-01, -2.3510e-02,  1.6248e-01, -1.5889e+00,\\n         -6.7314e-02,  1.6816e-01, -3.9690e-02,  2.4630e-01,  6.6072e-02,\\n         -1.6124e-02,  1.6629e-01, -2.8953e-01, -1.9682e-01,  1.0186e-02,\\n         -1.5124e-01,  3.7071e-02, -2.0620e-01, -2.2468e-01,  4.9262e-02,\\n         -7.4034e-02, -3.0707e-01,  7.5477e-02,  1.5483e-01,  1.1296e-01,\\n          2.3980e-02, -4.2414e-03,  1.4742e-01, -2.7475e-01, -2.0298e-01,\\n          1.2856e-01,  3.4821e-01,  3.7322e-01,  1.2109e-01, -4.4420e-02,\\n          2.1871e-02, -1.3780e-01, -3.1686e-01, -7.3501e-02,  2.7768e-02,\\n         -1.6881e-01, -2.7321e-01,  2.6352e-01,  2.3231e-01,  2.4249e-01,\\n          3.6657e-01,  1.1670e-01, -1.3131e-01]])\"\n        ],\n        \"semantic_type\": \"\",\n        \"description\": \"\"\n      }\n    }\n  ]\n}"
            }
          },
          "metadata": {},
          "execution_count": 41
        }
      ]
    },
    {
      "cell_type": "markdown",
      "metadata": {
        "id": "fUfC3raUpXat"
      },
      "source": [
        "## **Data Splitting**"
      ]
    },
    {
      "cell_type": "code",
      "execution_count": null,
      "metadata": {
        "id": "umqZp1FbpZgk"
      },
      "outputs": [],
      "source": [
        "# Split data into training and testing sets (assuming you still need this)\n",
        "X_train, X_test, y_train, y_test = train_test_split(df.drop(['label','text'], axis=1), df['label'], test_size=0.2, random_state=42)"
      ]
    },
    {
      "cell_type": "code",
      "execution_count": null,
      "metadata": {
        "colab": {
          "base_uri": "https://localhost:8080/"
        },
        "id": "Ca5WjgpaqkJR",
        "outputId": "3f28d70a-2d8e-48f4-ba7d-3dbadc79c288"
      },
      "outputs": [
        {
          "output_type": "stream",
          "name": "stdout",
          "text": [
            "                                               n_grams  \\\n",
            "79   [(ఇది,), (నేను,), (ఇప్పటివరకు,), (చూసిన,), (చె...   \n",
            "197  [(సామ్సంగ్,), (LED,), (చాలా,), (మంచి,), (టెలివ...   \n",
            "38   [(నేను,), (ఈ,), (కెమెరాని,), (ఉపయోగించాను,), (...   \n",
            "24   [(హలో,), (ఫ్రెండ్స్,), (నేను,), (నేడు,), (ఒక,)...   \n",
            "122  [(నికోన్,), (D70,), (నా,), (దగ్గర,), (ఉన్న,), ...   \n",
            "..                                                 ...   \n",
            "106  [(హాయ్,), (గైస్,), (ఈ,), (కోర్యో,), (lcd,), (T...   \n",
            "14   [(ఇది,), (మంచి,), (TV,), (కాదు,), (రంగు,), (నా...   \n",
            "92   [(హలో,), (ఫ్రెండ్స్,), (జనవరి,), (28,), (2004,...   \n",
            "179  [(జియోమి,), (రెడ్మి,), (నోట్,), (3,), (మంచి,),...   \n",
            "102  [(ఈ,), (శ్రేణిలో,), (ఇది,), (చాలా,), (మంచి,), ...   \n",
            "\n",
            "                                       text_embeddings  \n",
            "79   [[tensor(0.1961), tensor(-0.2596), tensor(0.04...  \n",
            "197  [[tensor(0.3107), tensor(-0.3924), tensor(0.00...  \n",
            "38   [[tensor(0.1761), tensor(-0.3943), tensor(0.07...  \n",
            "24   [[tensor(0.4012), tensor(-0.2932), tensor(0.06...  \n",
            "122  [[tensor(0.2781), tensor(-0.3435), tensor(-0.0...  \n",
            "..                                                 ...  \n",
            "106  [[tensor(0.3386), tensor(-0.3915), tensor(0.02...  \n",
            "14   [[tensor(0.1683), tensor(-0.4133), tensor(0.05...  \n",
            "92   [[tensor(0.1901), tensor(-0.3704), tensor(0.06...  \n",
            "179  [[tensor(0.1948), tensor(-0.4739), tensor(0.00...  \n",
            "102  [[tensor(0.4938), tensor(-0.4926), tensor(0.05...  \n",
            "\n",
            "[160 rows x 2 columns]\n"
          ]
        }
      ],
      "source": [
        "print(X_train)"
      ]
    },
    {
      "cell_type": "markdown",
      "metadata": {
        "id": "UOr2LR5xvXhH"
      },
      "source": [
        "## **Model Selection**"
      ]
    },
    {
      "cell_type": "code",
      "execution_count": null,
      "metadata": {
        "id": "F0bEPQN0xo4l"
      },
      "outputs": [],
      "source": [
        "# Model Building\n",
        "from sklearn.svm import SVC\n",
        "from sklearn.tree import DecisionTreeClassifier\n",
        "from sklearn.linear_model import LogisticRegression\n",
        "from sklearn.ensemble import RandomForestClassifier\n",
        "from sklearn.naive_bayes import BernoulliNB\n",
        "from sklearn.neighbors import KNeighborsClassifier\n",
        "from sklearn.model_selection import cross_val_score\n",
        "\n",
        "# Hyperparameter Tuning\n",
        "from sklearn.model_selection import GridSearchCV\n",
        "\n",
        "# Model Metrics\n",
        "from sklearn.metrics import confusion_matrix, accuracy_score, classification_report"
      ]
    },
    {
      "cell_type": "code",
      "source": [
        "print(X_train)"
      ],
      "metadata": {
        "colab": {
          "base_uri": "https://localhost:8080/"
        },
        "id": "uuyWk4peBgac",
        "outputId": "f49ff677-5bbf-4678-85c5-4868974a9ca9"
      },
      "execution_count": null,
      "outputs": [
        {
          "output_type": "stream",
          "name": "stdout",
          "text": [
            "                                               n_grams  \\\n",
            "79   [(ఇది,), (నేను,), (ఇప్పటివరకు,), (చూసిన,), (చె...   \n",
            "197  [(సామ్సంగ్,), (LED,), (చాలా,), (మంచి,), (టెలివ...   \n",
            "38   [(నేను,), (ఈ,), (కెమెరాని,), (ఉపయోగించాను,), (...   \n",
            "24   [(హలో,), (ఫ్రెండ్స్,), (నేను,), (నేడు,), (ఒక,)...   \n",
            "122  [(నికోన్,), (D70,), (నా,), (దగ్గర,), (ఉన్న,), ...   \n",
            "..                                                 ...   \n",
            "106  [(హాయ్,), (గైస్,), (ఈ,), (కోర్యో,), (lcd,), (T...   \n",
            "14   [(ఇది,), (మంచి,), (TV,), (కాదు,), (రంగు,), (నా...   \n",
            "92   [(హలో,), (ఫ్రెండ్స్,), (జనవరి,), (28,), (2004,...   \n",
            "179  [(జియోమి,), (రెడ్మి,), (నోట్,), (3,), (మంచి,),...   \n",
            "102  [(ఈ,), (శ్రేణిలో,), (ఇది,), (చాలా,), (మంచి,), ...   \n",
            "\n",
            "                                       text_embeddings  \n",
            "79   [[tensor(0.1961), tensor(-0.2596), tensor(0.04...  \n",
            "197  [[tensor(0.3107), tensor(-0.3924), tensor(0.00...  \n",
            "38   [[tensor(0.1761), tensor(-0.3943), tensor(0.07...  \n",
            "24   [[tensor(0.4012), tensor(-0.2932), tensor(0.06...  \n",
            "122  [[tensor(0.2781), tensor(-0.3435), tensor(-0.0...  \n",
            "..                                                 ...  \n",
            "106  [[tensor(0.3386), tensor(-0.3915), tensor(0.02...  \n",
            "14   [[tensor(0.1683), tensor(-0.4133), tensor(0.05...  \n",
            "92   [[tensor(0.1901), tensor(-0.3704), tensor(0.06...  \n",
            "179  [[tensor(0.1948), tensor(-0.4739), tensor(0.00...  \n",
            "102  [[tensor(0.4938), tensor(-0.4926), tensor(0.05...  \n",
            "\n",
            "[160 rows x 2 columns]\n"
          ]
        }
      ]
    },
    {
      "cell_type": "code",
      "execution_count": null,
      "metadata": {
        "colab": {
          "base_uri": "https://localhost:8080/"
        },
        "id": "mwNfhypvxo4n",
        "outputId": "af55750c-9901-47ac-c11f-072613a14800"
      },
      "outputs": [
        {
          "output_type": "stream",
          "name": "stdout",
          "text": [
            "Decision Tree Accuracy: 0.50\n",
            "              precision    recall  f1-score   support\n",
            "\n",
            "           0       0.39      0.60      0.47        15\n",
            "           1       0.65      0.44      0.52        25\n",
            "\n",
            "    accuracy                           0.50        40\n",
            "   macro avg       0.52      0.52      0.50        40\n",
            "weighted avg       0.55      0.50      0.51        40\n",
            "\n",
            "[[ 9  6]\n",
            " [14 11]]\n",
            "\n",
            "Logistic Regression Accuracy: 0.75\n",
            "              precision    recall  f1-score   support\n",
            "\n",
            "           0       0.63      0.80      0.71        15\n",
            "           1       0.86      0.72      0.78        25\n",
            "\n",
            "    accuracy                           0.75        40\n",
            "   macro avg       0.74      0.76      0.74        40\n",
            "weighted avg       0.77      0.75      0.75        40\n",
            "\n",
            "[[12  3]\n",
            " [ 7 18]]\n",
            "\n",
            "SVC Accuracy: 0.42\n",
            "              precision    recall  f1-score   support\n",
            "\n",
            "           0       0.39      1.00      0.57        15\n",
            "           1       1.00      0.08      0.15        25\n",
            "\n",
            "    accuracy                           0.42        40\n",
            "   macro avg       0.70      0.54      0.36        40\n",
            "weighted avg       0.77      0.42      0.30        40\n",
            "\n",
            "[[15  0]\n",
            " [23  2]]\n",
            "\n"
          ]
        },
        {
          "output_type": "stream",
          "name": "stderr",
          "text": [
            "/usr/local/lib/python3.10/dist-packages/sklearn/linear_model/_logistic.py:458: ConvergenceWarning: lbfgs failed to converge (status=1):\n",
            "STOP: TOTAL NO. of ITERATIONS REACHED LIMIT.\n",
            "\n",
            "Increase the number of iterations (max_iter) or scale the data as shown in:\n",
            "    https://scikit-learn.org/stable/modules/preprocessing.html\n",
            "Please also refer to the documentation for alternative solver options:\n",
            "    https://scikit-learn.org/stable/modules/linear_model.html#logistic-regression\n",
            "  n_iter_i = _check_optimize_result(\n"
          ]
        },
        {
          "output_type": "stream",
          "name": "stdout",
          "text": [
            "Random Forest Accuracy: 0.57\n",
            "              precision    recall  f1-score   support\n",
            "\n",
            "           0       0.47      0.93      0.62        15\n",
            "           1       0.90      0.36      0.51        25\n",
            "\n",
            "    accuracy                           0.57        40\n",
            "   macro avg       0.68      0.65      0.57        40\n",
            "weighted avg       0.74      0.57      0.55        40\n",
            "\n",
            "[[14  1]\n",
            " [16  9]]\n",
            "\n",
            "Naive Bayes Accuracy: 0.57\n",
            "              precision    recall  f1-score   support\n",
            "\n",
            "           0       0.45      0.67      0.54        15\n",
            "           1       0.72      0.52      0.60        25\n",
            "\n",
            "    accuracy                           0.57        40\n",
            "   macro avg       0.59      0.59      0.57        40\n",
            "weighted avg       0.62      0.57      0.58        40\n",
            "\n",
            "[[10  5]\n",
            " [12 13]]\n",
            "\n"
          ]
        }
      ],
      "source": [
        "models = {\n",
        "    \"Decision Tree\": DecisionTreeClassifier(),\n",
        "    \"Logistic Regression\": LogisticRegression(),\n",
        "    \"SVC\": SVC(),\n",
        "    \"Random Forest\": RandomForestClassifier(),\n",
        "    \"Naive Bayes\": BernoulliNB()\n",
        "}\n",
        "\n",
        "X_train_concatenated = np.concatenate(X_train['text_embeddings'].values).reshape(len(X_train), -1)\n",
        "X_test_concatenated = np.concatenate(X_test['text_embeddings'].values).reshape(len(X_test), -1)\n",
        "\n",
        "trained_models = {}  # Dictionary to store trained models\n",
        "\n",
        "# Train and evaluate models\n",
        "for name, model in models.items():\n",
        "    model.fit(X_train_concatenated, y_train)\n",
        "    y_pred = model.predict(X_test_concatenated)\n",
        "    accuracy = accuracy_score(y_test, y_pred)\n",
        "    print(f\"{name} Accuracy: {accuracy:.2f}\")\n",
        "    print(classification_report(y_test, y_pred))\n",
        "    print(confusion_matrix(y_test, y_pred))\n",
        "    print()\n",
        "\n",
        "    # Save the trained model in the dictionary\n",
        "    trained_models[name] = model\n",
        "\n"
      ]
    },
    {
      "cell_type": "markdown",
      "source": [
        "## **Hyper-paramter tuning**"
      ],
      "metadata": {
        "id": "LKnLjHfz1fLK"
      }
    },
    {
      "cell_type": "markdown",
      "source": [
        "## **Hyper-parameter tuning for RandomForest**"
      ],
      "metadata": {
        "id": "T17w-EOvhL7p"
      }
    },
    {
      "cell_type": "code",
      "source": [
        "from sklearn.model_selection import GridSearchCV\n",
        "\n",
        "param_grid = {\n",
        "    'n_estimators': [100, 200, 300],\n",
        "    'max_depth': [5, 10, 20],\n",
        "    'min_samples_split': [2, 5, 10],\n",
        "    'min_samples_leaf': [1, 2, 4],\n",
        "    'max_features': ['sqrt', 'log2']\n",
        "}\n",
        "\n",
        "rf_model = RandomForestClassifier()\n",
        "\n",
        "grid_search = GridSearchCV(estimator=rf_model, param_grid=param_grid, cv=5, scoring='accuracy')\n",
        "\n",
        "grid_search.fit(X_train_concatenated, y_train)\n",
        "\n",
        "best_params = grid_search.best_params_\n",
        "best_score = grid_search.best_score_\n",
        "\n",
        "print(\"Best parameters:\", best_params)\n",
        "print(\"Best score:\", best_score)\n"
      ],
      "metadata": {
        "colab": {
          "base_uri": "https://localhost:8080/"
        },
        "id": "mYTOsNHp1ktB",
        "outputId": "6d181fa4-54b9-4d58-dd90-6ee914bf845a"
      },
      "execution_count": null,
      "outputs": [
        {
          "output_type": "stream",
          "name": "stdout",
          "text": [
            "Best parameters: {'max_depth': 5, 'max_features': 'log2', 'min_samples_leaf': 2, 'min_samples_split': 5, 'n_estimators': 300}\n",
            "Best score: 0.71875\n"
          ]
        }
      ]
    },
    {
      "cell_type": "markdown",
      "source": [
        "## **Hyper-parameter tuning for Logistic regression**"
      ],
      "metadata": {
        "id": "ywrrmwA2hQtT"
      }
    },
    {
      "cell_type": "code",
      "source": [
        "from sklearn.model_selection import GridSearchCV\n",
        "from sklearn.linear_model import LogisticRegression\n",
        "\n",
        "# Define the parameter grid for logistic regression\n",
        "param_grid_logistic = {\n",
        "    'C': [0.001, 0.01, 0.1, 1, 10, 100],  # Regularization parameter\n",
        "    'penalty': ['l1', 'l2'],               # Penalty norm\n",
        "    'solver': ['liblinear', 'saga']        # Optimization algorithm\n",
        "}\n",
        "\n",
        "# Instantiate the Logistic Regression model\n",
        "logistic_model = LogisticRegression()\n",
        "\n",
        "# Create a GridSearchCV object\n",
        "grid_search_logistic = GridSearchCV(estimator=logistic_model, param_grid=param_grid_logistic, cv=5, scoring='accuracy')\n",
        "\n",
        "# Perform the grid search\n",
        "grid_search_logistic.fit(X_train_concatenated, y_train)\n"
      ],
      "metadata": {
        "colab": {
          "base_uri": "https://localhost:8080/",
          "height": 1000
        },
        "id": "eEvr-pYphWHG",
        "outputId": "b8ce69fc-c5fb-4ac6-9c9c-a83f62fbedf1"
      },
      "execution_count": null,
      "outputs": [
        {
          "output_type": "stream",
          "name": "stderr",
          "text": [
            "/usr/local/lib/python3.10/dist-packages/sklearn/linear_model/_sag.py:350: ConvergenceWarning: The max_iter was reached which means the coef_ did not converge\n",
            "  warnings.warn(\n",
            "/usr/local/lib/python3.10/dist-packages/sklearn/linear_model/_sag.py:350: ConvergenceWarning: The max_iter was reached which means the coef_ did not converge\n",
            "  warnings.warn(\n",
            "/usr/local/lib/python3.10/dist-packages/sklearn/linear_model/_sag.py:350: ConvergenceWarning: The max_iter was reached which means the coef_ did not converge\n",
            "  warnings.warn(\n",
            "/usr/local/lib/python3.10/dist-packages/sklearn/linear_model/_sag.py:350: ConvergenceWarning: The max_iter was reached which means the coef_ did not converge\n",
            "  warnings.warn(\n",
            "/usr/local/lib/python3.10/dist-packages/sklearn/linear_model/_sag.py:350: ConvergenceWarning: The max_iter was reached which means the coef_ did not converge\n",
            "  warnings.warn(\n",
            "/usr/local/lib/python3.10/dist-packages/sklearn/linear_model/_sag.py:350: ConvergenceWarning: The max_iter was reached which means the coef_ did not converge\n",
            "  warnings.warn(\n",
            "/usr/local/lib/python3.10/dist-packages/sklearn/linear_model/_sag.py:350: ConvergenceWarning: The max_iter was reached which means the coef_ did not converge\n",
            "  warnings.warn(\n",
            "/usr/local/lib/python3.10/dist-packages/sklearn/linear_model/_sag.py:350: ConvergenceWarning: The max_iter was reached which means the coef_ did not converge\n",
            "  warnings.warn(\n",
            "/usr/local/lib/python3.10/dist-packages/sklearn/linear_model/_sag.py:350: ConvergenceWarning: The max_iter was reached which means the coef_ did not converge\n",
            "  warnings.warn(\n",
            "/usr/local/lib/python3.10/dist-packages/sklearn/linear_model/_sag.py:350: ConvergenceWarning: The max_iter was reached which means the coef_ did not converge\n",
            "  warnings.warn(\n",
            "/usr/local/lib/python3.10/dist-packages/sklearn/linear_model/_sag.py:350: ConvergenceWarning: The max_iter was reached which means the coef_ did not converge\n",
            "  warnings.warn(\n",
            "/usr/local/lib/python3.10/dist-packages/sklearn/linear_model/_sag.py:350: ConvergenceWarning: The max_iter was reached which means the coef_ did not converge\n",
            "  warnings.warn(\n",
            "/usr/local/lib/python3.10/dist-packages/sklearn/linear_model/_sag.py:350: ConvergenceWarning: The max_iter was reached which means the coef_ did not converge\n",
            "  warnings.warn(\n",
            "/usr/local/lib/python3.10/dist-packages/sklearn/linear_model/_sag.py:350: ConvergenceWarning: The max_iter was reached which means the coef_ did not converge\n",
            "  warnings.warn(\n",
            "/usr/local/lib/python3.10/dist-packages/sklearn/linear_model/_sag.py:350: ConvergenceWarning: The max_iter was reached which means the coef_ did not converge\n",
            "  warnings.warn(\n",
            "/usr/local/lib/python3.10/dist-packages/sklearn/linear_model/_sag.py:350: ConvergenceWarning: The max_iter was reached which means the coef_ did not converge\n",
            "  warnings.warn(\n",
            "/usr/local/lib/python3.10/dist-packages/sklearn/linear_model/_sag.py:350: ConvergenceWarning: The max_iter was reached which means the coef_ did not converge\n",
            "  warnings.warn(\n",
            "/usr/local/lib/python3.10/dist-packages/sklearn/linear_model/_sag.py:350: ConvergenceWarning: The max_iter was reached which means the coef_ did not converge\n",
            "  warnings.warn(\n",
            "/usr/local/lib/python3.10/dist-packages/sklearn/linear_model/_sag.py:350: ConvergenceWarning: The max_iter was reached which means the coef_ did not converge\n",
            "  warnings.warn(\n",
            "/usr/local/lib/python3.10/dist-packages/sklearn/linear_model/_sag.py:350: ConvergenceWarning: The max_iter was reached which means the coef_ did not converge\n",
            "  warnings.warn(\n",
            "/usr/local/lib/python3.10/dist-packages/sklearn/linear_model/_sag.py:350: ConvergenceWarning: The max_iter was reached which means the coef_ did not converge\n",
            "  warnings.warn(\n",
            "/usr/local/lib/python3.10/dist-packages/sklearn/linear_model/_sag.py:350: ConvergenceWarning: The max_iter was reached which means the coef_ did not converge\n",
            "  warnings.warn(\n",
            "/usr/local/lib/python3.10/dist-packages/sklearn/linear_model/_sag.py:350: ConvergenceWarning: The max_iter was reached which means the coef_ did not converge\n",
            "  warnings.warn(\n",
            "/usr/local/lib/python3.10/dist-packages/sklearn/linear_model/_sag.py:350: ConvergenceWarning: The max_iter was reached which means the coef_ did not converge\n",
            "  warnings.warn(\n",
            "/usr/local/lib/python3.10/dist-packages/sklearn/linear_model/_sag.py:350: ConvergenceWarning: The max_iter was reached which means the coef_ did not converge\n",
            "  warnings.warn(\n",
            "/usr/local/lib/python3.10/dist-packages/sklearn/linear_model/_sag.py:350: ConvergenceWarning: The max_iter was reached which means the coef_ did not converge\n",
            "  warnings.warn(\n",
            "/usr/local/lib/python3.10/dist-packages/sklearn/linear_model/_sag.py:350: ConvergenceWarning: The max_iter was reached which means the coef_ did not converge\n",
            "  warnings.warn(\n",
            "/usr/local/lib/python3.10/dist-packages/sklearn/linear_model/_sag.py:350: ConvergenceWarning: The max_iter was reached which means the coef_ did not converge\n",
            "  warnings.warn(\n",
            "/usr/local/lib/python3.10/dist-packages/sklearn/linear_model/_sag.py:350: ConvergenceWarning: The max_iter was reached which means the coef_ did not converge\n",
            "  warnings.warn(\n",
            "/usr/local/lib/python3.10/dist-packages/sklearn/linear_model/_sag.py:350: ConvergenceWarning: The max_iter was reached which means the coef_ did not converge\n",
            "  warnings.warn(\n",
            "/usr/local/lib/python3.10/dist-packages/sklearn/linear_model/_sag.py:350: ConvergenceWarning: The max_iter was reached which means the coef_ did not converge\n",
            "  warnings.warn(\n",
            "/usr/local/lib/python3.10/dist-packages/sklearn/linear_model/_sag.py:350: ConvergenceWarning: The max_iter was reached which means the coef_ did not converge\n",
            "  warnings.warn(\n",
            "/usr/local/lib/python3.10/dist-packages/sklearn/linear_model/_sag.py:350: ConvergenceWarning: The max_iter was reached which means the coef_ did not converge\n",
            "  warnings.warn(\n",
            "/usr/local/lib/python3.10/dist-packages/sklearn/linear_model/_sag.py:350: ConvergenceWarning: The max_iter was reached which means the coef_ did not converge\n",
            "  warnings.warn(\n",
            "/usr/local/lib/python3.10/dist-packages/sklearn/linear_model/_sag.py:350: ConvergenceWarning: The max_iter was reached which means the coef_ did not converge\n",
            "  warnings.warn(\n",
            "/usr/local/lib/python3.10/dist-packages/sklearn/linear_model/_sag.py:350: ConvergenceWarning: The max_iter was reached which means the coef_ did not converge\n",
            "  warnings.warn(\n",
            "/usr/local/lib/python3.10/dist-packages/sklearn/linear_model/_sag.py:350: ConvergenceWarning: The max_iter was reached which means the coef_ did not converge\n",
            "  warnings.warn(\n",
            "/usr/local/lib/python3.10/dist-packages/sklearn/linear_model/_sag.py:350: ConvergenceWarning: The max_iter was reached which means the coef_ did not converge\n",
            "  warnings.warn(\n",
            "/usr/local/lib/python3.10/dist-packages/sklearn/linear_model/_sag.py:350: ConvergenceWarning: The max_iter was reached which means the coef_ did not converge\n",
            "  warnings.warn(\n",
            "/usr/local/lib/python3.10/dist-packages/sklearn/linear_model/_sag.py:350: ConvergenceWarning: The max_iter was reached which means the coef_ did not converge\n",
            "  warnings.warn(\n"
          ]
        },
        {
          "output_type": "execute_result",
          "data": {
            "text/plain": [
              "GridSearchCV(cv=5, estimator=LogisticRegression(),\n",
              "             param_grid={'C': [0.001, 0.01, 0.1, 1, 10, 100],\n",
              "                         'penalty': ['l1', 'l2'],\n",
              "                         'solver': ['liblinear', 'saga']},\n",
              "             scoring='accuracy')"
            ],
            "text/html": [
              "<style>#sk-container-id-1 {color: black;background-color: white;}#sk-container-id-1 pre{padding: 0;}#sk-container-id-1 div.sk-toggleable {background-color: white;}#sk-container-id-1 label.sk-toggleable__label {cursor: pointer;display: block;width: 100%;margin-bottom: 0;padding: 0.3em;box-sizing: border-box;text-align: center;}#sk-container-id-1 label.sk-toggleable__label-arrow:before {content: \"▸\";float: left;margin-right: 0.25em;color: #696969;}#sk-container-id-1 label.sk-toggleable__label-arrow:hover:before {color: black;}#sk-container-id-1 div.sk-estimator:hover label.sk-toggleable__label-arrow:before {color: black;}#sk-container-id-1 div.sk-toggleable__content {max-height: 0;max-width: 0;overflow: hidden;text-align: left;background-color: #f0f8ff;}#sk-container-id-1 div.sk-toggleable__content pre {margin: 0.2em;color: black;border-radius: 0.25em;background-color: #f0f8ff;}#sk-container-id-1 input.sk-toggleable__control:checked~div.sk-toggleable__content {max-height: 200px;max-width: 100%;overflow: auto;}#sk-container-id-1 input.sk-toggleable__control:checked~label.sk-toggleable__label-arrow:before {content: \"▾\";}#sk-container-id-1 div.sk-estimator input.sk-toggleable__control:checked~label.sk-toggleable__label {background-color: #d4ebff;}#sk-container-id-1 div.sk-label input.sk-toggleable__control:checked~label.sk-toggleable__label {background-color: #d4ebff;}#sk-container-id-1 input.sk-hidden--visually {border: 0;clip: rect(1px 1px 1px 1px);clip: rect(1px, 1px, 1px, 1px);height: 1px;margin: -1px;overflow: hidden;padding: 0;position: absolute;width: 1px;}#sk-container-id-1 div.sk-estimator {font-family: monospace;background-color: #f0f8ff;border: 1px dotted black;border-radius: 0.25em;box-sizing: border-box;margin-bottom: 0.5em;}#sk-container-id-1 div.sk-estimator:hover {background-color: #d4ebff;}#sk-container-id-1 div.sk-parallel-item::after {content: \"\";width: 100%;border-bottom: 1px solid gray;flex-grow: 1;}#sk-container-id-1 div.sk-label:hover label.sk-toggleable__label {background-color: #d4ebff;}#sk-container-id-1 div.sk-serial::before {content: \"\";position: absolute;border-left: 1px solid gray;box-sizing: border-box;top: 0;bottom: 0;left: 50%;z-index: 0;}#sk-container-id-1 div.sk-serial {display: flex;flex-direction: column;align-items: center;background-color: white;padding-right: 0.2em;padding-left: 0.2em;position: relative;}#sk-container-id-1 div.sk-item {position: relative;z-index: 1;}#sk-container-id-1 div.sk-parallel {display: flex;align-items: stretch;justify-content: center;background-color: white;position: relative;}#sk-container-id-1 div.sk-item::before, #sk-container-id-1 div.sk-parallel-item::before {content: \"\";position: absolute;border-left: 1px solid gray;box-sizing: border-box;top: 0;bottom: 0;left: 50%;z-index: -1;}#sk-container-id-1 div.sk-parallel-item {display: flex;flex-direction: column;z-index: 1;position: relative;background-color: white;}#sk-container-id-1 div.sk-parallel-item:first-child::after {align-self: flex-end;width: 50%;}#sk-container-id-1 div.sk-parallel-item:last-child::after {align-self: flex-start;width: 50%;}#sk-container-id-1 div.sk-parallel-item:only-child::after {width: 0;}#sk-container-id-1 div.sk-dashed-wrapped {border: 1px dashed gray;margin: 0 0.4em 0.5em 0.4em;box-sizing: border-box;padding-bottom: 0.4em;background-color: white;}#sk-container-id-1 div.sk-label label {font-family: monospace;font-weight: bold;display: inline-block;line-height: 1.2em;}#sk-container-id-1 div.sk-label-container {text-align: center;}#sk-container-id-1 div.sk-container {/* jupyter's `normalize.less` sets `[hidden] { display: none; }` but bootstrap.min.css set `[hidden] { display: none !important; }` so we also need the `!important` here to be able to override the default hidden behavior on the sphinx rendered scikit-learn.org. See: https://github.com/scikit-learn/scikit-learn/issues/21755 */display: inline-block !important;position: relative;}#sk-container-id-1 div.sk-text-repr-fallback {display: none;}</style><div id=\"sk-container-id-1\" class=\"sk-top-container\"><div class=\"sk-text-repr-fallback\"><pre>GridSearchCV(cv=5, estimator=LogisticRegression(),\n",
              "             param_grid={&#x27;C&#x27;: [0.001, 0.01, 0.1, 1, 10, 100],\n",
              "                         &#x27;penalty&#x27;: [&#x27;l1&#x27;, &#x27;l2&#x27;],\n",
              "                         &#x27;solver&#x27;: [&#x27;liblinear&#x27;, &#x27;saga&#x27;]},\n",
              "             scoring=&#x27;accuracy&#x27;)</pre><b>In a Jupyter environment, please rerun this cell to show the HTML representation or trust the notebook. <br />On GitHub, the HTML representation is unable to render, please try loading this page with nbviewer.org.</b></div><div class=\"sk-container\" hidden><div class=\"sk-item sk-dashed-wrapped\"><div class=\"sk-label-container\"><div class=\"sk-label sk-toggleable\"><input class=\"sk-toggleable__control sk-hidden--visually\" id=\"sk-estimator-id-1\" type=\"checkbox\" ><label for=\"sk-estimator-id-1\" class=\"sk-toggleable__label sk-toggleable__label-arrow\">GridSearchCV</label><div class=\"sk-toggleable__content\"><pre>GridSearchCV(cv=5, estimator=LogisticRegression(),\n",
              "             param_grid={&#x27;C&#x27;: [0.001, 0.01, 0.1, 1, 10, 100],\n",
              "                         &#x27;penalty&#x27;: [&#x27;l1&#x27;, &#x27;l2&#x27;],\n",
              "                         &#x27;solver&#x27;: [&#x27;liblinear&#x27;, &#x27;saga&#x27;]},\n",
              "             scoring=&#x27;accuracy&#x27;)</pre></div></div></div><div class=\"sk-parallel\"><div class=\"sk-parallel-item\"><div class=\"sk-item\"><div class=\"sk-label-container\"><div class=\"sk-label sk-toggleable\"><input class=\"sk-toggleable__control sk-hidden--visually\" id=\"sk-estimator-id-2\" type=\"checkbox\" ><label for=\"sk-estimator-id-2\" class=\"sk-toggleable__label sk-toggleable__label-arrow\">estimator: LogisticRegression</label><div class=\"sk-toggleable__content\"><pre>LogisticRegression()</pre></div></div></div><div class=\"sk-serial\"><div class=\"sk-item\"><div class=\"sk-estimator sk-toggleable\"><input class=\"sk-toggleable__control sk-hidden--visually\" id=\"sk-estimator-id-3\" type=\"checkbox\" ><label for=\"sk-estimator-id-3\" class=\"sk-toggleable__label sk-toggleable__label-arrow\">LogisticRegression</label><div class=\"sk-toggleable__content\"><pre>LogisticRegression()</pre></div></div></div></div></div></div></div></div></div></div>"
            ]
          },
          "metadata": {},
          "execution_count": 50
        }
      ]
    },
    {
      "cell_type": "code",
      "source": [
        "# Get the best parameters and best score\n",
        "best_params_logistic = grid_search_logistic.best_params_\n",
        "best_score_logistic = grid_search_logistic.best_score_\n",
        "\n",
        "# Print the best parameters and best score\n",
        "print(\"Best parameters for Logistic Regression:\", best_params_logistic)\n",
        "print(\"Best score for Logistic Regression:\", best_score_logistic)"
      ],
      "metadata": {
        "colab": {
          "base_uri": "https://localhost:8080/"
        },
        "id": "Qiv0CGKVhgrm",
        "outputId": "3bb2f263-fb4f-4dfa-8202-15b4ca3b7e4f"
      },
      "execution_count": null,
      "outputs": [
        {
          "output_type": "stream",
          "name": "stdout",
          "text": [
            "Best parameters for Logistic Regression: {'C': 100, 'penalty': 'l2', 'solver': 'liblinear'}\n",
            "Best score for Logistic Regression: 0.80625\n"
          ]
        }
      ]
    },
    {
      "cell_type": "markdown",
      "source": [
        "## **Best Model**"
      ],
      "metadata": {
        "id": "uDSisK2T5lfY"
      }
    },
    {
      "cell_type": "markdown",
      "source": [
        "## Random Forest"
      ],
      "metadata": {
        "id": "Iifavcd5iAgw"
      }
    },
    {
      "cell_type": "code",
      "source": [
        "from sklearn.ensemble import RandomForestClassifier\n",
        "\n",
        "rf_model = RandomForestClassifier(n_estimators=300, max_depth=5, min_samples_split=2,\n",
        "                                  min_samples_leaf=2, max_features='log2')"
      ],
      "metadata": {
        "id": "1VGUUJ2d5H8E"
      },
      "execution_count": null,
      "outputs": []
    },
    {
      "cell_type": "code",
      "source": [
        "rf_model.fit(X_train_concatenated, y_train)"
      ],
      "metadata": {
        "colab": {
          "base_uri": "https://localhost:8080/",
          "height": 92
        },
        "id": "uvNBq9G85LV_",
        "outputId": "37dd4c6a-beea-4e27-a3d3-194bf92c5442"
      },
      "execution_count": null,
      "outputs": [
        {
          "output_type": "execute_result",
          "data": {
            "text/plain": [
              "RandomForestClassifier(max_depth=5, max_features='log2', min_samples_leaf=2,\n",
              "                       n_estimators=300)"
            ],
            "text/html": [
              "<style>#sk-container-id-2 {color: black;background-color: white;}#sk-container-id-2 pre{padding: 0;}#sk-container-id-2 div.sk-toggleable {background-color: white;}#sk-container-id-2 label.sk-toggleable__label {cursor: pointer;display: block;width: 100%;margin-bottom: 0;padding: 0.3em;box-sizing: border-box;text-align: center;}#sk-container-id-2 label.sk-toggleable__label-arrow:before {content: \"▸\";float: left;margin-right: 0.25em;color: #696969;}#sk-container-id-2 label.sk-toggleable__label-arrow:hover:before {color: black;}#sk-container-id-2 div.sk-estimator:hover label.sk-toggleable__label-arrow:before {color: black;}#sk-container-id-2 div.sk-toggleable__content {max-height: 0;max-width: 0;overflow: hidden;text-align: left;background-color: #f0f8ff;}#sk-container-id-2 div.sk-toggleable__content pre {margin: 0.2em;color: black;border-radius: 0.25em;background-color: #f0f8ff;}#sk-container-id-2 input.sk-toggleable__control:checked~div.sk-toggleable__content {max-height: 200px;max-width: 100%;overflow: auto;}#sk-container-id-2 input.sk-toggleable__control:checked~label.sk-toggleable__label-arrow:before {content: \"▾\";}#sk-container-id-2 div.sk-estimator input.sk-toggleable__control:checked~label.sk-toggleable__label {background-color: #d4ebff;}#sk-container-id-2 div.sk-label input.sk-toggleable__control:checked~label.sk-toggleable__label {background-color: #d4ebff;}#sk-container-id-2 input.sk-hidden--visually {border: 0;clip: rect(1px 1px 1px 1px);clip: rect(1px, 1px, 1px, 1px);height: 1px;margin: -1px;overflow: hidden;padding: 0;position: absolute;width: 1px;}#sk-container-id-2 div.sk-estimator {font-family: monospace;background-color: #f0f8ff;border: 1px dotted black;border-radius: 0.25em;box-sizing: border-box;margin-bottom: 0.5em;}#sk-container-id-2 div.sk-estimator:hover {background-color: #d4ebff;}#sk-container-id-2 div.sk-parallel-item::after {content: \"\";width: 100%;border-bottom: 1px solid gray;flex-grow: 1;}#sk-container-id-2 div.sk-label:hover label.sk-toggleable__label {background-color: #d4ebff;}#sk-container-id-2 div.sk-serial::before {content: \"\";position: absolute;border-left: 1px solid gray;box-sizing: border-box;top: 0;bottom: 0;left: 50%;z-index: 0;}#sk-container-id-2 div.sk-serial {display: flex;flex-direction: column;align-items: center;background-color: white;padding-right: 0.2em;padding-left: 0.2em;position: relative;}#sk-container-id-2 div.sk-item {position: relative;z-index: 1;}#sk-container-id-2 div.sk-parallel {display: flex;align-items: stretch;justify-content: center;background-color: white;position: relative;}#sk-container-id-2 div.sk-item::before, #sk-container-id-2 div.sk-parallel-item::before {content: \"\";position: absolute;border-left: 1px solid gray;box-sizing: border-box;top: 0;bottom: 0;left: 50%;z-index: -1;}#sk-container-id-2 div.sk-parallel-item {display: flex;flex-direction: column;z-index: 1;position: relative;background-color: white;}#sk-container-id-2 div.sk-parallel-item:first-child::after {align-self: flex-end;width: 50%;}#sk-container-id-2 div.sk-parallel-item:last-child::after {align-self: flex-start;width: 50%;}#sk-container-id-2 div.sk-parallel-item:only-child::after {width: 0;}#sk-container-id-2 div.sk-dashed-wrapped {border: 1px dashed gray;margin: 0 0.4em 0.5em 0.4em;box-sizing: border-box;padding-bottom: 0.4em;background-color: white;}#sk-container-id-2 div.sk-label label {font-family: monospace;font-weight: bold;display: inline-block;line-height: 1.2em;}#sk-container-id-2 div.sk-label-container {text-align: center;}#sk-container-id-2 div.sk-container {/* jupyter's `normalize.less` sets `[hidden] { display: none; }` but bootstrap.min.css set `[hidden] { display: none !important; }` so we also need the `!important` here to be able to override the default hidden behavior on the sphinx rendered scikit-learn.org. See: https://github.com/scikit-learn/scikit-learn/issues/21755 */display: inline-block !important;position: relative;}#sk-container-id-2 div.sk-text-repr-fallback {display: none;}</style><div id=\"sk-container-id-2\" class=\"sk-top-container\"><div class=\"sk-text-repr-fallback\"><pre>RandomForestClassifier(max_depth=5, max_features=&#x27;log2&#x27;, min_samples_leaf=2,\n",
              "                       n_estimators=300)</pre><b>In a Jupyter environment, please rerun this cell to show the HTML representation or trust the notebook. <br />On GitHub, the HTML representation is unable to render, please try loading this page with nbviewer.org.</b></div><div class=\"sk-container\" hidden><div class=\"sk-item\"><div class=\"sk-estimator sk-toggleable\"><input class=\"sk-toggleable__control sk-hidden--visually\" id=\"sk-estimator-id-4\" type=\"checkbox\" checked><label for=\"sk-estimator-id-4\" class=\"sk-toggleable__label sk-toggleable__label-arrow\">RandomForestClassifier</label><div class=\"sk-toggleable__content\"><pre>RandomForestClassifier(max_depth=5, max_features=&#x27;log2&#x27;, min_samples_leaf=2,\n",
              "                       n_estimators=300)</pre></div></div></div></div></div>"
            ]
          },
          "metadata": {},
          "execution_count": 53
        }
      ]
    },
    {
      "cell_type": "code",
      "source": [
        "y_pred_rf_best = rf_model.predict(X_test_concatenated)\n",
        "accuracy_rf_best = accuracy_score(y_test, y_pred_rf_best)\n",
        "print(f\"Random Forest after Hyperparameter tuning Accuracy: {accuracy_rf_best :.2f}\")\n",
        "print(classification_report(y_test, y_pred_rf_best))\n",
        "print(confusion_matrix(y_test, y_pred_rf_best))"
      ],
      "metadata": {
        "colab": {
          "base_uri": "https://localhost:8080/"
        },
        "id": "uiD1-rTt5jri",
        "outputId": "eb7976fe-c164-4e29-df4a-12da37f20691"
      },
      "execution_count": null,
      "outputs": [
        {
          "output_type": "stream",
          "name": "stdout",
          "text": [
            "Random Forest after Hyperparameter tuning Accuracy: 0.57\n",
            "              precision    recall  f1-score   support\n",
            "\n",
            "           0       0.46      0.80      0.59        15\n",
            "           1       0.79      0.44      0.56        25\n",
            "\n",
            "    accuracy                           0.57        40\n",
            "   macro avg       0.62      0.62      0.57        40\n",
            "weighted avg       0.66      0.57      0.57        40\n",
            "\n",
            "[[12  3]\n",
            " [14 11]]\n"
          ]
        }
      ]
    },
    {
      "cell_type": "markdown",
      "source": [
        "## Logistic regression"
      ],
      "metadata": {
        "id": "jC4NdGcRiyWZ"
      }
    },
    {
      "cell_type": "code",
      "source": [
        "from sklearn.metrics import accuracy_score, classification_report, confusion_matrix\n",
        "from sklearn.linear_model import LogisticRegression\n",
        "\n",
        "# Instantiate Logistic Regression model with the best parameters\n",
        "best_logistic_model = LogisticRegression(**best_params_logistic)\n"
      ],
      "metadata": {
        "id": "Ow8ZdbJfi1kS"
      },
      "execution_count": null,
      "outputs": []
    },
    {
      "cell_type": "code",
      "source": [
        "# Train the Logistic Regression model on the training data\n",
        "best_logistic_model.fit(X_train_concatenated, y_train)\n"
      ],
      "metadata": {
        "colab": {
          "base_uri": "https://localhost:8080/",
          "height": 74
        },
        "id": "KeVv1WSli_VO",
        "outputId": "2aa766f7-4db4-4339-df14-e772b370d653"
      },
      "execution_count": null,
      "outputs": [
        {
          "output_type": "execute_result",
          "data": {
            "text/plain": [
              "LogisticRegression(C=100, solver='liblinear')"
            ],
            "text/html": [
              "<style>#sk-container-id-3 {color: black;background-color: white;}#sk-container-id-3 pre{padding: 0;}#sk-container-id-3 div.sk-toggleable {background-color: white;}#sk-container-id-3 label.sk-toggleable__label {cursor: pointer;display: block;width: 100%;margin-bottom: 0;padding: 0.3em;box-sizing: border-box;text-align: center;}#sk-container-id-3 label.sk-toggleable__label-arrow:before {content: \"▸\";float: left;margin-right: 0.25em;color: #696969;}#sk-container-id-3 label.sk-toggleable__label-arrow:hover:before {color: black;}#sk-container-id-3 div.sk-estimator:hover label.sk-toggleable__label-arrow:before {color: black;}#sk-container-id-3 div.sk-toggleable__content {max-height: 0;max-width: 0;overflow: hidden;text-align: left;background-color: #f0f8ff;}#sk-container-id-3 div.sk-toggleable__content pre {margin: 0.2em;color: black;border-radius: 0.25em;background-color: #f0f8ff;}#sk-container-id-3 input.sk-toggleable__control:checked~div.sk-toggleable__content {max-height: 200px;max-width: 100%;overflow: auto;}#sk-container-id-3 input.sk-toggleable__control:checked~label.sk-toggleable__label-arrow:before {content: \"▾\";}#sk-container-id-3 div.sk-estimator input.sk-toggleable__control:checked~label.sk-toggleable__label {background-color: #d4ebff;}#sk-container-id-3 div.sk-label input.sk-toggleable__control:checked~label.sk-toggleable__label {background-color: #d4ebff;}#sk-container-id-3 input.sk-hidden--visually {border: 0;clip: rect(1px 1px 1px 1px);clip: rect(1px, 1px, 1px, 1px);height: 1px;margin: -1px;overflow: hidden;padding: 0;position: absolute;width: 1px;}#sk-container-id-3 div.sk-estimator {font-family: monospace;background-color: #f0f8ff;border: 1px dotted black;border-radius: 0.25em;box-sizing: border-box;margin-bottom: 0.5em;}#sk-container-id-3 div.sk-estimator:hover {background-color: #d4ebff;}#sk-container-id-3 div.sk-parallel-item::after {content: \"\";width: 100%;border-bottom: 1px solid gray;flex-grow: 1;}#sk-container-id-3 div.sk-label:hover label.sk-toggleable__label {background-color: #d4ebff;}#sk-container-id-3 div.sk-serial::before {content: \"\";position: absolute;border-left: 1px solid gray;box-sizing: border-box;top: 0;bottom: 0;left: 50%;z-index: 0;}#sk-container-id-3 div.sk-serial {display: flex;flex-direction: column;align-items: center;background-color: white;padding-right: 0.2em;padding-left: 0.2em;position: relative;}#sk-container-id-3 div.sk-item {position: relative;z-index: 1;}#sk-container-id-3 div.sk-parallel {display: flex;align-items: stretch;justify-content: center;background-color: white;position: relative;}#sk-container-id-3 div.sk-item::before, #sk-container-id-3 div.sk-parallel-item::before {content: \"\";position: absolute;border-left: 1px solid gray;box-sizing: border-box;top: 0;bottom: 0;left: 50%;z-index: -1;}#sk-container-id-3 div.sk-parallel-item {display: flex;flex-direction: column;z-index: 1;position: relative;background-color: white;}#sk-container-id-3 div.sk-parallel-item:first-child::after {align-self: flex-end;width: 50%;}#sk-container-id-3 div.sk-parallel-item:last-child::after {align-self: flex-start;width: 50%;}#sk-container-id-3 div.sk-parallel-item:only-child::after {width: 0;}#sk-container-id-3 div.sk-dashed-wrapped {border: 1px dashed gray;margin: 0 0.4em 0.5em 0.4em;box-sizing: border-box;padding-bottom: 0.4em;background-color: white;}#sk-container-id-3 div.sk-label label {font-family: monospace;font-weight: bold;display: inline-block;line-height: 1.2em;}#sk-container-id-3 div.sk-label-container {text-align: center;}#sk-container-id-3 div.sk-container {/* jupyter's `normalize.less` sets `[hidden] { display: none; }` but bootstrap.min.css set `[hidden] { display: none !important; }` so we also need the `!important` here to be able to override the default hidden behavior on the sphinx rendered scikit-learn.org. See: https://github.com/scikit-learn/scikit-learn/issues/21755 */display: inline-block !important;position: relative;}#sk-container-id-3 div.sk-text-repr-fallback {display: none;}</style><div id=\"sk-container-id-3\" class=\"sk-top-container\"><div class=\"sk-text-repr-fallback\"><pre>LogisticRegression(C=100, solver=&#x27;liblinear&#x27;)</pre><b>In a Jupyter environment, please rerun this cell to show the HTML representation or trust the notebook. <br />On GitHub, the HTML representation is unable to render, please try loading this page with nbviewer.org.</b></div><div class=\"sk-container\" hidden><div class=\"sk-item\"><div class=\"sk-estimator sk-toggleable\"><input class=\"sk-toggleable__control sk-hidden--visually\" id=\"sk-estimator-id-5\" type=\"checkbox\" checked><label for=\"sk-estimator-id-5\" class=\"sk-toggleable__label sk-toggleable__label-arrow\">LogisticRegression</label><div class=\"sk-toggleable__content\"><pre>LogisticRegression(C=100, solver=&#x27;liblinear&#x27;)</pre></div></div></div></div></div>"
            ]
          },
          "metadata": {},
          "execution_count": 57
        }
      ]
    },
    {
      "cell_type": "code",
      "source": [
        "# Predict labels for the test data\n",
        "y_pred_logistic_best = best_logistic_model.predict(X_test_concatenated)\n",
        "\n",
        "# Calculate accuracy\n",
        "accuracy_logistic_best = accuracy_score(y_test, y_pred_logistic_best)\n",
        "\n",
        "# Print accuracy and other metrics\n",
        "print(f\"Logistic Regression after Hyperparameter tuning Accuracy: {accuracy_logistic_best:.2f}\")\n",
        "print(classification_report(y_test, y_pred_logistic_best))\n",
        "print(confusion_matrix(y_test, y_pred_logistic_best))"
      ],
      "metadata": {
        "colab": {
          "base_uri": "https://localhost:8080/"
        },
        "id": "hYXVjo-3jCPX",
        "outputId": "39717f97-b600-4701-98fc-0cb2663064b9"
      },
      "execution_count": null,
      "outputs": [
        {
          "output_type": "stream",
          "name": "stdout",
          "text": [
            "Logistic Regression after Hyperparameter tuning Accuracy: 0.72\n",
            "              precision    recall  f1-score   support\n",
            "\n",
            "           0       0.62      0.67      0.65        15\n",
            "           1       0.79      0.76      0.78        25\n",
            "\n",
            "    accuracy                           0.73        40\n",
            "   macro avg       0.71      0.71      0.71        40\n",
            "weighted avg       0.73      0.72      0.73        40\n",
            "\n",
            "[[10  5]\n",
            " [ 6 19]]\n"
          ]
        }
      ]
    },
    {
      "cell_type": "markdown",
      "source": [
        "# **Model Prediction**"
      ],
      "metadata": {
        "id": "5TRLShYYPjU6"
      }
    },
    {
      "cell_type": "code",
      "source": [
        "import torch\n",
        "\n",
        "def get_text_embeddings(text, model_name, tokenizer_name=\"bert-base-uncased\"):\n",
        "    \"\"\"\n",
        "    Gets text embeddings for a new text input using a pre-trained model.\n",
        "\n",
        "    Args:\n",
        "        text (str): The new text input.\n",
        "        model_name (str): The name of the pre-trained model (e.g., \"ai4bharat/indic-bert\", \"bert-base-uncased\").\n",
        "        tokenizer_name (str, optional): The name of the tokenizer (defaults to \"bert-base-uncased\").\n",
        "        device (str or torch.device, optional): The device to use for computations (CPU or GPU). Defaults to None (CPU).\n",
        "\n",
        "    Returns:\n",
        "        torch.Tensor: The text embedding vector.\n",
        "    \"\"\"\n",
        "\n",
        "    from transformers import AutoTokenizer, AutoModel\n",
        "\n",
        "    # Load tokenizer and model based on provided names\n",
        "    tokenizer = AutoTokenizer.from_pretrained(tokenizer_name)\n",
        "    model = AutoModel.from_pretrained(model_name)\n",
        "\n",
        "    # Tokenize the text\n",
        "    tokens = tokenizer(text, return_tensors='pt', padding=True, truncation=True)\n",
        "\n",
        "\n",
        "    # Forward pass through the model (without gradients)\n",
        "    with torch.no_grad():\n",
        "        outputs = model(**tokens)\n",
        "\n",
        "    # Extract embeddings (consider different pooling strategies)\n",
        "    embeddings = torch.mean(outputs.last_hidden_state, dim=1)  # Averaging\n",
        "\n",
        "    return embeddings"
      ],
      "metadata": {
        "id": "Ct5ty3qH6S-I"
      },
      "execution_count": null,
      "outputs": []
    },
    {
      "cell_type": "code",
      "source": [
        "new_review = \"ఈ ఫోన్ డి అద్భుతం అయినా డిజైన్ మంచి బాటరీ లేటెస్ట్ ఆండ్రాయిడ్ కూడా ఉండటం ప్లస్ అని చెపొచ్చు\"\n",
        "model_name = \"ai4bharat/indic-bert\"\n",
        "emb = get_text_embeddings(new_review,model_name)\n",
        "unigrams_new = get_ngrams(new_review, 1)\n",
        "bigrams_new = get_ngrams(new_review, 2)\n",
        "trigrams_new = get_ngrams(new_review, 3)\n",
        "\n",
        "n_gram_new_review = unigrams_new + bigrams_new + trigrams_new\n",
        "\n",
        "rf_prediction = rf_model.predict(emb.cpu().numpy().reshape(1, -1))\n",
        "lr_prediction = best_logistic_model.predict(emb.cpu().numpy().reshape(1, -1))\n",
        "print(f\"Random Forest prediction{rf_prediction}\")\n",
        "print(f\"Logistic Regression prediction{lr_prediction}\")\n"
      ],
      "metadata": {
        "colab": {
          "base_uri": "https://localhost:8080/"
        },
        "id": "bWBnMlidYvsO",
        "outputId": "327bad54-e02d-4c1a-dd7c-de425318833d"
      },
      "execution_count": null,
      "outputs": [
        {
          "output_type": "stream",
          "name": "stdout",
          "text": [
            "Random Forest prediction[1]\n",
            "Logistic Regression prediction[1]\n"
          ]
        }
      ]
    },
    {
      "cell_type": "code",
      "source": [
        "import pickle\n",
        "\n",
        "with open('rf_model.pkl', 'wb') as f:\n",
        "    pickle.dump(rf_model, f)\n",
        "\n",
        "with open('best_logistic_model.pkl', 'wb') as f:\n",
        "    pickle.dump(best_logistic_model, f)\n"
      ],
      "metadata": {
        "id": "V_S7-e_E9MC8"
      },
      "execution_count": null,
      "outputs": []
    },
    {
      "cell_type": "code",
      "source": [],
      "metadata": {
        "id": "F5tkD_8fmE4c"
      },
      "execution_count": null,
      "outputs": []
    }
  ],
  "metadata": {
    "colab": {
      "provenance": []
    },
    "kernelspec": {
      "display_name": "Python 3 (ipykernel)",
      "language": "python",
      "name": "python3"
    },
    "language_info": {
      "codemirror_mode": {
        "name": "ipython",
        "version": 3
      },
      "file_extension": ".py",
      "mimetype": "text/x-python",
      "name": "python",
      "nbconvert_exporter": "python",
      "pygments_lexer": "ipython3",
      "version": "3.11.3"
    }
  },
  "nbformat": 4,
  "nbformat_minor": 0
}